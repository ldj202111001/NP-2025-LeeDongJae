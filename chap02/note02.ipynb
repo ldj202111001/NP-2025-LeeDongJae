{
 "cells": [
  {
   "cell_type": "markdown",
   "id": "2a461942",
   "metadata": {},
   "source": [
    "# 기본 입출력 함수\n",
    "\n"
   ]
  },
  {
   "cell_type": "markdown",
   "id": "296456b2",
   "metadata": {},
   "source": [
    "#### - print() 함수\n",
    "코드 실행중 데이터 흐름을 추적하거나 디버깅할 때 활용"
   ]
  },
  {
   "cell_type": "code",
   "execution_count": 1,
   "id": "d6e8d09b",
   "metadata": {},
   "outputs": [
    {
     "name": "stdout",
     "output_type": "stream",
     "text": [
      "Hello\n"
     ]
    }
   ],
   "source": [
    "print(\"Hello\")"
   ]
  },
  {
   "cell_type": "code",
   "execution_count": 2,
   "id": "f22746e9",
   "metadata": {},
   "outputs": [
    {
     "name": "stdout",
     "output_type": "stream",
     "text": [
      "30\n"
     ]
    }
   ],
   "source": [
    "print(10+20)"
   ]
  },
  {
   "cell_type": "code",
   "execution_count": 3,
   "id": "28960ae5",
   "metadata": {},
   "outputs": [
    {
     "name": "stdout",
     "output_type": "stream",
     "text": [
      "x = 3\n",
      "y = 7\n",
      "3 + 7 = 10\n"
     ]
    }
   ],
   "source": [
    "x = 3\n",
    "y = 7\n",
    "z = x + y\n",
    "print(f\"x = {x}\")\n",
    "print(f\"y = {y}\")\n",
    "print(x, '+', y, '=',z) #문자열과 변수의 조합출력"
   ]
  },
  {
   "cell_type": "markdown",
   "id": "7ab1b728",
   "metadata": {},
   "source": [
    "#### - print() 함수의 서식지정"
   ]
  },
  {
   "cell_type": "code",
   "execution_count": 13,
   "id": "436020a8",
   "metadata": {},
   "outputs": [
    {
     "name": "stdout",
     "output_type": "stream",
     "text": [
      "1020\n",
      "3번출력 3번출력 3번출력 \n"
     ]
    }
   ],
   "source": [
    "print(\"10\" + \"20\")\n",
    "print(\"3번출력 \" * 3)\n"
   ]
  },
  {
   "cell_type": "code",
   "execution_count": null,
   "id": "4e7b80cf",
   "metadata": {},
   "outputs": [
    {
     "name": "stdout",
     "output_type": "stream",
     "text": [
      "n=10\n",
      "n=a\n"
     ]
    }
   ],
   "source": [
    "n = 10\n",
    "print(\"n=%d\" %n) # 서식 지정 출력 10진수로 변환\n",
    "print(\"n=%x\" %n) # 16진수로 변환"
   ]
  },
  {
   "cell_type": "markdown",
   "id": "1d785d13",
   "metadata": {},
   "source": [
    "#### - input() 함수\n",
    "사용자 지정 데이터 입력  \n",
    "input 함수는 default로 항상 문자열로 반환"
   ]
  },
  {
   "cell_type": "code",
   "execution_count": null,
   "id": "fa0829f1",
   "metadata": {},
   "outputs": [
    {
     "data": {
      "text/plain": [
       "'3'"
      ]
     },
     "execution_count": 5,
     "metadata": {},
     "output_type": "execute_result"
    }
   ],
   "source": [
    "n = input(\"type a number: \") # 예시 입력: 3\n",
    "n\n"
   ]
  },
  {
   "cell_type": "code",
   "execution_count": 6,
   "id": "a7b0e3e7",
   "metadata": {},
   "outputs": [
    {
     "data": {
      "text/plain": [
       "3"
      ]
     },
     "execution_count": 6,
     "metadata": {},
     "output_type": "execute_result"
    }
   ],
   "source": [
    "int(n) #문자열을 정수로 변환\n"
   ]
  },
  {
   "cell_type": "code",
   "execution_count": 7,
   "id": "a0c5d05b",
   "metadata": {},
   "outputs": [
    {
     "data": {
      "text/plain": [
       "3.0"
      ]
     },
     "execution_count": 7,
     "metadata": {},
     "output_type": "execute_result"
    }
   ],
   "source": [
    "float(n) #문자열을 실수형으로 변환\n"
   ]
  },
  {
   "cell_type": "code",
   "execution_count": 8,
   "id": "052117ba",
   "metadata": {},
   "outputs": [
    {
     "data": {
      "text/plain": [
       "'3'"
      ]
     },
     "execution_count": 8,
     "metadata": {},
     "output_type": "execute_result"
    }
   ],
   "source": [
    "n = str(3) #정수를 다시 문자열로 변환\n",
    "n"
   ]
  },
  {
   "cell_type": "markdown",
   "id": "9ec1dbef",
   "metadata": {},
   "source": [
    "#### - 입출력 함수의 사용 예시"
   ]
  },
  {
   "cell_type": "markdown",
   "id": "5a1ce382",
   "metadata": {},
   "source": [
    "문자열 입력 받아 다른 문자열과 결합 후 출력"
   ]
  },
  {
   "cell_type": "code",
   "execution_count": 12,
   "id": "c9043acc",
   "metadata": {},
   "outputs": [
    {
     "name": "stdout",
     "output_type": "stream",
     "text": [
      "Hello,Lee\n"
     ]
    }
   ],
   "source": [
    "name = input('Name: ')\n",
    "print(\"Hello,\" + name)"
   ]
  },
  {
   "cell_type": "markdown",
   "id": "be4fde2b",
   "metadata": {},
   "source": [
    "정수로 변환 후 곱셉값 출력"
   ]
  },
  {
   "cell_type": "code",
   "execution_count": null,
   "id": "f6916d9f",
   "metadata": {},
   "outputs": [
    {
     "name": "stdout",
     "output_type": "stream",
     "text": [
      "20\n"
     ]
    }
   ],
   "source": [
    "a = int(input('Number1: ')) # 예시 입력: 4\n",
    "b = int(input('Number2: ')) # 예시 입력: 5\n",
    "print(a * b)"
   ]
  },
  {
   "cell_type": "markdown",
   "id": "dfaacc53",
   "metadata": {},
   "source": [
    "섭씨온도(C)를 입력 받아 화씨온도(F)로 바꾸어 출력"
   ]
  },
  {
   "cell_type": "code",
   "execution_count": null,
   "id": "808db141",
   "metadata": {},
   "outputs": [
    {
     "name": "stdout",
     "output_type": "stream",
     "text": [
      "화씨온도는 78.8\n"
     ]
    }
   ],
   "source": [
    "# 예시 입력: 26\n",
    "C = float(input(\"Type 섭씨온도 : \")) # 입력 문자열을 실수로 변환\n",
    "F = C*9/5 + 32 # 화씨로 온도 변환\n",
    "print(\"화씨온도는\", F)"
   ]
  },
  {
   "cell_type": "markdown",
   "id": "2014e5c8",
   "metadata": {},
   "source": [
    "# 기본 자료형\n",
    "1. 부울\n",
    "2. 정수\n",
    "3. 실수\n",
    "4. 문자열"
   ]
  },
  {
   "cell_type": "markdown",
   "id": "5e7b80f3",
   "metadata": {},
   "source": [
    "#### - 부울형 (Boolean)\n",
    "True 또는 False 중 하나의 값을 갖는 자료형"
   ]
  },
  {
   "cell_type": "code",
   "execution_count": null,
   "id": "df04672d",
   "metadata": {},
   "outputs": [],
   "source": [
    "aVar = True\n",
    "bVar = False\n",
    "type(aVar)"
   ]
  },
  {
   "cell_type": "markdown",
   "id": "32a1c5d5",
   "metadata": {},
   "source": [
    "파이썬 인터프리터가 a > b 비교식을 자동으로 평가"
   ]
  },
  {
   "cell_type": "code",
   "execution_count": 1,
   "id": "ef17d565",
   "metadata": {},
   "outputs": [
    {
     "data": {
      "text/plain": [
       "False"
      ]
     },
     "execution_count": 1,
     "metadata": {},
     "output_type": "execute_result"
    }
   ],
   "source": [
    "a = 1\n",
    "b = 2\n",
    "c = a > b \n",
    "c"
   ]
  },
  {
   "cell_type": "markdown",
   "id": "e051f86c",
   "metadata": {},
   "source": [
    "#### - 정수형 (interger)"
   ]
  },
  {
   "cell_type": "markdown",
   "id": "79e227ba",
   "metadata": {},
   "source": [
    "소수점 없는 숫자 표현"
   ]
  },
  {
   "cell_type": "code",
   "execution_count": 2,
   "id": "776e182c",
   "metadata": {},
   "outputs": [
    {
     "data": {
      "text/plain": [
       "int"
      ]
     },
     "execution_count": 2,
     "metadata": {},
     "output_type": "execute_result"
    }
   ],
   "source": [
    "intVar = 5\n",
    "type(intVar)\n"
   ]
  },
  {
   "cell_type": "markdown",
   "id": "8fb93ab2",
   "metadata": {},
   "source": [
    "정수의 여러가지 표현"
   ]
  },
  {
   "cell_type": "code",
   "execution_count": null,
   "id": "5cf107ac",
   "metadata": {},
   "outputs": [
    {
     "data": {
      "text/plain": [
       "(1, 23, 3493)"
      ]
     },
     "execution_count": 5,
     "metadata": {},
     "output_type": "execute_result"
    }
   ],
   "source": [
    "1, 23, 3493 # 10진수"
   ]
  },
  {
   "cell_type": "code",
   "execution_count": null,
   "id": "7b7dcac0",
   "metadata": {},
   "outputs": [
    {
     "data": {
      "text/plain": [
       "(21, 50)"
      ]
     },
     "execution_count": 6,
     "metadata": {},
     "output_type": "execute_result"
    }
   ],
   "source": [
    "0b010101, 0b110010 # 2진수 ob"
   ]
  },
  {
   "cell_type": "code",
   "execution_count": null,
   "id": "8910588f",
   "metadata": {},
   "outputs": [
    {
     "data": {
      "text/plain": [
       "(1, 23, 3493)"
      ]
     },
     "execution_count": 7,
     "metadata": {},
     "output_type": "execute_result"
    }
   ],
   "source": [
    "0o1, 0o27, 0o6645 # 8진수 0o"
   ]
  },
  {
   "cell_type": "code",
   "execution_count": null,
   "id": "07d4c1c6",
   "metadata": {},
   "outputs": [
    {
     "data": {
      "text/plain": [
       "(1, 23, 3493)"
      ]
     },
     "execution_count": 8,
     "metadata": {},
     "output_type": "execute_result"
    }
   ],
   "source": [
    "0x1, 0x17, 0xDA5 # 16진진수 0x"
   ]
  },
  {
   "cell_type": "markdown",
   "id": "36341ec1",
   "metadata": {},
   "source": [
    "#### - 실수형 (float)"
   ]
  },
  {
   "cell_type": "code",
   "execution_count": 9,
   "id": "542435a2",
   "metadata": {},
   "outputs": [
    {
     "data": {
      "text/plain": [
       "float"
      ]
     },
     "execution_count": 9,
     "metadata": {},
     "output_type": "execute_result"
    }
   ],
   "source": [
    "fVar = 1.0\n",
    "type(fVar)"
   ]
  },
  {
   "cell_type": "markdown",
   "id": "0450bbb2",
   "metadata": {},
   "source": [
    "언더 바 (_) 는 실제 값에 영향을 주지 않고 쉽게 식별할 수 있는 기능"
   ]
  },
  {
   "cell_type": "code",
   "execution_count": 10,
   "id": "1a15b7c8",
   "metadata": {},
   "outputs": [
    {
     "data": {
      "text/plain": [
       "(100000.0000001, 65535, 4095, 170)"
      ]
     },
     "execution_count": 10,
     "metadata": {},
     "output_type": "execute_result"
    }
   ],
   "source": [
    "100_000.000_0001, 0x_FF_FF, 0o7_777, 0b_1010_1010"
   ]
  },
  {
   "cell_type": "markdown",
   "id": "3b0b28f5",
   "metadata": {},
   "source": [
    "#### - 문자열 (string)"
   ]
  },
  {
   "cell_type": "code",
   "execution_count": 11,
   "id": "c5a4ce43",
   "metadata": {},
   "outputs": [
    {
     "data": {
      "text/plain": [
       "str"
      ]
     },
     "execution_count": 11,
     "metadata": {},
     "output_type": "execute_result"
    }
   ],
   "source": [
    "strVar = \"test\"\n",
    "type(strVar)"
   ]
  },
  {
   "cell_type": "markdown",
   "id": "ea8cf169",
   "metadata": {},
   "source": [
    "작은따옴표(')와 큰따옴표(\")는 기능상 차이가 없다"
   ]
  },
  {
   "cell_type": "code",
   "execution_count": 13,
   "id": "4240a443",
   "metadata": {},
   "outputs": [
    {
     "name": "stdout",
     "output_type": "stream",
     "text": [
      "This is a literal string\n",
      "This is another string\n"
     ]
    }
   ],
   "source": [
    "print('This is a literal string')\n",
    "print(\"This is another string\")"
   ]
  },
  {
   "cell_type": "markdown",
   "id": "d16f814b",
   "metadata": {},
   "source": [
    "문장을 두 줄 이상으로 표시할 경우 역슬러시 사용"
   ]
  },
  {
   "cell_type": "code",
   "execution_count": 14,
   "id": "200b49c0",
   "metadata": {},
   "outputs": [
    {
     "data": {
      "text/plain": [
       "'A not very long string that spans two lines'"
      ]
     },
     "execution_count": 14,
     "metadata": {},
     "output_type": "execute_result"
    }
   ],
   "source": [
    "'A not very long string \\\n",
    "that spans two lines'"
   ]
  },
  {
   "cell_type": "markdown",
   "id": "ca36de24",
   "metadata": {},
   "source": [
    "# 연산자\n",
    "1. 지정 연산자\n",
    "2. 산술 연산자\n",
    "3. 논리 연산자\n",
    "4. 관계 연산자\n",
    "5. 멤버 연산자\n",
    "6. 식별 연산자\n",
    "7. 연산 오류"
   ]
  },
  {
   "cell_type": "markdown",
   "id": "5db3b937",
   "metadata": {},
   "source": [
    "#### - 지정 연산자 (assignment operator)  \n",
    "변수나 표현에 값을 할당"
   ]
  },
  {
   "cell_type": "code",
   "execution_count": 17,
   "id": "52632585",
   "metadata": {},
   "outputs": [
    {
     "data": {
      "text/plain": [
       "5"
      ]
     },
     "execution_count": 17,
     "metadata": {},
     "output_type": "execute_result"
    }
   ],
   "source": [
    "i = 3\n",
    "i = i + 2\n",
    "i"
   ]
  },
  {
   "cell_type": "markdown",
   "id": "0cfc8207",
   "metadata": {},
   "source": [
    "#### - 산술 연산자 (arithmetic operator)\n",
    "사칙 연산자, 정수 나눗셈, 나머지 연산자"
   ]
  },
  {
   "cell_type": "code",
   "execution_count": 20,
   "id": "c0632b0c",
   "metadata": {},
   "outputs": [
    {
     "name": "stdout",
     "output_type": "stream",
     "text": [
      "c의 값:  1\n",
      "d의 값:  3\n",
      "e의 값:  3.3333333333333335\n",
      "f의 값:  30\n",
      "g의 값:  1000\n"
     ]
    }
   ],
   "source": [
    "a = 10\n",
    "b = 3\n",
    "c = a % b # 나머지 연산\n",
    "d = a // b # 정수 나눗셈\n",
    "e = a / b\n",
    "f = a * b # 곱셈\n",
    "g = a ** b # 제곱\n",
    "print('c의 값: ', c)\n",
    "print('d의 값: ', d)\n",
    "print('e의 값: ', e)\n",
    "print('f의 값: ', f)\n",
    "print('g의 값: ', g)"
   ]
  },
  {
   "cell_type": "markdown",
   "id": "cf687aff",
   "metadata": {},
   "source": [
    "#### - 관계 연산자 (relation operator)\n",
    "두 값을 비교하여 boolean 값 반환"
   ]
  },
  {
   "cell_type": "code",
   "execution_count": 21,
   "id": "c4bdc242",
   "metadata": {},
   "outputs": [
    {
     "name": "stdout",
     "output_type": "stream",
     "text": [
      "True\n",
      "False\n",
      "False\n",
      "True\n"
     ]
    }
   ],
   "source": [
    "score = 95\n",
    "print(score >= 90)\n",
    "print(score < 80)\n",
    "print(score == 90)\n",
    "print(score != 80) "
   ]
  },
  {
   "cell_type": "markdown",
   "id": "28b8ab29",
   "metadata": {},
   "source": [
    "#### - 논리 연산자(logical operator)\n",
    "논리곱 (and), 논리합 (or), 논리부정 (not)\n",
    "결과 값은 boolean"
   ]
  },
  {
   "cell_type": "code",
   "execution_count": 23,
   "id": "3e830f10",
   "metadata": {},
   "outputs": [
    {
     "name": "stdout",
     "output_type": "stream",
     "text": [
      "True\n",
      "False\n",
      "False\n"
     ]
    }
   ],
   "source": [
    "exam = 85\n",
    "report = 85\n",
    "print(exam >= 80 and report >= 80)\n",
    "print(exam >= 90 or report >= 90)\n",
    "print(not(exam < 90))"
   ]
  },
  {
   "cell_type": "markdown",
   "id": "ccb9d283",
   "metadata": {},
   "source": []
  },
  {
   "cell_type": "markdown",
   "id": "fac2d5ea",
   "metadata": {},
   "source": []
  }
 ],
 "metadata": {
  "kernelspec": {
   "display_name": "Python 3",
   "language": "python",
   "name": "python3"
  },
  "language_info": {
   "codemirror_mode": {
    "name": "ipython",
    "version": 3
   },
   "file_extension": ".py",
   "mimetype": "text/x-python",
   "name": "python",
   "nbconvert_exporter": "python",
   "pygments_lexer": "ipython3",
   "version": "3.11.9"
  }
 },
 "nbformat": 4,
 "nbformat_minor": 5
}
