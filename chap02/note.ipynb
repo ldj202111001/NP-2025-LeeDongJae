{
 "cells": [
  {
   "cell_type": "markdown",
   "id": "8c4fd43c",
   "metadata": {},
   "source": [
    "# 2장 노트정리\n",
    "이 파일은 2장을 학습하면서 실행한 내용을 정리한 것이다.   \n",
    "\n",
    "날짜: 2025.09.09  \n",
    "\n",
    "이름: 이동재   \n"
   ]
  },
  {
   "cell_type": "markdown",
   "id": "2a461942",
   "metadata": {},
   "source": [
    "### 기본 입출력 함수\n",
    "\n"
   ]
  },
  {
   "cell_type": "markdown",
   "id": "296456b2",
   "metadata": {},
   "source": [
    "#### - print() 함수\n",
    "코드 실행중 데이터 흐름을 추적하거나 디버깅할 때 활용"
   ]
  },
  {
   "cell_type": "code",
   "execution_count": 2,
   "id": "d6e8d09b",
   "metadata": {},
   "outputs": [
    {
     "name": "stdout",
     "output_type": "stream",
     "text": [
      "Hello\n"
     ]
    }
   ],
   "source": [
    "print(\"Hello\")"
   ]
  },
  {
   "cell_type": "code",
   "execution_count": 3,
   "id": "f22746e9",
   "metadata": {},
   "outputs": [
    {
     "name": "stdout",
     "output_type": "stream",
     "text": [
      "30\n"
     ]
    }
   ],
   "source": [
    "print(10+20)"
   ]
  },
  {
   "cell_type": "code",
   "execution_count": 4,
   "id": "28960ae5",
   "metadata": {},
   "outputs": [
    {
     "name": "stdout",
     "output_type": "stream",
     "text": [
      "x = 3\n",
      "y = 7\n",
      "3 + 7 = 10\n"
     ]
    }
   ],
   "source": [
    "x = 3\n",
    "y = 7\n",
    "z = x + y\n",
    "print(f\"x = {x}\")\n",
    "print(f\"y = {y}\")\n",
    "print(x, '+', y, '=',z) #문자열과 변수의 조합출력"
   ]
  },
  {
   "cell_type": "markdown",
   "id": "7ab1b728",
   "metadata": {},
   "source": [
    "#### - print() 함수의 서식지정"
   ]
  },
  {
   "cell_type": "code",
   "execution_count": null,
   "id": "436020a8",
   "metadata": {},
   "outputs": [],
   "source": [
    "print(\"10\" + \"20\")\n",
    "print(\"3번출력 \" * 3)\n",
    "n = 10\n",
    "print(\"n=%d\" %n) #서식 지정 출력"
   ]
  },
  {
   "cell_type": "markdown",
   "id": "1d785d13",
   "metadata": {},
   "source": [
    "#### - input() 함수\n",
    "사용자 지정 데이터 입력"
   ]
  },
  {
   "cell_type": "code",
   "execution_count": 9,
   "id": "fa0829f1",
   "metadata": {},
   "outputs": [],
   "source": [
    "n = input(\"type a number: \")"
   ]
  },
  {
   "cell_type": "markdown",
   "id": "6d6ff8a0",
   "metadata": {},
   "source": [
    " type a number : 3"
   ]
  },
  {
   "cell_type": "code",
   "execution_count": 8,
   "id": "c9043acc",
   "metadata": {},
   "outputs": [
    {
     "data": {
      "text/plain": [
       "False"
      ]
     },
     "execution_count": 8,
     "metadata": {},
     "output_type": "execute_result"
    }
   ],
   "source": [
    "aVar = True\n",
    "type(aVar) \n",
    "\n",
    "a=1\n",
    "b=2\n",
    "c=a>b\n",
    "c"
   ]
  },
  {
   "cell_type": "code",
   "execution_count": null,
   "id": "82023ce0",
   "metadata": {},
   "outputs": [],
   "source": [
    "dir(bool)"
   ]
  }
 ],
 "metadata": {
  "kernelspec": {
   "display_name": "Python 3",
   "language": "python",
   "name": "python3"
  },
  "language_info": {
   "codemirror_mode": {
    "name": "ipython",
    "version": 3
   },
   "file_extension": ".py",
   "mimetype": "text/x-python",
   "name": "python",
   "nbconvert_exporter": "python",
   "pygments_lexer": "ipython3",
   "version": "3.11.9"
  }
 },
 "nbformat": 4,
 "nbformat_minor": 5
}
