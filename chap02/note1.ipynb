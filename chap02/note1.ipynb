{
 "cells": [
  {
   "cell_type": "markdown",
   "id": "8c4fd43c",
   "metadata": {},
   "source": [
    "# 01. 데이터형, 연산자, 표현식"
   ]
  },
  {
   "cell_type": "markdown",
   "id": "2a461942",
   "metadata": {},
   "source": [
    "### 기본 입출력 함수\n",
    "\n"
   ]
  },
  {
   "cell_type": "markdown",
   "id": "296456b2",
   "metadata": {},
   "source": [
    "#### - print() 함수\n",
    "코드 실행중 데이터 흐름을 추적하거나 디버깅할 때 활용"
   ]
  },
  {
   "cell_type": "code",
   "execution_count": 1,
   "id": "d6e8d09b",
   "metadata": {},
   "outputs": [
    {
     "name": "stdout",
     "output_type": "stream",
     "text": [
      "Hello\n"
     ]
    }
   ],
   "source": [
    "print(\"Hello\")"
   ]
  },
  {
   "cell_type": "code",
   "execution_count": 2,
   "id": "f22746e9",
   "metadata": {},
   "outputs": [
    {
     "name": "stdout",
     "output_type": "stream",
     "text": [
      "30\n"
     ]
    }
   ],
   "source": [
    "print(10+20)"
   ]
  },
  {
   "cell_type": "code",
   "execution_count": 3,
   "id": "28960ae5",
   "metadata": {},
   "outputs": [
    {
     "name": "stdout",
     "output_type": "stream",
     "text": [
      "x = 3\n",
      "y = 7\n",
      "3 + 7 = 10\n"
     ]
    }
   ],
   "source": [
    "x = 3\n",
    "y = 7\n",
    "z = x + y\n",
    "print(f\"x = {x}\")\n",
    "print(f\"y = {y}\")\n",
    "print(x, '+', y, '=',z) #문자열과 변수의 조합출력"
   ]
  },
  {
   "cell_type": "markdown",
   "id": "7ab1b728",
   "metadata": {},
   "source": [
    "#### - print() 함수의 서식지정"
   ]
  },
  {
   "cell_type": "code",
   "execution_count": 13,
   "id": "436020a8",
   "metadata": {},
   "outputs": [
    {
     "name": "stdout",
     "output_type": "stream",
     "text": [
      "1020\n",
      "3번출력 3번출력 3번출력 \n"
     ]
    }
   ],
   "source": [
    "print(\"10\" + \"20\")\n",
    "print(\"3번출력 \" * 3)\n"
   ]
  },
  {
   "cell_type": "code",
   "execution_count": null,
   "id": "4e7b80cf",
   "metadata": {},
   "outputs": [
    {
     "name": "stdout",
     "output_type": "stream",
     "text": [
      "n=10\n",
      "n=a\n"
     ]
    }
   ],
   "source": [
    "n = 10\n",
    "print(\"n=%d\" %n) # 서식 지정 출력 10진수로 변환\n",
    "print(\"n=%x\" %n) # 16진수로 변환"
   ]
  },
  {
   "cell_type": "markdown",
   "id": "1d785d13",
   "metadata": {},
   "source": [
    "#### - input() 함수\n",
    "사용자 지정 데이터 입력  \n",
    "input 함수는 default로 항상 문자열로 반환"
   ]
  },
  {
   "cell_type": "code",
   "execution_count": null,
   "id": "fa0829f1",
   "metadata": {},
   "outputs": [
    {
     "data": {
      "text/plain": [
       "'3'"
      ]
     },
     "execution_count": 5,
     "metadata": {},
     "output_type": "execute_result"
    }
   ],
   "source": [
    "n = input(\"type a number: \") # 예시 입력: 3\n",
    "n\n"
   ]
  },
  {
   "cell_type": "code",
   "execution_count": 6,
   "id": "a7b0e3e7",
   "metadata": {},
   "outputs": [
    {
     "data": {
      "text/plain": [
       "3"
      ]
     },
     "execution_count": 6,
     "metadata": {},
     "output_type": "execute_result"
    }
   ],
   "source": [
    "int(n) #문자열을 정수로 변환\n"
   ]
  },
  {
   "cell_type": "code",
   "execution_count": 7,
   "id": "a0c5d05b",
   "metadata": {},
   "outputs": [
    {
     "data": {
      "text/plain": [
       "3.0"
      ]
     },
     "execution_count": 7,
     "metadata": {},
     "output_type": "execute_result"
    }
   ],
   "source": [
    "float(n) #문자열을 실수형으로 변환\n"
   ]
  },
  {
   "cell_type": "code",
   "execution_count": 8,
   "id": "052117ba",
   "metadata": {},
   "outputs": [
    {
     "data": {
      "text/plain": [
       "'3'"
      ]
     },
     "execution_count": 8,
     "metadata": {},
     "output_type": "execute_result"
    }
   ],
   "source": [
    "n = str(3) #정수를 다시 문자열로 변환\n",
    "n"
   ]
  },
  {
   "cell_type": "markdown",
   "id": "9ec1dbef",
   "metadata": {},
   "source": [
    "#### - 입출력 함수의 사용 예시"
   ]
  },
  {
   "cell_type": "markdown",
   "id": "5a1ce382",
   "metadata": {},
   "source": [
    "문자열 입력 받아 다른 문자열과 결합 후 출력"
   ]
  },
  {
   "cell_type": "code",
   "execution_count": 12,
   "id": "c9043acc",
   "metadata": {},
   "outputs": [
    {
     "name": "stdout",
     "output_type": "stream",
     "text": [
      "Hello,Lee\n"
     ]
    }
   ],
   "source": [
    "name = input('Name: ')\n",
    "print(\"Hello,\" + name)"
   ]
  },
  {
   "cell_type": "markdown",
   "id": "be4fde2b",
   "metadata": {},
   "source": [
    "정수로 변환 후 곱셉값 출력"
   ]
  },
  {
   "cell_type": "code",
   "execution_count": null,
   "id": "f6916d9f",
   "metadata": {},
   "outputs": [
    {
     "name": "stdout",
     "output_type": "stream",
     "text": [
      "20\n"
     ]
    }
   ],
   "source": [
    "a = int(input('Number1: ')) # 예시 입력: 4\n",
    "b = int(input('Number2: ')) # 예시 입력: 5\n",
    "print(a * b)"
   ]
  },
  {
   "cell_type": "markdown",
   "id": "dfaacc53",
   "metadata": {},
   "source": [
    "섭씨온도(C)를 입력 받아 화씨온도(F)로 바꾸어 출력"
   ]
  },
  {
   "cell_type": "code",
   "execution_count": null,
   "id": "808db141",
   "metadata": {},
   "outputs": [
    {
     "name": "stdout",
     "output_type": "stream",
     "text": [
      "화씨온도는 78.8\n"
     ]
    }
   ],
   "source": [
    "# 예시 입력: 26\n",
    "C = float(input(\"Type 섭씨온도 : \")) # 입력 문자열을 실수로 변환\n",
    "F = C*9/5 + 32 # 화씨로 온도 변환\n",
    "print(\"화씨온도는\", F)"
   ]
  },
  {
   "cell_type": "markdown",
   "id": "97057a98",
   "metadata": {},
   "source": [
    "# 연습문제 1"
   ]
  },
  {
   "cell_type": "markdown",
   "id": "a981fd1a",
   "metadata": {},
   "source": [
    "1. 키보드에서 임의의 두 실수를 입력 받아 곱한 후 그 결과를 출력하는 프로그램 작성, 실행"
   ]
  },
  {
   "cell_type": "code",
   "execution_count": null,
   "id": "f5936127",
   "metadata": {},
   "outputs": [
    {
     "name": "stdout",
     "output_type": "stream",
     "text": [
      "18.0\n"
     ]
    }
   ],
   "source": [
    "f1 = float(input('input float1:')) # 예시 입력: 4.5\n",
    "f2 = float(input('input float2:')) # 예시 입력: 4\n",
    "print(f1 * f2)"
   ]
  },
  {
   "cell_type": "markdown",
   "id": "904ba362",
   "metadata": {},
   "source": [
    "2. 1마일은 1.609km이다. 키보드에서 마일(정수)을 입력 받아 km로 변환해 출력하는 프로그램을 작성하고실행하라"
   ]
  },
  {
   "cell_type": "code",
   "execution_count": null,
   "id": "7f851b88",
   "metadata": {},
   "outputs": [
    {
     "data": {
      "text/plain": [
       "4.827"
      ]
     },
     "execution_count": 28,
     "metadata": {},
     "output_type": "execute_result"
    }
   ],
   "source": [
    "m = int(input('input mile: ')) # 예시 입력: 3\n",
    "km = float(m) * 1.609\n",
    "float(km)"
   ]
  },
  {
   "cell_type": "markdown",
   "id": "2c0a73c8",
   "metadata": {},
   "source": [
    "3. 원의 반지름을 입력 받아 원의 둘레와 원의 면적을 출력하는 프로그램을 작성하라"
   ]
  },
  {
   "cell_type": "code",
   "execution_count": 31,
   "id": "d2095981",
   "metadata": {},
   "outputs": [
    {
     "name": "stdout",
     "output_type": "stream",
     "text": [
      "circumference:  25.132741228718345\n",
      "area:  50.26548245743669\n"
     ]
    }
   ],
   "source": [
    "import math\n",
    "\n",
    "# 예시 입력: 4\n",
    "r = float(input('input: radius'))\n",
    "pi = math.pi\n",
    "c = 2 * r * pi\n",
    "a = pow(r,2) * pi\n",
    "print('circumference: ', c)\n",
    "print('area: ', a)"
   ]
  }
 ],
 "metadata": {
  "kernelspec": {
   "display_name": "Python 3",
   "language": "python",
   "name": "python3"
  },
  "language_info": {
   "codemirror_mode": {
    "name": "ipython",
    "version": 3
   },
   "file_extension": ".py",
   "mimetype": "text/x-python",
   "name": "python",
   "nbconvert_exporter": "python",
   "pygments_lexer": "ipython3",
   "version": "3.11.9"
  }
 },
 "nbformat": 4,
 "nbformat_minor": 5
}
