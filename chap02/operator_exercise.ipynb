{
 "cells": [
  {
   "cell_type": "markdown",
   "id": "c02fcd8c",
   "metadata": {},
   "source": [
    "# 산술 및 관계 연산자 연습문제"
   ]
  },
  {
   "cell_type": "markdown",
   "id": "d9c4f016",
   "metadata": {},
   "source": [
    "1. 5와 3을 더한 값을 출력하는 프로그램"
   ]
  },
  {
   "cell_type": "code",
   "execution_count": 2,
   "id": "4c57c96b",
   "metadata": {},
   "outputs": [
    {
     "data": {
      "text/plain": [
       "8"
      ]
     },
     "execution_count": 2,
     "metadata": {},
     "output_type": "execute_result"
    }
   ],
   "source": [
    "a = 5\n",
    "b = 3\n",
    "c = a + b\n",
    "c"
   ]
  },
  {
   "cell_type": "markdown",
   "id": "a71cb7c6",
   "metadata": {},
   "source": [
    "2. 7에서 3을 뺀 값을 출력하는 프로그램"
   ]
  },
  {
   "cell_type": "code",
   "execution_count": 3,
   "id": "3b7a4d10",
   "metadata": {},
   "outputs": [
    {
     "data": {
      "text/plain": [
       "4"
      ]
     },
     "execution_count": 3,
     "metadata": {},
     "output_type": "execute_result"
    }
   ],
   "source": [
    "a = 7\n",
    "b = 3\n",
    "c = a - b\n",
    "c"
   ]
  },
  {
   "cell_type": "markdown",
   "id": "5b6711d2",
   "metadata": {},
   "source": [
    "3. 4를 2로 나눈 값을 출력하는 프로그램"
   ]
  },
  {
   "cell_type": "code",
   "execution_count": 5,
   "id": "ae239d61",
   "metadata": {},
   "outputs": [
    {
     "data": {
      "text/plain": [
       "2"
      ]
     },
     "execution_count": 5,
     "metadata": {},
     "output_type": "execute_result"
    }
   ],
   "source": [
    "a = 4\n",
    "b = 2\n",
    "c = 4 // 2\n",
    "c"
   ]
  },
  {
   "cell_type": "markdown",
   "id": "cab6e949",
   "metadata": {},
   "source": [
    "4. 8을 3으로 나눈 몫과 나머지를 출력하는 프로그램"
   ]
  },
  {
   "cell_type": "code",
   "execution_count": 6,
   "id": "9818a27b",
   "metadata": {},
   "outputs": [
    {
     "data": {
      "text/plain": [
       "(2, 2)"
      ]
     },
     "execution_count": 6,
     "metadata": {},
     "output_type": "execute_result"
    }
   ],
   "source": [
    "a = 8\n",
    "b = 3\n",
    "c = 8 // 3\n",
    "d = 8 % 3\n",
    "c , d"
   ]
  },
  {
   "cell_type": "markdown",
   "id": "52e517ef",
   "metadata": {},
   "source": [
    "5. 2의 5제곱을 출력하는 프로그램"
   ]
  },
  {
   "cell_type": "code",
   "execution_count": 7,
   "id": "e7715d04",
   "metadata": {},
   "outputs": [
    {
     "data": {
      "text/plain": [
       "32"
      ]
     },
     "execution_count": 7,
     "metadata": {},
     "output_type": "execute_result"
    }
   ],
   "source": [
    "a = 2\n",
    "b = 5\n",
    "c = 2 ** 5\n",
    "c"
   ]
  },
  {
   "cell_type": "markdown",
   "id": "b8b836c2",
   "metadata": {},
   "source": [
    "6. 입력된 정수가 10보다 크고 20보다 작은지 검사하는 프로그램"
   ]
  },
  {
   "cell_type": "code",
   "execution_count": null,
   "id": "3b144718",
   "metadata": {},
   "outputs": [
    {
     "name": "stdout",
     "output_type": "stream",
     "text": [
      "True\n"
     ]
    }
   ],
   "source": [
    "num = int(input('정수를 입력:')) # 예시 입력: 18\n",
    "print(10 < num < 20)"
   ]
  },
  {
   "cell_type": "markdown",
   "id": "26286029",
   "metadata": {},
   "source": [
    "7. 문자열 \"hello\"와 문자열 \"world\"를 이어 붙인 결과를 출력하는 프로그램"
   ]
  },
  {
   "cell_type": "code",
   "execution_count": 10,
   "id": "f5f3d630",
   "metadata": {},
   "outputs": [
    {
     "data": {
      "text/plain": [
       "'hello world'"
      ]
     },
     "execution_count": 10,
     "metadata": {},
     "output_type": "execute_result"
    }
   ],
   "source": [
    "s1 = \"hello \"\n",
    "s2 = \"world\"\n",
    "result = s1 + s2\n",
    "result"
   ]
  },
  {
   "cell_type": "markdown",
   "id": "64a20bb6",
   "metadata": {},
   "source": [
    "8. 7을 2로 나눈 결과가 3보다 작은지 검사하는 프로그램을 작성하라."
   ]
  },
  {
   "cell_type": "code",
   "execution_count": 11,
   "id": "e73d2e65",
   "metadata": {},
   "outputs": [
    {
     "name": "stdout",
     "output_type": "stream",
     "text": [
      "False\n"
     ]
    }
   ],
   "source": [
    "a = 7 / 2\n",
    "print(a < 3)"
   ]
  },
  {
   "cell_type": "markdown",
   "id": "8152dba0",
   "metadata": {},
   "source": [
    "9. 변수 x의 값이 5와 같지 않은지 검사하는 프로그램을 작성하라."
   ]
  },
  {
   "cell_type": "code",
   "execution_count": null,
   "id": "ecd651a6",
   "metadata": {},
   "outputs": [
    {
     "name": "stdout",
     "output_type": "stream",
     "text": [
      "False\n"
     ]
    }
   ],
   "source": [
    "x = int(input('정수를 입력:')) # 예시 입력: 5\n",
    "print(x != 5)"
   ]
  },
  {
   "cell_type": "markdown",
   "id": "c7a55eee",
   "metadata": {},
   "source": [
    "10. 변수 y의 값이 10에서 20 사이의 값인지 검사하는 프로그램을 작성하라."
   ]
  },
  {
   "cell_type": "code",
   "execution_count": 17,
   "id": "cfc72b87",
   "metadata": {},
   "outputs": [
    {
     "name": "stdout",
     "output_type": "stream",
     "text": [
      "True\n"
     ]
    }
   ],
   "source": [
    "x = int(input('정수를 입력:')) # 예시 입력: 15\n",
    "print(10 < x < 20)"
   ]
  },
  {
   "cell_type": "markdown",
   "id": "1dc6087c",
   "metadata": {},
   "source": [
    "# 논리 연산자 연습문제"
   ]
  },
  {
   "cell_type": "markdown",
   "id": "2de4680f",
   "metadata": {},
   "source": [
    "1. 5가 3보다 크고 7보다 작은지 검사하는 프로그램"
   ]
  },
  {
   "cell_type": "code",
   "execution_count": 1,
   "id": "ecbfbf7f",
   "metadata": {},
   "outputs": [
    {
     "name": "stdout",
     "output_type": "stream",
     "text": [
      "True\n"
     ]
    }
   ],
   "source": [
    "print(3 < 5 < 7)"
   ]
  },
  {
   "cell_type": "markdown",
   "id": "dcba488c",
   "metadata": {},
   "source": [
    "2. 변수 x가 10 이상이고 20 이하인지 검사하는 프로그램"
   ]
  },
  {
   "cell_type": "code",
   "execution_count": 2,
   "id": "37ca051e",
   "metadata": {},
   "outputs": [
    {
     "name": "stdout",
     "output_type": "stream",
     "text": [
      "True\n"
     ]
    }
   ],
   "source": [
    "x = 20\n",
    "print(10 <= x <= 20)"
   ]
  },
  {
   "cell_type": "markdown",
   "id": "f86c9957",
   "metadata": {},
   "source": [
    "3. 변수 y가 5의 배수이거나 7의 배수인지 검사하는 프로그램"
   ]
  },
  {
   "cell_type": "code",
   "execution_count": 6,
   "id": "4de2f9e9",
   "metadata": {},
   "outputs": [
    {
     "name": "stdout",
     "output_type": "stream",
     "text": [
      "True\n"
     ]
    }
   ],
   "source": [
    "y = 49\n",
    "print(y % 5 == 0 or y % 7 == 0)"
   ]
  },
  {
   "cell_type": "markdown",
   "id": "c271b1b6",
   "metadata": {},
   "source": [
    "4. 변수 z가 양수이면서 짝수인지 검사하는 프로그램"
   ]
  },
  {
   "cell_type": "code",
   "execution_count": 7,
   "id": "6d4a2aad",
   "metadata": {},
   "outputs": [
    {
     "name": "stdout",
     "output_type": "stream",
     "text": [
      "True\n"
     ]
    }
   ],
   "source": [
    "z = 10\n",
    "print(z > 0 or z % 2 == 0)"
   ]
  },
  {
   "cell_type": "markdown",
   "id": "55daaa4f",
   "metadata": {},
   "source": [
    "5. 변수 a가 문자열 \"hello\"나 문자열 \"world\" 중 하나인지 검사하는 프로그램"
   ]
  },
  {
   "cell_type": "code",
   "execution_count": 13,
   "id": "eae2c702",
   "metadata": {},
   "outputs": [
    {
     "name": "stdout",
     "output_type": "stream",
     "text": [
      "True\n"
     ]
    }
   ],
   "source": [
    "a = 'hello'\n",
    "print(a == 'hello' or 'world')"
   ]
  },
  {
   "cell_type": "markdown",
   "id": "055d5a85",
   "metadata": {},
   "source": [
    "# 멤버 연산자 연습문제"
   ]
  },
  {
   "cell_type": "markdown",
   "id": "566edd0b",
   "metadata": {},
   "source": [
    "1. 숫자 7이 리스트 [1, 2, 3, 4, 5]에 포함되어 있는지 검사하는 프로그램을 작성하라."
   ]
  },
  {
   "cell_type": "code",
   "execution_count": 14,
   "id": "8f1c8e06",
   "metadata": {},
   "outputs": [
    {
     "name": "stdout",
     "output_type": "stream",
     "text": [
      "False\n"
     ]
    }
   ],
   "source": [
    "print(7 in [1, 2, 3, 4, 5])"
   ]
  },
  {
   "cell_type": "markdown",
   "id": "f529684e",
   "metadata": {},
   "source": [
    "2. 문자열 \"apple\"이 세트 {\"orange\", \"banana\", \"kiwi\"}에 포함되어 있는지 검사하는 프로그램을 작성하라."
   ]
  },
  {
   "cell_type": "code",
   "execution_count": 15,
   "id": "350ceaf5",
   "metadata": {},
   "outputs": [
    {
     "name": "stdout",
     "output_type": "stream",
     "text": [
      "False\n"
     ]
    }
   ],
   "source": [
    "print(\"apple\" in {\"orange\", \"banana\", \"kiwi\"})"
   ]
  },
  {
   "cell_type": "markdown",
   "id": "44199ae4",
   "metadata": {},
   "source": [
    "3. 숫자 6이 딕셔너리 {\"a\": 1, \"b\": 2, \"c\": 3, \"d\": 4}의 값들 중 하나인지 검사하는 프로그램을 작성하라."
   ]
  },
  {
   "cell_type": "code",
   "execution_count": 16,
   "id": "8b209325",
   "metadata": {},
   "outputs": [
    {
     "name": "stdout",
     "output_type": "stream",
     "text": [
      "False\n"
     ]
    }
   ],
   "source": [
    "print(6 in {\"a\": 1, \"b\": 2, \"c\": 3, \"d\": 4})"
   ]
  },
  {
   "cell_type": "markdown",
   "id": "ad9e64fe",
   "metadata": {},
   "source": [
    "4. 문자열 \"cat\"이 튜플 (\"dog\", \"cat\", \"bird\", \"hamster\")에 포함되어 있는지 검사하는 프로그램을 작성하라."
   ]
  },
  {
   "cell_type": "code",
   "execution_count": 17,
   "id": "18a50117",
   "metadata": {},
   "outputs": [
    {
     "name": "stdout",
     "output_type": "stream",
     "text": [
      "True\n"
     ]
    }
   ],
   "source": [
    "print(\"cat\" in (\"dog\", \"cat\", \"bird\", \"hamster\"))"
   ]
  },
  {
   "cell_type": "markdown",
   "id": "aececdab",
   "metadata": {},
   "source": [
    "5. 숫자 10이 세트 {2, 4, 6, 8, 10}에 포함되어 있는지 검사하는 프로그램을 작성하라."
   ]
  },
  {
   "cell_type": "code",
   "execution_count": 18,
   "id": "fd1f05e5",
   "metadata": {},
   "outputs": [
    {
     "name": "stdout",
     "output_type": "stream",
     "text": [
      "True\n"
     ]
    }
   ],
   "source": [
    "print(10 in {2, 4, 6, 8, 10})"
   ]
  },
  {
   "cell_type": "markdown",
   "id": "226e2a97",
   "metadata": {},
   "source": [
    "1. 초를 입력하면 분과 초로 표시하는 프로그램. 예를 들어, 200초를 입력하면 3분 20초로 표현하라."
   ]
  },
  {
   "cell_type": "markdown",
   "id": "01e0ebfc",
   "metadata": {},
   "source": [
    "2. 분(min)을 입력하면, 일, 시간, 분으로 출력하는 프로그램을 만들라. (예: 1550분은 1일 1시간 50분)"
   ]
  },
  {
   "cell_type": "markdown",
   "id": "38aee5fc",
   "metadata": {},
   "source": []
  },
  {
   "cell_type": "markdown",
   "id": "c4751581",
   "metadata": {},
   "source": []
  },
  {
   "cell_type": "markdown",
   "id": "f600adce",
   "metadata": {},
   "source": []
  }
 ],
 "metadata": {
  "kernelspec": {
   "display_name": "Python 3",
   "language": "python",
   "name": "python3"
  },
  "language_info": {
   "codemirror_mode": {
    "name": "ipython",
    "version": 3
   },
   "file_extension": ".py",
   "mimetype": "text/x-python",
   "name": "python",
   "nbconvert_exporter": "python",
   "pygments_lexer": "ipython3",
   "version": "3.11.9"
  }
 },
 "nbformat": 4,
 "nbformat_minor": 5
}
