{
 "cells": [
  {
   "cell_type": "markdown",
   "id": "e72dc0ad",
   "metadata": {},
   "source": [
    "1. 임의의 정수가 짝수인지 홀수인지 판별하는 프로그램"
   ]
  },
  {
   "cell_type": "code",
   "execution_count": null,
   "id": "e3d4f09d",
   "metadata": {},
   "outputs": [
    {
     "name": "stdout",
     "output_type": "stream",
     "text": [
      "홀수입니다\n"
     ]
    }
   ],
   "source": [
    "num = int(input(\"정수입력: \")) # 3입력\n",
    "\n",
    "if num % 2 == 0:\n",
    "    print(\"짝수입니다\")\n",
    "if num % 2 != 0:\n",
    "    print(\"홀수입니다\")\n"
   ]
  },
  {
   "cell_type": "markdown",
   "id": "8c8cf5a0",
   "metadata": {},
   "source": [
    "2. 이차방정식 \n",
    "$$\n",
    "ax^2 + bx + c = 0\n",
    "$$\n",
    "의 계수 a, b, c (a != 0)를 입력받아 판별식\n",
    "$$\n",
    "D = b^2 - 4ac\n",
    "$$\n",
    "을 이용해 근의 종류를 출력하는 프로그램"
   ]
  },
  {
   "cell_type": "code",
   "execution_count": 7,
   "id": "56ef5bb7",
   "metadata": {},
   "outputs": [
    {
     "name": "stdout",
     "output_type": "stream",
     "text": [
      "서로 다른 두 허근:\n"
     ]
    }
   ],
   "source": [
    "a = int(input(\"a입력: \"))\n",
    "b = int(input(\"b입력: \"))\n",
    "c = int(input(\"c입력: \"))\n",
    "\n",
    "d = b ** 2 - 4 * a * c\n",
    "\n",
    "if d > 0:\n",
    "    print(\"서로 다른 두 실근:\")\n",
    "elif d == 0:\n",
    "    root = -b / (2 * a)\n",
    "    print(\"중근:\")\n",
    "else:\n",
    "     print(\"서로 다른 두 허근:\")"
   ]
  },
  {
   "cell_type": "markdown",
   "id": "4dfea824",
   "metadata": {},
   "source": [
    "3. 임의의 점수 (0-100)를 입력받고 70 미만이면 \"불합격\", 70이상이면 \"합격\", 80 이상이면 \"합격\", \"입학금면제 장학금\" 90이상이면 \"합격\", \"입학금면제 장학금\", \"등록금면제 장학금\"\n",
    "을 출력하는 프로그램 "
   ]
  },
  {
   "cell_type": "code",
   "execution_count": 10,
   "id": "3108854d",
   "metadata": {},
   "outputs": [
    {
     "name": "stdout",
     "output_type": "stream",
     "text": [
      "합격\n"
     ]
    }
   ],
   "source": [
    "score = int(input(\"점수입력: \")) # 3입력\n",
    "\n",
    "if score < 70:\n",
    "    print(\"불합격\")\n",
    "elif score >= 70 or score < 80:\n",
    "    print(\"합격\")\n",
    "elif score >= 80 or score < 90:\n",
    "    print(\"합격\", \"입학금면제 장학금\")\n",
    "elif score >= 90:\n",
    "    print(\"합격\", \"입학금면제 장학금\", \"등록금면제 장학금\")\n",
    "else:\n",
    "    print(\"점수 인식 실패\")"
   ]
  },
  {
   "cell_type": "markdown",
   "id": "bcbd7215",
   "metadata": {},
   "source": [
    "4. 사용자로부터 cm 단위의 길이를 입력받는다. 입력값이 음수이면 \"잘못 입력하였습니다\" 라는 메시지를 출력하고 양수이면 길이를 인치로 변환하여 출력하는 프로그램을 작성하라.\n",
    "(1인치 = 2.5cm)"
   ]
  },
  {
   "cell_type": "code",
   "execution_count": null,
   "id": "248f19de",
   "metadata": {},
   "outputs": [
    {
     "name": "stdout",
     "output_type": "stream",
     "text": [
      "2.0\n"
     ]
    }
   ],
   "source": [
    "cm = float(input(\"cm 입력: \"))\n",
    "\n",
    "if cm < 0:\n",
    "    print(\"잘못 입력하였습니다\")\n",
    "else:\n",
    "    inch = cm / 2.5\n",
    "    print(inch)\n",
    "    \n",
    "    "
   ]
  }
 ],
 "metadata": {
  "kernelspec": {
   "display_name": "Python 3",
   "language": "python",
   "name": "python3"
  },
  "language_info": {
   "codemirror_mode": {
    "name": "ipython",
    "version": 3
   },
   "file_extension": ".py",
   "mimetype": "text/x-python",
   "name": "python",
   "nbconvert_exporter": "python",
   "pygments_lexer": "ipython3",
   "version": "3.11.9"
  }
 },
 "nbformat": 4,
 "nbformat_minor": 5
}
