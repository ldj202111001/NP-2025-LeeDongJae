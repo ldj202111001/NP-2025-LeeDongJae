{
 "cells": [
  {
   "cell_type": "markdown",
   "id": "974810eb",
   "metadata": {},
   "source": [
    "# 연습문제 1"
   ]
  },
  {
   "cell_type": "markdown",
   "id": "545f04ff",
   "metadata": {},
   "source": [
    "1. 키보드에서 임의의 두 실수를 입력 받아 곱한 후 그 결과를 출력하는 프로그램 작성, 실행"
   ]
  },
  {
   "cell_type": "code",
   "execution_count": null,
   "id": "abac0f9f",
   "metadata": {},
   "outputs": [
    {
     "name": "stdout",
     "output_type": "stream",
     "text": [
      "18.0\n"
     ]
    }
   ],
   "source": [
    "f1 = float(input('input float1:')) # 예시 입력: 4.5\n",
    "f2 = float(input('input float2:')) # 예시 입력: 4\n",
    "print(f1 * f2)"
   ]
  },
  {
   "cell_type": "markdown",
   "id": "dfd6dc35",
   "metadata": {},
   "source": [
    "2. 1마일은 1.609km이다. 키보드에서 마일(정수)을 입력 받아 km로 변환해 출력하는 프로그램을 작성하고실행하라"
   ]
  },
  {
   "cell_type": "code",
   "execution_count": null,
   "id": "0262338b",
   "metadata": {},
   "outputs": [],
   "source": [
    "m = int(input('input mile: ')) # 예시 입력: 3\n",
    "km = float(m) * 1.609\n",
    "float(km)"
   ]
  },
  {
   "cell_type": "markdown",
   "id": "09be4d9b",
   "metadata": {},
   "source": [
    "3. 원의 반지름을 입력 받아 원의 둘레와 원의 면적을 출력하는 프로그램을 작성하라"
   ]
  },
  {
   "cell_type": "code",
   "execution_count": null,
   "id": "edaff026",
   "metadata": {},
   "outputs": [],
   "source": [
    "import math\n",
    "\n",
    "# 예시 입력: 4\n",
    "r = float(input('input: radius'))\n",
    "pi = math.pi\n",
    "c = 2 * r * pi\n",
    "a = pow(r,2) * pi\n",
    "print('circumference: ', c)\n",
    "print('area: ', a)"
   ]
  }
 ],
 "metadata": {
  "kernelspec": {
   "display_name": "Python 3",
   "language": "python",
   "name": "python3"
  },
  "language_info": {
   "codemirror_mode": {
    "name": "ipython",
    "version": 3
   },
   "file_extension": ".py",
   "mimetype": "text/x-python",
   "name": "python",
   "nbconvert_exporter": "python",
   "pygments_lexer": "ipython3",
   "version": "3.11.9"
  }
 },
 "nbformat": 4,
 "nbformat_minor": 5
}
