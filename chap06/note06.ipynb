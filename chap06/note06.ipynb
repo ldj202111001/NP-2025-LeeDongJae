{
 "cells": [
  {
   "cell_type": "markdown",
   "id": "b52deae3",
   "metadata": {},
   "source": [
    "UML 클래스 에서의 가시성표현\n",
    "   \n",
    "+: public  \n",
    "-: private  \n",
    "\\#: protected  \n",
    "\n",
    "속성은 대부분 private\n",
    "파이썬의 인터프리터: c언어  "
   ]
  },
  {
   "cell_type": "markdown",
   "id": "539e41e2",
   "metadata": {},
   "source": [
    "# 객체지향 프로그래밍"
   ]
  },
  {
   "cell_type": "markdown",
   "id": "1bc59e5b",
   "metadata": {},
   "source": [
    "# 클래스\n",
    "\n",
    "$class\\ 클래스이름(부모 클래스):$  \n",
    "$\\qquad 클래스 몸체$"
   ]
  },
  {
   "cell_type": "markdown",
   "id": "50ac6baf",
   "metadata": {},
   "source": [
    "#### - 클래스 객체\n",
    "클래스를 인스턴스화(instantiation)하여 만들어진 객체(object)\n",
    "클래스의 변수와 메소드에 접근 가능"
   ]
  },
  {
   "cell_type": "code",
   "execution_count": 1,
   "id": "c316fcce",
   "metadata": {},
   "outputs": [
    {
     "name": "stdout",
     "output_type": "stream",
     "text": [
      "홍길동\n"
     ]
    }
   ],
   "source": [
    "class Test: #클래스정의\n",
    "            name = \"홍길동\" #클래스속성\n",
    "t = Test() #객체생성\n",
    "print(t.name) "
   ]
  },
  {
   "cell_type": "markdown",
   "id": "1ad16494",
   "metadata": {},
   "source": [
    "#### - 초기화 함수 (__init__())\n",
    "or 생성함수 라고도함  \n",
    "객체 생성시 자동실행 되는 메소드  \n",
    "인스턴스 변수 초기화시 사용  \n",
    "첫번째 매개변수: self (클래스 객체, 자기자신)  \n",
    "인스턴스 변수는 클래스 내 모든 메소드에서 사용가능  \n"
   ]
  },
  {
   "cell_type": "code",
   "execution_count": 2,
   "id": "62c8711f",
   "metadata": {},
   "outputs": [],
   "source": [
    "class Car :\n",
    "     def __init__(self, color, speed):\n",
    "         self.color = color \n",
    "         self.speed = speed "
   ]
  },
  {
   "cell_type": "code",
   "execution_count": null,
   "id": "c2a7063b",
   "metadata": {},
   "outputs": [
    {
     "name": "stdout",
     "output_type": "stream",
     "text": [
      "색상:  Black 속도:  60\n",
      "색상:  Red\n"
     ]
    }
   ],
   "source": [
    "mycar = Car('Black', 60) # Car 클래스의 객체 생성\n",
    "print('색상: ', mycar.color, '속도: ', mycar.speed) #속성 접근\n",
    "\n",
    "mycar.color = 'Red' # 속성 변경\n",
    "print('색상: ', mycar.color)"
   ]
  },
  {
   "cell_type": "markdown",
   "id": "b44cb59f",
   "metadata": {},
   "source": [
    "#### - 클래스 변수, 인스턴스(객체) 변수\n",
    "- 클래스 변수(class variable):  \n",
    "클래스 내에서 유효하며 모든 객체가 공유하는 변수  \n",
    "  \n",
    "- 인스턴스 변수(instance variable):  \n",
    "특정 객체에만 속하는 변수"
   ]
  },
  {
   "cell_type": "code",
   "execution_count": 8,
   "id": "3a10879e",
   "metadata": {},
   "outputs": [
    {
     "name": "stdout",
     "output_type": "stream",
     "text": [
      "2\n",
      "3\n",
      "1 0\n"
     ]
    }
   ],
   "source": [
    "class Calc:\n",
    "     count = 0 # 클래스 변수\n",
    "     def add(self, a=0, b=0):\n",
    "          self.a = a # 인스턴스 변수\n",
    "          self.b = b\n",
    "          self.count += 1 # 클래스 변수를 self와 함께 사용하면 인스턴스 변수처럼 사용\n",
    "          return self.a + self.b\n",
    "     def minus(self, a,b):\n",
    "         if a == 0 or b== 0:\n",
    "             return a - b, self.count\n",
    "         else:\n",
    "             return a-b\n",
    "         \n",
    "obj = Calc()\n",
    "print(obj.minus(3,1)) #count 속성 출력\n",
    "print(obj.add(1, 2)) #count 속성 증가\n",
    "print(obj.count, Calc.count) \n"
   ]
  },
  {
   "cell_type": "code",
   "execution_count": 1,
   "id": "e9bcdfa6",
   "metadata": {},
   "outputs": [
    {
     "data": {
      "text/plain": [
       "['__class__',\n",
       " '__delattr__',\n",
       " '__dir__',\n",
       " '__doc__',\n",
       " '__eq__',\n",
       " '__format__',\n",
       " '__ge__',\n",
       " '__getattribute__',\n",
       " '__getstate__',\n",
       " '__gt__',\n",
       " '__hash__',\n",
       " '__init__',\n",
       " '__init_subclass__',\n",
       " '__le__',\n",
       " '__lt__',\n",
       " '__ne__',\n",
       " '__new__',\n",
       " '__reduce__',\n",
       " '__reduce_ex__',\n",
       " '__repr__',\n",
       " '__setattr__',\n",
       " '__sizeof__',\n",
       " '__str__',\n",
       " '__subclasshook__']"
      ]
     },
     "execution_count": 1,
     "metadata": {},
     "output_type": "execute_result"
    }
   ],
   "source": [
    "dir(object)"
   ]
  },
  {
   "cell_type": "markdown",
   "id": "0d3a32e1",
   "metadata": {},
   "source": [
    "#### - 클래스 상속\n",
    "클래스로부터 속성과 메소드 이어받고 자신이 필요한 기능을 추가하는 기법  \n",
    "\n",
    "$class\\ subclass(superclass)$  \n"
   ]
  },
  {
   "cell_type": "code",
   "execution_count": null,
   "id": "6e7ddd70",
   "metadata": {},
   "outputs": [],
   "source": [
    "class People:\n",
    "    def __init__(self, age=0, name=None):\n",
    "        self.__age = age\n",
    "        self.__name = name\n",
    "    \n",
    "    def introMe(self):\n",
    "        print(\"Name :\", self.__name, \"age :\", str(self.__age))\n",
    "         \n",
    "class Teacher(People) :\n",
    "    def __init__(self, age=0, name=None, school=None) :\n",
    "        super().__init__(age, name) # 상위 클래스의 속성 상속 (할당)\n",
    "        self.school = school \n",
    "            \n",
    "    def showSchool(self):\n",
    "         print(\"My School is \", self.school)\n",
    "       \n"
   ]
  },
  {
   "cell_type": "code",
   "execution_count": 12,
   "id": "fe155b8e",
   "metadata": {},
   "outputs": [
    {
     "name": "stdout",
     "output_type": "stream",
     "text": [
      "Name : Lee age : 29\n",
      "Name : Kim age : 48\n"
     ]
    }
   ],
   "source": [
    "p1 = People(29, \"Lee\")\n",
    "p1.introMe() \n",
    "\n",
    "t1 = Teacher(48, \"Kim\", \"HighSchool\")\n",
    "t1.introMe() # 상위클래스인 People의 메소드 상속"
   ]
  },
  {
   "cell_type": "markdown",
   "id": "60f8cab9",
   "metadata": {},
   "source": [
    "#### - 메소드 오버라이딩 (Method Overridng)\n",
    "자식 클래스에서 부모 클래스의 메소드를 재정의 하는 것"
   ]
  },
  {
   "cell_type": "code",
   "execution_count": 16,
   "id": "871ccaa8",
   "metadata": {},
   "outputs": [],
   "source": [
    "class Student(People) : # 자식 클래스\n",
    "    def __init__(self, age=0, name=None, grade=None):\n",
    "        super().__init__(age, name)\n",
    "        self.__grade = grade #자식 클래스의 새로운 변수\n",
    "    def introMe(self): # 부모 클래스 메소드를 재정의\n",
    "        super().introMe()\n",
    "        print(\"Grade : \", self.__grade) # 점수를 추가로 출력"
   ]
  },
  {
   "cell_type": "code",
   "execution_count": 15,
   "id": "4fc64d89",
   "metadata": {},
   "outputs": [
    {
     "name": "stdout",
     "output_type": "stream",
     "text": [
      "Name : Lee age : 29\n",
      "Name : Park age : 17\n",
      "Grade :  2\n"
     ]
    }
   ],
   "source": [
    "p1 = People(29, \"Lee\")\n",
    "p1.introMe() \n",
    "s1 = Student(17, \"Park\", 2)\n",
    "s1.introMe()"
   ]
  },
  {
   "cell_type": "markdown",
   "id": "0dce9859",
   "metadata": {},
   "source": [
    "\n",
    "다형성: 함수 이름은 같지만 내용물에따라 호출됨이 다름"
   ]
  },
  {
   "cell_type": "markdown",
   "id": "09bc7af7",
   "metadata": {},
   "source": [
    "#### - 가시성 (Visibility)\n",
    "public: 밑줄없음 (value)  \n",
    "protected: 이름 앞에 밑줄 1개 (_value)  \n",
    "private: 이름 앞에 밑줄 2개 (__value)\n"
   ]
  },
  {
   "cell_type": "markdown",
   "id": "0f49d6f0",
   "metadata": {},
   "source": [
    "#### - 추상 함수 (abstract methods)\n",
    "하위 클래스에서 반드시 구현해야 한다.  \n",
    "객체화 할 수 없다."
   ]
  },
  {
   "cell_type": "code",
   "execution_count": null,
   "id": "7bba2346",
   "metadata": {},
   "outputs": [
    {
     "name": "stdout",
     "output_type": "stream",
     "text": [
      "멍멍\n"
     ]
    }
   ],
   "source": [
    "from abc import ABC, abstractmethod\n",
    "\n",
    "class Animal(ABC):\n",
    "  @abstractmethod\n",
    "  def sound(self):\n",
    "    pass\n",
    "\n",
    "class Dog(Animal):\n",
    "  def sound(self): # 재정의\n",
    "    return \"멍멍\"\n",
    " # a = Animal() # 에러: 추상클래스는인스턴스화불가\n",
    "d = Dog()\n",
    "print(d.sound()) \n",
    "\n",
    "# a = Animal(Dog()) TypeError: Animal() takes no arguments\n",
    "# a.sound()"
   ]
  },
  {
   "cell_type": "markdown",
   "id": "71da24b6",
   "metadata": {},
   "source": [
    "#### - 정적 멤버 (static memeber)  \n",
    "클래스 전체에서 공유되는 변수  \n",
    "클래스 변수, 클래스 메소드  \n",
    "메소드는 @staticmethod 데코레이터를 사용하여 정적 메소드 정의\n"
   ]
  },
  {
   "cell_type": "code",
   "execution_count": 3,
   "id": "3faf10b2",
   "metadata": {},
   "outputs": [
    {
     "name": "stdout",
     "output_type": "stream",
     "text": [
      "1\n"
     ]
    }
   ],
   "source": [
    "class Counter:\n",
    "    count = 0 # 클래스 변수(정적 멤버)\n",
    "\n",
    "    def __init__(self):\n",
    "        self.__object_counter = 1 # public\n",
    "\n",
    "    @staticmethod\n",
    "    def increment_class():\n",
    "        Counter.count += 1\n",
    "\n",
    "    def increment_object(self):\n",
    "        self.__object_counter += 1 # private\n",
    "\n",
    "if __name__ == \"__main__\":\n",
    "    Counter.increment_class()\n",
    "    print(Counter.count) # 1\n",
    "\n",
    "    c = Counter() # 인스턴스 생성\n",
    "    # print(c.object_counter) # 1\n",
    "    c.increment_object()\n",
    "    # print(c.__object_counter) # private 접근 불가"
   ]
  },
  {
   "cell_type": "markdown",
   "id": "f23c9462",
   "metadata": {},
   "source": [
    "#### - Dunder Methods  \n",
    "Double Underlines  \n",
    "__xxx__ 형태의 메소드: 자동으로 호출되는 경우 많다  \n",
    ">> 재정의 하여 사용자 코드로 사용가능  \n",
    "- __init__ (self,...): 생성함수, 객체 생성시 자동 실행  \n",
    "- __str__ (self): 클래스 객체를 문자열로 형변환시 자동 실행  \n",
    "- __eq__(self, other): 이 객체와 다른 객체가 같은지  \n",
    "- __gt__(self, other): 이 객체가 다른 객체보다 큰지"
   ]
  },
  {
   "cell_type": "code",
   "execution_count": 1,
   "id": "d29ae309",
   "metadata": {},
   "outputs": [
    {
     "name": "stdout",
     "output_type": "stream",
     "text": [
      "Student(name=Alice, age=20)\n",
      "Student(name=Bob, age=22)\n",
      "False\n",
      "True\n",
      "Student Alice is being deleted\n"
     ]
    }
   ],
   "source": [
    "class Student:\n",
    "    def __init__(self, name, age):\n",
    "        self.name =name\n",
    "        self.age = age\n",
    "    def __str__(self):\n",
    "        return f\"Student(name={self.name}, age={self.age})\"\n",
    "    def __eq__(self, other):\n",
    "        if isinstance(other, Student):\n",
    "         return self.name == other.name and self.age ==other.age\n",
    "        return False\n",
    "    def __del__(self):\n",
    "        print(f\"Student {self.name} is being deleted\")\n",
    "if __name__ ==\"__main__\":\n",
    "\n",
    "    student1 = Student(\"Alice\", 20)\n",
    "    student2 = Student(\"Bob\", 22)\n",
    "    student3 = Student(\"Alice\", 20)\n",
    "\n",
    "    print(student1) # Calls __str__\n",
    "    print(student2) # Calls __str__\n",
    "    print(student1 ==student2) # Calls __eq__\n",
    "    print(student1 ==student3) # Calls __eq__\n",
    "    del student1 # Calls __del__"
   ]
  },
  {
   "cell_type": "markdown",
   "id": "ef358a7b",
   "metadata": {},
   "source": [
    "#### - 파이썬 데코레이터  \n",
    "함수, 클래스의 동작을 수정하거나 확장  \n",
    "@데코레이터이름  \n"
   ]
  },
  {
   "cell_type": "code",
   "execution_count": 2,
   "id": "e4d32a48",
   "metadata": {},
   "outputs": [
    {
     "name": "stdout",
     "output_type": "stream",
     "text": [
      "=== 예제1: 기본데코레이터===\n",
      "함수실행전\n",
      "Hello, World!\n",
      "함수실행후\n"
     ]
    }
   ],
   "source": [
    "def simple_decorator(func):\n",
    " def wrapper():\n",
    "    print(\"함수실행전\")\n",
    "    result= func()\n",
    "    print(\"함수실행후\")\n",
    "    return result\n",
    " return wrapper\n",
    "\n",
    "@simple_decorator\n",
    "def say_hello():\n",
    "    print(\"Hello, World!\")\n",
    "if __name__==\"__main__\":\n",
    "    print(\"=== 예제1: 기본데코레이터===\")\n",
    "    say_hello()"
   ]
  }
 ],
 "metadata": {
  "kernelspec": {
   "display_name": "base",
   "language": "python",
   "name": "python3"
  },
  "language_info": {
   "codemirror_mode": {
    "name": "ipython",
    "version": 3
   },
   "file_extension": ".py",
   "mimetype": "text/x-python",
   "name": "python",
   "nbconvert_exporter": "python",
   "pygments_lexer": "ipython3",
   "version": "3.11.7"
  }
 },
 "nbformat": 4,
 "nbformat_minor": 5
}
