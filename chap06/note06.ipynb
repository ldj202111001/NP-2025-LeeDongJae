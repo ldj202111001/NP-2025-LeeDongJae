{
 "cells": [
  {
   "cell_type": "markdown",
   "id": "b52deae3",
   "metadata": {},
   "source": [
    "UML 클래스 에서의 가시성표현\n",
    "   \n",
    "+: public  \n",
    "-: private  \n",
    "#: protected  \n",
    "\n",
    "속성은 대부분 private\n",
    "파이썬의 인터프리터: c언어  "
   ]
  },
  {
   "cell_type": "markdown",
   "id": "539e41e2",
   "metadata": {},
   "source": [
    "# 객체지향 프로그래밍"
   ]
  },
  {
   "cell_type": "markdown",
   "id": "1bc59e5b",
   "metadata": {},
   "source": [
    "# 클래스\n",
    "\n",
    "$class\\ 클래스이름(부모 클래스):$  \n",
    "$\\qquad 클래스 몸체$"
   ]
  },
  {
   "cell_type": "markdown",
   "id": "50ac6baf",
   "metadata": {},
   "source": [
    "#### - 클래스 객체\n",
    "클래스를 인스턴스화(instantiation)하여 만들어진 객체(object)\n",
    "클래스의 변수와 메소드에 접근 가능"
   ]
  },
  {
   "cell_type": "code",
   "execution_count": null,
   "id": "c316fcce",
   "metadata": {},
   "outputs": [],
   "source": []
  },
  {
   "cell_type": "markdown",
   "id": "1ad16494",
   "metadata": {},
   "source": [
    "#### - 초기화 함수 (__init__())\n",
    "or 생성함수\n"
   ]
  },
  {
   "cell_type": "code",
   "execution_count": 1,
   "id": "e9bcdfa6",
   "metadata": {},
   "outputs": [
    {
     "data": {
      "text/plain": [
       "['__class__',\n",
       " '__delattr__',\n",
       " '__dir__',\n",
       " '__doc__',\n",
       " '__eq__',\n",
       " '__format__',\n",
       " '__ge__',\n",
       " '__getattribute__',\n",
       " '__getstate__',\n",
       " '__gt__',\n",
       " '__hash__',\n",
       " '__init__',\n",
       " '__init_subclass__',\n",
       " '__le__',\n",
       " '__lt__',\n",
       " '__ne__',\n",
       " '__new__',\n",
       " '__reduce__',\n",
       " '__reduce_ex__',\n",
       " '__repr__',\n",
       " '__setattr__',\n",
       " '__sizeof__',\n",
       " '__str__',\n",
       " '__subclasshook__']"
      ]
     },
     "execution_count": 1,
     "metadata": {},
     "output_type": "execute_result"
    }
   ],
   "source": [
    "dir(object)"
   ]
  },
  {
   "cell_type": "markdown",
   "id": "bbbe045f",
   "metadata": {},
   "source": [
    "#### - 클래스 변수와 객체 변수"
   ]
  },
  {
   "cell_type": "markdown",
   "id": "0d3a32e1",
   "metadata": {},
   "source": [
    "#### - 클래스 상속\n",
    "클래스로부터 속성과 메소드 이어받고 자신이 필요한 기능을 추가하는 기법  \n",
    "\n",
    "$class\\ subclass(superclass)$  \n"
   ]
  },
  {
   "cell_type": "code",
   "execution_count": null,
   "id": "6e7ddd70",
   "metadata": {},
   "outputs": [],
   "source": [
    "class People:\n",
    "    def __init__(self)"
   ]
  },
  {
   "cell_type": "markdown",
   "id": "60f8cab9",
   "metadata": {},
   "source": [
    "#### - 메소드 오버라이딩\n",
    "\n",
    "다형성: 함수 이름은 같지만 내용물에따라 호출됨이 다름"
   ]
  },
  {
   "cell_type": "markdown",
   "id": "09bc7af7",
   "metadata": {},
   "source": [
    "#### - 가시성 (Visibility)\n",
    "\n"
   ]
  },
  {
   "cell_type": "markdown",
   "id": "0f49d6f0",
   "metadata": {},
   "source": [
    "#### - 추상 함수 (abstract methods)"
   ]
  },
  {
   "cell_type": "code",
   "execution_count": 3,
   "id": "7bba2346",
   "metadata": {},
   "outputs": [
    {
     "name": "stdout",
     "output_type": "stream",
     "text": [
      "멍멍\n"
     ]
    }
   ],
   "source": [
    "from abc import ABC, abstractmethod\n",
    "class Animal(ABC):\n",
    "  @abstractmethod\n",
    "  def sound(self):\n",
    "    pass\n",
    "class Dog(Animal):\n",
    "  def sound(self):\n",
    "    return \"멍멍\"\n",
    " # a = Animal() # 에러: 추상클래스는인스턴스화불가\n",
    "d = Dog()\n",
    "print(d.sound()) \n",
    "\n",
    "# a = Animal(Dog()) TypeError: Animal() takes no arguments\n",
    "# a.sound()"
   ]
  }
 ],
 "metadata": {
  "kernelspec": {
   "display_name": ".venv",
   "language": "python",
   "name": "python3"
  },
  "language_info": {
   "codemirror_mode": {
    "name": "ipython",
    "version": 3
   },
   "file_extension": ".py",
   "mimetype": "text/x-python",
   "name": "python",
   "nbconvert_exporter": "python",
   "pygments_lexer": "ipython3",
   "version": "3.11.9"
  }
 },
 "nbformat": 4,
 "nbformat_minor": 5
}
