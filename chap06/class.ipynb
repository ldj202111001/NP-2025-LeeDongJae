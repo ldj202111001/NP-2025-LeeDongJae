{
 "cells": [
  {
   "cell_type": "markdown",
   "id": "5970982f",
   "metadata": {},
   "source": [
    "Moneybox 클래스를 작성하라.\n",
    "이 클래스는 저축한 총액을 저장하는 인스턴스 변수가 있다.\n",
    "deposit(money) 메서드는 인수로 주어진 금액만큼 저축하고 총액을 출력한다.\n",
    "extract(money) 메서드는 money를 인출하고 총액을 출력한다.\n",
    "get_total() 메서드는 총액을 알려준다."
   ]
  },
  {
   "cell_type": "code",
   "execution_count": 20,
   "id": "e99ac8b1",
   "metadata": {},
   "outputs": [],
   "source": [
    "class Moneybox:\n",
    "    def __init__(self, total = 0):\n",
    "        self.total = total\n",
    "    def deposit(self, money):\n",
    "        self.total += money \n",
    "    def extract(self, money):\n",
    "        self.total -= money\n",
    "        print(self.total)\n",
    "\n",
    "    def showtotal(self):\n",
    "        return self.total\n",
    "    \n"
   ]
  },
  {
   "cell_type": "markdown",
   "id": "7450cde0",
   "metadata": {},
   "source": [
    "my_money = Moneybox() 객체를 생성하고 1000원을 저축하고, 200원을 인출한다음, 총액을 출력하라."
   ]
  },
  {
   "cell_type": "code",
   "execution_count": 22,
   "id": "5b8666fd",
   "metadata": {},
   "outputs": [
    {
     "name": "stdout",
     "output_type": "stream",
     "text": [
      "800\n"
     ]
    }
   ],
   "source": [
    "my_money = Moneybox()\n",
    "my_money.deposit(1000)\n",
    "my_money.extract(200) \n"
   ]
  },
  {
   "cell_type": "markdown",
   "id": "e4786ff3",
   "metadata": {},
   "source": [
    "Password_manager 클래스를 작성하라.\n",
    "이 클래스는 사용자의 모든 과거 패스워드를 저장하는 old_passwords 리스트 변수를 갖는다.\n",
    "리스트의 마지막 요소는 현재 패스워드이다.\n",
    "현재 패스워드를 알려주는 get_password와 새로운 패스워드를 설정하는 set_password 메소드를 정의하라.\n",
    "set_password는 과거에 사용하지 않은 새로운 패스워드를 설정할 때만 유효하다.\n",
    "문자열을 입력받아 현재 패스워드와 같은지 True 또는 False를 반환하는 is_correct 메소드를 정의하라."
   ]
  },
  {
   "cell_type": "code",
   "execution_count": 49,
   "id": "f223cfa9",
   "metadata": {},
   "outputs": [
    {
     "name": "stdout",
     "output_type": "stream",
     "text": [
      "현재 비밀번호 입니다.\n",
      "비밀번호 설정완료\n",
      "이미 설정한 패스원드\n"
     ]
    },
    {
     "data": {
      "text/plain": [
       "True"
      ]
     },
     "execution_count": 49,
     "metadata": {},
     "output_type": "execute_result"
    }
   ],
   "source": [
    "class Password_manager:\n",
    "    def __init__(self, current_passward, old_passwords = []):\n",
    "        self.old_passwords = old_passwords\n",
    "        self.current_passward = current_passward\n",
    "\n",
    "    def get_password(self):\n",
    "        print(f'현재 비밀번호 입니다.')\n",
    "        return self.current_passward\n",
    "    \n",
    "    def set_password(self, password):\n",
    "        for i in self.old_passwords:\n",
    "            if self.old_passwords == password: # 과거에 사용한 패스워드와 같다.\n",
    "                print(f'과거에 이미 사용했던 패스워드 입니다.')\n",
    "                return\n",
    "            elif self.current_passward == password:\n",
    "                print(f'이미 설정한 패스원드')\n",
    "                return\n",
    "        \n",
    "        self.current_passward = password\n",
    "        self.old_passwords.append(password)\n",
    "        print(f'비밀번호 설정완료')\n",
    "\n",
    "    def is_correct(self, password):\n",
    "        if self.current_passward == password:\n",
    "            return True\n",
    "        else:\n",
    "            return False\n",
    "\n",
    "PM = Password_manager(1234)\n",
    "\n",
    "PM.get_password()\n",
    "\n",
    "# PM.set_password(4321)\n",
    "PM.set_password(1234)\n",
    "\n",
    "PM.set_password(1234)\n",
    "\n",
    "PM.is_correct(1234)\n",
    "\n",
    "\n",
    "# password = input(f'비밀번호 입력:')\n",
    "\n",
    "\n",
    "\n",
    "    \n"
   ]
  },
  {
   "cell_type": "markdown",
   "id": "b0ec6f12",
   "metadata": {},
   "source": [
    "Articles 클래스를 작성하라.\n",
    "이 클래스는 각각 제품의 이름, 재고 수량, 단가를 나타내는 name, stock, price 인스턴스 변수를 가지고 있다.\n",
    "offer_price() 메소드는 구매 수량을 인수로 전달받아 총 가격을 반환한다.\n",
    "구매 수량이 1~10개 이하이면 정상 가격을 반환하고, 11~50개이면 5% 할인된 가격을 반환한다.\n",
    "또 51개 이상이면 10% 할인해준다.\n",
    "purchase() 메소드는 구매 수량을 인수로 전달받아 재고 수량을 구매 수량만큼 감소한다.\n",
    "\n",
    "이 클래스를 이용하여 단가 1000원인 “mask”를 10,000장으로 설정하고, 40장 구매 가격과 구매 후 재고를 출력하라."
   ]
  },
  {
   "cell_type": "code",
   "execution_count": 50,
   "id": "fa216836",
   "metadata": {},
   "outputs": [
    {
     "name": "stdout",
     "output_type": "stream",
     "text": [
      "40장 구매 가격: 38000.0원\n",
      "구매 후 재고: 9960개\n"
     ]
    }
   ],
   "source": [
    "class Articles:\n",
    "    def __init__(self, name, stock, price):\n",
    "        self.name = name       \n",
    "        self.stock = stock      \n",
    "        self.price = price\n",
    "\n",
    "    def offer_price(self, purchase_amount):\n",
    "        if 1 <= purchase_amount <= 10:\n",
    "            total = self.price * purchase_amount\n",
    "        elif 11 <= purchase_amount <= 50:\n",
    "            total = self.price * purchase_amount * 0.95  # 5% 할인\n",
    "        elif purchase_amount >= 51:\n",
    "            total = self.price * purchase_amount * 0.90  # 10% 할인\n",
    "        else:\n",
    "            total = 0\n",
    "        return total\n",
    "\n",
    "    def purchase(self,purchase_amount):\n",
    "        if purchase_amount > self.stock:\n",
    "            print(\"재고가 부족합니다.\")\n",
    "            return False\n",
    "        self.stock -= purchase_amount\n",
    "        return True\n",
    "\n",
    "mask = Articles(\"mask\", 10000, 1000)\n",
    "\n",
    "# 40장 구매 가격 계산\n",
    "price_40 = mask.offer_price(40)\n",
    "print(f\"40장 구매 가격: {price_40}원\")\n",
    "\n",
    "# 구매 후 재고 감소\n",
    "mask.purchase(40)\n",
    "print(f\"구매 후 재고: {mask.stock}개\")"
   ]
  },
  {
   "cell_type": "markdown",
   "id": "bb56db31",
   "metadata": {},
   "source": [
    "다음 프로그램을 실행했을 때 아래 내용이 출력되도록 클래스를 정의하라.\n",
    "학번(id) 앞 4자리가 2018보다 작으면 grade() 메소드에 의해\n",
    "“3학년입니다”가 출력되고, 아니면 “3학년이 아닙니다”가 출력된다."
   ]
  },
  {
   "cell_type": "code",
   "execution_count": 1,
   "id": "67759432",
   "metadata": {},
   "outputs": [],
   "source": [
    "class Student:\n",
    "    def __init__(self, name, id, dept):\n",
    "        self.name = name\n",
    "        self.id = id\n",
    "        self.dept = dept\n",
    "\n",
    "    def grade(self):\n",
    "        year = int(str(self.id)[:4])\n",
    "        if year < 2018:\n",
    "            print(\"3학년입니다\")\n",
    "        else:\n",
    "            print(\"3학년이 아닙니다\")"
   ]
  },
  {
   "cell_type": "code",
   "execution_count": 2,
   "id": "111d4e18",
   "metadata": {},
   "outputs": [
    {
     "name": "stdout",
     "output_type": "stream",
     "text": [
      "이름: 홍길동, 학번: 20150001, 학과: 로봇공학과\n",
      "3학년입니다\n"
     ]
    }
   ],
   "source": [
    "man = Student(name=\"홍길동\", id=20150001, dept=\"로봇공학과\")\n",
    "print(\"이름: {}, 학번: {}, 학과: {}\".format(man.name, man.id, man.dept))\n",
    "man.grade()"
   ]
  },
  {
   "cell_type": "markdown",
   "id": "d30173f1",
   "metadata": {},
   "source": [
    "다음 Person 클래스를 상속받는 Employee 클래스를 정의하라.\n",
    "Employee 클래스에 employeeID 속성을 추가하고 getID() 메소드를 정의하라.\n",
    "getID() 메소드는 employeeID를 반환하는 메소드이다.\n",
    "\n",
    "Employee 클래스를 이용하여 Employee(\"동양\", 65, 2019)로 생성된 객체의 이름, 나이, ID를 출력하라."
   ]
  },
  {
   "cell_type": "code",
   "execution_count": null,
   "id": "782f8fda",
   "metadata": {},
   "outputs": [],
   "source": [
    "class Person:\n",
    "    def __init__(self, name, age):\n",
    "        self.name = name\n",
    "        self.age = age\n",
    "    def getName(self):\n",
    "        print(self.name)\n",
    "    def getAge(self):\n",
    "        print(self.age)"
   ]
  },
  {
   "cell_type": "markdown",
   "id": "b0ecf6ed",
   "metadata": {},
   "source": []
  }
 ],
 "metadata": {
  "kernelspec": {
   "display_name": "base",
   "language": "python",
   "name": "python3"
  },
  "language_info": {
   "codemirror_mode": {
    "name": "ipython",
    "version": 3
   },
   "file_extension": ".py",
   "mimetype": "text/x-python",
   "name": "python",
   "nbconvert_exporter": "python",
   "pygments_lexer": "ipython3",
   "version": "3.11.7"
  }
 },
 "nbformat": 4,
 "nbformat_minor": 5
}
