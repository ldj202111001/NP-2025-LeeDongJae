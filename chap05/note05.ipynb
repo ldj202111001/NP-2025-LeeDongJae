{
 "cells": [
  {
   "cell_type": "markdown",
   "id": "258fce1f",
   "metadata": {},
   "source": [
    "fstring 권고\n",
    "str.format()?"
   ]
  },
  {
   "cell_type": "code",
   "execution_count": 7,
   "id": "6722fd4b",
   "metadata": {},
   "outputs": [
    {
     "data": {
      "text/plain": [
       "'저는 coffee를 좋아합니다. 하루 5잔 마셔요.'"
      ]
     },
     "execution_count": 7,
     "metadata": {},
     "output_type": "execute_result"
    }
   ],
   "source": [
    "s = 'coffee'\n",
    "n = 5\n",
    "result1 = f'저는 {s}를 좋아합니다. 하루 {n}잔 마셔요.'\n",
    "result1\n"
   ]
  },
  {
   "cell_type": "markdown",
   "id": "474d836c",
   "metadata": {},
   "source": [
    "# 함수\n",
    "\n",
    "이름 정의하여 반복적으로 사용할 수 있는 프로그램 부분  \n",
    "ex print(), input(), int(), str()\n",
    "\n",
    "- 중복된 코드 제거 가능  \n",
    "- 복잡한 프로그램을 더 간단한 작업들로 분할  \n",
    "- 한번 정의되면 다른 프로그램에서도 재사용 가능  \n",
    "- 가독성 증대, 유지보수 쉬워짐"
   ]
  },
  {
   "cell_type": "markdown",
   "id": "8a44cc82",
   "metadata": {},
   "source": [
    "함수 - 내장함수, 사용자정의 함수"
   ]
  },
  {
   "cell_type": "markdown",
   "id": "0b809042",
   "metadata": {},
   "source": [
    "#### - 사용자 정의 함수의 작성  \n",
    "  \n",
    "$def\\ 함수이름(매개변수):$  \n",
    "$\\qquad 문장1$  \n",
    "$\\qquad문장2$  \n",
    "$\\qquad...$  \n",
    "$\\qquad return\\ 값$"
   ]
  },
  {
   "cell_type": "code",
   "execution_count": 1,
   "id": "e50e6229",
   "metadata": {},
   "outputs": [
    {
     "name": "stdout",
     "output_type": "stream",
     "text": [
      "Hello,  John\n"
     ]
    }
   ],
   "source": [
    "def welcome(name) : \n",
    "    print(\"Hello, \", name) \n",
    "\n",
    "welcome('John') "
   ]
  },
  {
   "cell_type": "markdown",
   "id": "d65b9674",
   "metadata": {},
   "source": [
    "#### - 반환 값이 없는 함수"
   ]
  },
  {
   "cell_type": "code",
   "execution_count": null,
   "id": "a4e29c1e",
   "metadata": {},
   "outputs": [],
   "source": [
    "def prtStr(str) :  # str을 매개변수라함\n",
    "    print(\"%s\" %str)\n",
    "    return # 반환값이 없이 함수가종료\n",
    "\n",
    "\n",
    "str = \"Wecome to Python\"\n",
    "prtStr(str) "
   ]
  },
  {
   "cell_type": "markdown",
   "id": "a362cba0",
   "metadata": {},
   "source": [
    "#### - 값을 반환하는 함수"
   ]
  },
  {
   "cell_type": "code",
   "execution_count": null,
   "id": "478b5760",
   "metadata": {},
   "outputs": [
    {
     "name": "stdout",
     "output_type": "stream",
     "text": [
      "한변의 길이가 5 인정사각형의넓이는 25\n",
      "한변의 길이가 7 인정사각형의넓이는 49\n"
     ]
    }
   ],
   "source": [
    "def squareArea(s) :\n",
    "     area = s * s\n",
    "     return area # 값이 반환되고종료\n",
    "\n",
    "a = squareArea(5) # 5로 인자 ()\n",
    "b = squareArea(7)\n",
    "print(\"한변의 길이가 %d 인 정사각형의 넓이는 %d\" %(5, a))\n",
    "print(\"한변의 길이가 %d 인 정사각형의 넓이는 %d\" %(7, b))"
   ]
  },
  {
   "cell_type": "markdown",
   "id": "86647eb9",
   "metadata": {},
   "source": [
    "#### - 1~n 까지의 합을 계산하는 함수"
   ]
  },
  {
   "cell_type": "code",
   "execution_count": 4,
   "id": "444f62f7",
   "metadata": {},
   "outputs": [
    {
     "name": "stdout",
     "output_type": "stream",
     "text": [
      "1275\n",
      "500500\n"
     ]
    }
   ],
   "source": [
    "def sum(n): \n",
    "    hab = 0\n",
    "    for i in range(1, n+1): \n",
    "        hab = hab + i \n",
    "    return hab \n",
    "\n",
    "a = sum(50) \n",
    "b = sum(1000) \n",
    "print(a)\n",
    "print(b)"
   ]
  },
  {
   "cell_type": "markdown",
   "id": "b14772c5",
   "metadata": {},
   "source": [
    "#### - 지역 변수(local vaiable)"
   ]
  },
  {
   "cell_type": "markdown",
   "id": "b65062d7",
   "metadata": {},
   "source": [
    "지역 변수: 함수 내에서만 값이 유효  \n"
   ]
  },
  {
   "cell_type": "code",
   "execution_count": null,
   "id": "dbc56925",
   "metadata": {},
   "outputs": [
    {
     "name": "stdout",
     "output_type": "stream",
     "text": [
      "func1()의v = 10\n",
      "func2()의v = 20\n"
     ]
    }
   ],
   "source": [
    "# 함수선언부\n",
    "def func1() :\n",
    "    v = 10 \n",
    "    print(\"func1()의v = %d\" % v)\n",
    "def func2() :\n",
    "    v = 20  \n",
    "    print(\"func2()의v = %d\" % v)\n",
    " # 메인코드부분\n",
    "func1()\n",
    "func2()\n",
    "\n",
    "# v는 지역변수이다."
   ]
  },
  {
   "cell_type": "markdown",
   "id": "37f787d4",
   "metadata": {},
   "source": [
    "#### - 전역 변수(global variable)\n",
    "\n",
    "전역 변수: 프로그램 전체에서 유효"
   ]
  },
  {
   "cell_type": "code",
   "execution_count": 9,
   "id": "464804c0",
   "metadata": {},
   "outputs": [
    {
     "name": "stdout",
     "output_type": "stream",
     "text": [
      "func1()의v = 10\n",
      "func2()의v = 20\n"
     ]
    }
   ],
   "source": [
    "# 함수선언부\n",
    "def func1() :\n",
    "    v = 10 # 함수func1()안의지역변수. 지역변수가우선사용\n",
    "    print(\"func1()의v = %d\" % v)\n",
    "def func2() :\n",
    "    print(\"func2()의v = %d\" % v) # 함수func2()안의전역변수\n",
    "# 전역변수\n",
    "v = 20 # 전역변수이므로프로그램내에서유효\n",
    "# 메인코드부분\n",
    "func1() #지역변수값인10을출력. 지역변수가없을때전역변수사용\n",
    "func2() #전역변수값인20을출력"
   ]
  },
  {
   "cell_type": "markdown",
   "id": "07ff6459",
   "metadata": {},
   "source": [
    "#### - 매개변수와 기본값 지정 (가본 매개변수)"
   ]
  },
  {
   "cell_type": "code",
   "execution_count": null,
   "id": "bd97c680",
   "metadata": {},
   "outputs": [
    {
     "name": "stdout",
     "output_type": "stream",
     "text": [
      "default\n",
      "Hi! Hi! Hi! Hi! Hi! \n"
     ]
    }
   ],
   "source": [
    "def prtMesg(message, count=1): # 기본값이 1로지정\n",
    "    print (message * count)\n",
    "prtMesg('default') #message='default'. 따로 지정 안하면 기본값 사용\n",
    "prtMesg('Repeat 5 times ', 5) #message와 count 인자전달"
   ]
  },
  {
   "cell_type": "code",
   "execution_count": 11,
   "id": "3f454fde",
   "metadata": {},
   "outputs": [
    {
     "name": "stdout",
     "output_type": "stream",
     "text": [
      "Hi!  Abe, Nothing new?\n",
      "Hi!  Bob, Good morning!\n"
     ]
    }
   ],
   "source": [
    "def greet(name, msg=\"Nothing new?\"):\n",
    "    print(\"Hi! \", name + ', ' + msg)\n",
    "greet(\"Abe\") #name 만전달\n",
    "greet(\"Bob\", \"Good morning!\") #name과msg 전달"
   ]
  },
  {
   "cell_type": "markdown",
   "id": "4a1f237b",
   "metadata": {},
   "source": [
    "#### - 가변 매개변수"
   ]
  },
  {
   "cell_type": "markdown",
   "id": "92d5df72",
   "metadata": {},
   "source": [
    "매개변수가 *(arg)로 표시되면 튜플로 처리"
   ]
  },
  {
   "cell_type": "code",
   "execution_count": 12,
   "id": "27a4c9c7",
   "metadata": {},
   "outputs": [
    {
     "name": "stdout",
     "output_type": "stream",
     "text": [
      "6\n",
      "15\n"
     ]
    }
   ],
   "source": [
    "def total(*numbers):\n",
    "    sum = 0\n",
    "    for n in numbers: #전달받은 매개변수를 튜플로 처리\n",
    "        sum += n\n",
    "    return sum\n",
    "print (total(1,2,3)) #3개의인자\n",
    "print (total(1,2,3,4,5)) #5개의인자"
   ]
  },
  {
   "cell_type": "markdown",
   "id": "27635dc7",
   "metadata": {},
   "source": [
    "매개변수가 **keywords로 표시되면 딕셔너리로 처리"
   ]
  },
  {
   "cell_type": "code",
   "execution_count": 13,
   "id": "53d083cd",
   "metadata": {},
   "outputs": [
    {
     "name": "stdout",
     "output_type": "stream",
     "text": [
      "Kennedy : 35-th president\n",
      "Obama : 44-th president\n",
      "Trump : 45-th president\n"
     ]
    }
   ],
   "source": [
    "def dicPresident(**keywords):\n",
    "    for i in keywords.keys(): #딕셔너리 key를 하나씩처리\n",
    "        print(\"%s : %d-th president\" %(i, keywords[i]))\n",
    "dicPresident(Kennedy=35, Obama=44, Trump=45) #(key=value)로전달"
   ]
  },
  {
   "cell_type": "markdown",
   "id": "3435c588",
   "metadata": {},
   "source": [
    "#### - 매개변수 전달"
   ]
  },
  {
   "cell_type": "code",
   "execution_count": null,
   "id": "b1595c60",
   "metadata": {},
   "outputs": [
    {
     "name": "stdout",
     "output_type": "stream",
     "text": [
      "a= 4 b= 5 c= 3\n",
      "12\n",
      "a= 5 b= 2 c= 7\n",
      "14\n"
     ]
    }
   ],
   "source": [
    "def func(a, b=2, c=3): #a: 위치 매개변수, b, c: 키워드 매개변수\n",
    "    print('a =', a, 'b =', b, 'c =', c)\n",
    "    return a + b + c\n",
    "print(func(4, 5)) #인자 위치에 의해 a=4, b=5로 전달\n",
    "print(func(5, c=7)) #키워드 c를 이용한 전달. a=5, c=7, b는 기본값"
   ]
  },
  {
   "cell_type": "code",
   "execution_count": null,
   "id": "1e54268e",
   "metadata": {},
   "outputs": [
    {
     "data": {
      "text/plain": [
       "['__add__',\n",
       " '__class__',\n",
       " '__contains__',\n",
       " '__delattr__',\n",
       " '__dir__',\n",
       " '__doc__',\n",
       " '__eq__',\n",
       " '__format__',\n",
       " '__ge__',\n",
       " '__getattribute__',\n",
       " '__getitem__',\n",
       " '__getnewargs__',\n",
       " '__getstate__',\n",
       " '__gt__',\n",
       " '__hash__',\n",
       " '__init__',\n",
       " '__init_subclass__',\n",
       " '__iter__',\n",
       " '__le__',\n",
       " '__len__',\n",
       " '__lt__',\n",
       " '__mod__',\n",
       " '__mul__',\n",
       " '__ne__',\n",
       " '__new__',\n",
       " '__reduce__',\n",
       " '__reduce_ex__',\n",
       " '__repr__',\n",
       " '__rmod__',\n",
       " '__rmul__',\n",
       " '__setattr__',\n",
       " '__sizeof__',\n",
       " '__str__',\n",
       " '__subclasshook__',\n",
       " 'capitalize',\n",
       " 'casefold',\n",
       " 'center',\n",
       " 'count',\n",
       " 'encode',\n",
       " 'endswith',\n",
       " 'expandtabs',\n",
       " 'find',\n",
       " 'format',\n",
       " 'format_map',\n",
       " 'index',\n",
       " 'isalnum',\n",
       " 'isalpha',\n",
       " 'isascii',\n",
       " 'isdecimal',\n",
       " 'isdigit',\n",
       " 'isidentifier',\n",
       " 'islower',\n",
       " 'isnumeric',\n",
       " 'isprintable',\n",
       " 'isspace',\n",
       " 'istitle',\n",
       " 'isupper',\n",
       " 'join',\n",
       " 'ljust',\n",
       " 'lower',\n",
       " 'lstrip',\n",
       " 'maketrans',\n",
       " 'partition',\n",
       " 'removeprefix',\n",
       " 'removesuffix',\n",
       " 'replace',\n",
       " 'rfind',\n",
       " 'rindex',\n",
       " 'rjust',\n",
       " 'rpartition',\n",
       " 'rsplit',\n",
       " 'rstrip',\n",
       " 'split',\n",
       " 'splitlines',\n",
       " 'startswith',\n",
       " 'strip',\n",
       " 'swapcase',\n",
       " 'title',\n",
       " 'translate',\n",
       " 'upper',\n",
       " 'zfill']"
      ]
     },
     "execution_count": 1,
     "metadata": {},
     "output_type": "execute_result"
    }
   ],
   "source": [
    "dir(str)"
   ]
  }
 ],
 "metadata": {
  "kernelspec": {
   "display_name": ".venv",
   "language": "python",
   "name": "python3"
  },
  "language_info": {
   "codemirror_mode": {
    "name": "ipython",
    "version": 3
   },
   "file_extension": ".py",
   "mimetype": "text/x-python",
   "name": "python",
   "nbconvert_exporter": "python",
   "pygments_lexer": "ipython3",
   "version": "3.11.9"
  }
 },
 "nbformat": 4,
 "nbformat_minor": 5
}
