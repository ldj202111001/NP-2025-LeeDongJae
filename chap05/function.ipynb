{
 "cells": [
  {
   "cell_type": "markdown",
   "id": "8ba8dca4",
   "metadata": {},
   "source": [
    "# 함수 연습문제"
   ]
  },
  {
   "cell_type": "markdown",
   "id": "369c0233",
   "metadata": {},
   "source": [
    "반지름을 전달하면 원의 면적을 반환하는 cir_area(r) 함수와 원의 둘레와 반환하는 cir_cirm(r) 함수를 작성하라.  \n",
    "이들 함수를 이용하여 반지름이 3.5cm인 원의 면적과 둘레를 소수점 아래 첫 자리까지 구하라. "
   ]
  },
  {
   "cell_type": "code",
   "execution_count": null,
   "id": "c37307c8",
   "metadata": {},
   "outputs": [
    {
     "name": "stdout",
     "output_type": "stream",
     "text": [
      "<function cir_area at 0x000002173B6F5C60>\n"
     ]
    }
   ],
   "source": [
    "import math\n",
    "\n",
    "def cir_area(r):\n",
    "    r ** 2 * math.pi\n",
    "    return round(r, 1) # round(): 반올림할 소수점 자릿수를 지정 가능\n",
    "\n",
    "\n",
    "def cir_cirm(r):\n",
    "    2 * r * math.pi\n",
    "    return round(r, 1)\n",
    "\n",
    "r = 3.5\n",
    "    \n",
    "area = cir_area(r)\n",
    "\n",
    "print(area)\n",
    "\n"
   ]
  },
  {
   "cell_type": "markdown",
   "id": "24e82598",
   "metadata": {},
   "source": [
    "1. 두 개의 매개변수 n, m을 전달받아 m x n개의 '*'상자를 출력하는 프로그램을 함수로 작성"
   ]
  },
  {
   "cell_type": "code",
   "execution_count": 7,
   "id": "df03680d",
   "metadata": {},
   "outputs": [
    {
     "name": "stdout",
     "output_type": "stream",
     "text": [
      "****\n",
      "\n",
      "****\n",
      "\n"
     ]
    }
   ],
   "source": [
    "def PrintBox(a: int, b: int):\n",
    "    for i in range (0, a, 1):\n",
    "        for j in range (0, b, 1):\n",
    "            print('*', end=\"\")\n",
    "        print('\\n')\n",
    "    \n",
    "\n",
    "n = int(input(f'행의 개수 입력: '))\n",
    "m = int(input(f'열의 개수 입력: '))  \n",
    "\n",
    "PrintBox(n, m)"
   ]
  },
  {
   "cell_type": "markdown",
   "id": "3b97602a",
   "metadata": {},
   "source": [
    "2. 하나의 숫자를 전달받아 숫자의 자리 합을 구하는 함수를 작성"
   ]
  },
  {
   "cell_type": "code",
   "execution_count": 10,
   "id": "b61310a8",
   "metadata": {},
   "outputs": [
    {
     "data": {
      "text/plain": [
       "6"
      ]
     },
     "execution_count": 10,
     "metadata": {},
     "output_type": "execute_result"
    }
   ],
   "source": [
    "def GetLen(s: str):\n",
    "    return len(s)\n",
    "\n",
    "def GetdigitSum(length: int, s: str):\n",
    "    sum = 0\n",
    "    for i in range(length):\n",
    "        sum += int(s[i])\n",
    "    return sum\n",
    "    \n",
    "\n",
    "num = str(input('숫자입력: '))\n",
    "length = len(num)\n",
    "sum = GetdigitSum(length, num)\n",
    "sum"
   ]
  },
  {
   "cell_type": "markdown",
   "id": "7609159a",
   "metadata": {},
   "source": [
    "3. 두 개의 문자열이 서로 다른 처음 위치를 반환하는 함수 작성,  \n",
    "   두 개의 문자열이 같으면 -1을 반환\n"
   ]
  },
  {
   "cell_type": "code",
   "execution_count": null,
   "id": "7e94c80d",
   "metadata": {},
   "outputs": [
    {
     "name": "stdout",
     "output_type": "stream",
     "text": [
      "문자열1: Hello World!\n",
      "문자열2: Hello World\n"
     ]
    },
    {
     "ename": "IndexError",
     "evalue": "string index out of range",
     "output_type": "error",
     "traceback": [
      "\u001b[1;31m---------------------------------------------------------------------------\u001b[0m",
      "\u001b[1;31mIndexError\u001b[0m                                Traceback (most recent call last)",
      "Cell \u001b[1;32mIn[19], line 20\u001b[0m\n\u001b[0;32m     17\u001b[0m \u001b[38;5;28mprint\u001b[39m(\u001b[38;5;124mf\u001b[39m\u001b[38;5;124m'\u001b[39m\u001b[38;5;124m문자열1: \u001b[39m\u001b[38;5;132;01m{\u001b[39;00mn\u001b[38;5;132;01m}\u001b[39;00m\u001b[38;5;124m'\u001b[39m)\n\u001b[0;32m     18\u001b[0m \u001b[38;5;28mprint\u001b[39m(\u001b[38;5;124mf\u001b[39m\u001b[38;5;124m'\u001b[39m\u001b[38;5;124m문자열2: \u001b[39m\u001b[38;5;132;01m{\u001b[39;00mm\u001b[38;5;132;01m}\u001b[39;00m\u001b[38;5;124m'\u001b[39m)\n\u001b[1;32m---> 20\u001b[0m CompareStr(n, m)\n",
      "Cell \u001b[1;32mIn[19], line 9\u001b[0m, in \u001b[0;36mCompareStr\u001b[1;34m(s1, s2)\u001b[0m\n\u001b[0;32m      7\u001b[0m i \u001b[38;5;241m=\u001b[39m \u001b[38;5;241m0\u001b[39m\n\u001b[0;32m      8\u001b[0m \u001b[38;5;28;01mwhile\u001b[39;00m i \u001b[38;5;241m<\u001b[39m leng :\n\u001b[1;32m----> 9\u001b[0m     \u001b[38;5;28;01mif\u001b[39;00m s1[i] \u001b[38;5;241m!=\u001b[39m s2[i]:\n\u001b[0;32m     10\u001b[0m         \u001b[38;5;28;01mreturn\u001b[39;00m i \u001b[38;5;241m+\u001b[39m \u001b[38;5;241m1\u001b[39m\n\u001b[0;32m     11\u001b[0m     i \u001b[38;5;241m+\u001b[39m\u001b[38;5;241m=\u001b[39m \u001b[38;5;241m1\u001b[39m\n",
      "\u001b[1;31mIndexError\u001b[0m: string index out of range"
     ]
    }
   ],
   "source": [
    "def CompareStr(s1: str, s2: str):\n",
    "    min_len = min(len(s1), len(s2))\n",
    "    \n",
    "    i = 0\n",
    "    while i < leng :\n",
    "        if s1[i] != s2[i]:\n",
    "            return i + 1\n",
    "        i += 1\n",
    "    return -1\n",
    "\n",
    "n = str(input(f'문자열1 입력: '))\n",
    "m = str(input(f'문자열2 입력: '))  \n",
    "\n",
    "print(f'문자열1: {n}')\n",
    "print(f'문자열2: {m}')\n",
    "\n",
    "CompareStr(n, m)"
   ]
  }
 ],
 "metadata": {
  "kernelspec": {
   "display_name": "base",
   "language": "python",
   "name": "python3"
  },
  "language_info": {
   "codemirror_mode": {
    "name": "ipython",
    "version": 3
   },
   "file_extension": ".py",
   "mimetype": "text/x-python",
   "name": "python",
   "nbconvert_exporter": "python",
   "pygments_lexer": "ipython3",
   "version": "3.13.5"
  }
 },
 "nbformat": 4,
 "nbformat_minor": 5
}
