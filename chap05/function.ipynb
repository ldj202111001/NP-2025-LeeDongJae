{
 "cells": [
  {
   "cell_type": "markdown",
   "id": "8ba8dca4",
   "metadata": {},
   "source": [
    "# 함수 연습문제"
   ]
  },
  {
   "cell_type": "markdown",
   "id": "369c0233",
   "metadata": {},
   "source": [
    "반지름을 전달하면 원의 면적을 반환하는 cir_area(r) 함수와 원의 둘레와 반환하는 cir_cirm(r) 함수를 작성하라.  \n",
    "이들 함수를 이용하여 반지름이 3.5cm인 원의 면적과 둘레를 소수점 아래 첫 자리까지 구하라. "
   ]
  },
  {
   "cell_type": "code",
   "execution_count": null,
   "id": "c37307c8",
   "metadata": {},
   "outputs": [
    {
     "name": "stdout",
     "output_type": "stream",
     "text": [
      "<function cir_area at 0x000002173B6F5C60>\n"
     ]
    }
   ],
   "source": [
    "import math\n",
    "\n",
    "def cir_area(r):\n",
    "    r ** 2 * math.pi\n",
    "    return round(r, 1) # round(): 반올림할 소수점 자릿수를 지정 가능\n",
    "\n",
    "\n",
    "def cir_cirm(r):\n",
    "    2 * r * math.pi\n",
    "    return round(r, 1)\n",
    "\n",
    "r = 3.5\n",
    "    \n",
    "area = cir_area(r)\n",
    "\n",
    "print(area)\n",
    "\n"
   ]
  },
  {
   "cell_type": "markdown",
   "id": "24e82598",
   "metadata": {},
   "source": [
    "1. 두 개의 매개변수 n, m을 전달받아 m x n개의 '*'상자를 출력하는 프로그램을 함수로 작성"
   ]
  },
  {
   "cell_type": "code",
   "execution_count": 7,
   "id": "df03680d",
   "metadata": {},
   "outputs": [
    {
     "name": "stdout",
     "output_type": "stream",
     "text": [
      "****\n",
      "\n",
      "****\n",
      "\n"
     ]
    }
   ],
   "source": [
    "def PrintBox(a: int, b: int):\n",
    "    for i in range (0, a, 1):\n",
    "        for j in range (0, b, 1):\n",
    "            print('*', end=\"\")\n",
    "        print('\\n')\n",
    "    \n",
    "\n",
    "n = int(input(f'행의 개수 입력: '))\n",
    "m = int(input(f'열의 개수 입력: '))  \n",
    "\n",
    "PrintBox(n, m)"
   ]
  },
  {
   "cell_type": "markdown",
   "id": "3b97602a",
   "metadata": {},
   "source": [
    "2. 하나의 숫자를 전달받아 숫자의 자리 합을 구하는 함수를 작성"
   ]
  },
  {
   "cell_type": "code",
   "execution_count": 10,
   "id": "b61310a8",
   "metadata": {},
   "outputs": [
    {
     "data": {
      "text/plain": [
       "6"
      ]
     },
     "execution_count": 10,
     "metadata": {},
     "output_type": "execute_result"
    }
   ],
   "source": [
    "def GetLen(s: str):\n",
    "    return len(s)\n",
    "\n",
    "def GetdigitSum(length: int, s: str):\n",
    "    sum = 0\n",
    "    for i in range(length):\n",
    "        sum += int(s[i])\n",
    "    return sum\n",
    "    \n",
    "\n",
    "num = str(input('숫자입력: '))\n",
    "length = len(num)\n",
    "sum = GetdigitSum(length, num)\n",
    "sum"
   ]
  },
  {
   "cell_type": "markdown",
   "id": "7609159a",
   "metadata": {},
   "source": [
    "3. 두 개의 문자열이 서로 다른 처음 위치를 반환하는 함수 작성,  \n",
    "   두 개의 문자열이 같으면 -1을 반환\n"
   ]
  },
  {
   "cell_type": "code",
   "execution_count": 2,
   "id": "7e94c80d",
   "metadata": {},
   "outputs": [
    {
     "name": "stdout",
     "output_type": "stream",
     "text": [
      "문자열1: Hello\n",
      "문자열2: Hello!\n"
     ]
    },
    {
     "data": {
      "text/plain": [
       "6"
      ]
     },
     "execution_count": 2,
     "metadata": {},
     "output_type": "execute_result"
    }
   ],
   "source": [
    "def CompareStr(s1: str, s2: str):\n",
    "    min_len = min(len(s1), len(s2))\n",
    "    \n",
    "    for i in range(min_len):\n",
    "        if s1[i] != s2[i]:\n",
    "            return i + 1  # 1부터 시작\n",
    "    \n",
    "    # 길이가 다르면 첫 차이는 min_len + 1 위치\n",
    "    if len(s1) != len(s2):\n",
    "        return min_len + 1\n",
    "    \n",
    "    # 완전히 같으면 -1\n",
    "    return -1\n",
    "\n",
    "n = str(input(f'문자열1 입력: '))\n",
    "m = str(input(f'문자열2 입력: '))  \n",
    "\n",
    "print(f'문자열1: {n}')\n",
    "print(f'문자열2: {m}')\n",
    "\n",
    "CompareStr(n, m)"
   ]
  },
  {
   "cell_type": "markdown",
   "id": "9412a378",
   "metadata": {},
   "source": [
    "4. 숫자를 전달받아 그 수의 약수를 리스트로 반환"
   ]
  },
  {
   "cell_type": "code",
   "execution_count": 3,
   "id": "e2c011d2",
   "metadata": {},
   "outputs": [
    {
     "name": "stdout",
     "output_type": "stream",
     "text": [
      "81의 약수: [1, 3, 9, 27, 81]\n"
     ]
    }
   ],
   "source": [
    "def get_divisors(n: int) -> list:\n",
    "    divisors = []\n",
    "    for i in range(1, n + 1):\n",
    "        if n % i == 0:\n",
    "            divisors.append(i)\n",
    "    return divisors\n",
    "\n",
    "# 테스트\n",
    "num = int(input(\"숫자 입력: \"))\n",
    "print(f\"{num}의 약수:\", get_divisors(num))"
   ]
  },
  {
   "cell_type": "markdown",
   "id": "ab6426ec",
   "metadata": {},
   "source": [
    "5. 문자열과 하나의 문자를 전달받아 문자열에서 문자의 위치를 모두 찾아 리스트로 반환하는 함수"
   ]
  },
  {
   "cell_type": "code",
   "execution_count": 8,
   "id": "3911e904",
   "metadata": {},
   "outputs": [
    {
     "name": "stdout",
     "output_type": "stream",
     "text": [
      "입력한 문자열: Hello World!\n",
      "입력한 문자: l\n",
      "찾은 위치: [2, 3, 9]\n"
     ]
    }
   ],
   "source": [
    "def GetLocate (c: str,s: str):\n",
    "    loc_list = []\n",
    "    leng = len(s)\n",
    "    for i in range(0, leng, 1):\n",
    "        if s[i] == c:\n",
    "            loc_list.append(i)\n",
    "    \n",
    "    return loc_list\n",
    "\n",
    "string = str(input('문자열입력: '))\n",
    "ch = str(input('문자입력: '))\n",
    "\n",
    "result = GetLocate(ch, string)\n",
    "\n",
    "print(f'입력한 문자열: {string}')\n",
    "print(f'입력한 문자: {ch}')\n",
    "\n",
    "print(f'찾은 위치: {result}')"
   ]
  },
  {
   "cell_type": "markdown",
   "id": "9bea4184",
   "metadata": {},
   "source": [
    "6. 재귀 함수를 이용하여 1부터 100까지의 합을 계산하는 프로그램"
   ]
  },
  {
   "cell_type": "code",
   "execution_count": 9,
   "id": "adb2a7ff",
   "metadata": {},
   "outputs": [
    {
     "name": "stdout",
     "output_type": "stream",
     "text": [
      "1부터 100까지의 합: 5050\n"
     ]
    }
   ],
   "source": [
    "def recursive_sum(n: int) -> int:\n",
    "    if n == 1:\n",
    "        return 1\n",
    "    else:\n",
    "        return n + recursive_sum(n - 1)\n",
    "\n",
    "# 1부터 100까지 합 계산\n",
    "result = recursive_sum(100)\n",
    "print(\"1부터 100까지의 합:\", result)"
   ]
  }
 ],
 "metadata": {
  "kernelspec": {
   "display_name": "base",
   "language": "python",
   "name": "python3"
  },
  "language_info": {
   "codemirror_mode": {
    "name": "ipython",
    "version": 3
   },
   "file_extension": ".py",
   "mimetype": "text/x-python",
   "name": "python",
   "nbconvert_exporter": "python",
   "pygments_lexer": "ipython3",
   "version": "3.13.5"
  }
 },
 "nbformat": 4,
 "nbformat_minor": 5
}
