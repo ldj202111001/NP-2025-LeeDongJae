{
 "cells": [
  {
   "cell_type": "markdown",
   "id": "8ba8dca4",
   "metadata": {},
   "source": [
    "# 함수 연습문제"
   ]
  },
  {
   "cell_type": "markdown",
   "id": "369c0233",
   "metadata": {},
   "source": [
    "반지름을 전달하면 원의 면적을 반환하는 cir_area(r) 함수와 원의 둘레와 반환하는 cir_cirm(r) 함수를 작성하라.  \n",
    "이들 함수를 이용하여 반지름이 3.5cm인 원의 면적과 둘레를 소수점 아래 첫 자리까지 구하라. "
   ]
  },
  {
   "cell_type": "code",
   "execution_count": null,
   "id": "c37307c8",
   "metadata": {},
   "outputs": [
    {
     "name": "stdout",
     "output_type": "stream",
     "text": [
      "<function cir_area at 0x000002173B6F5C60>\n"
     ]
    }
   ],
   "source": [
    "import math\n",
    "\n",
    "def cir_area(r):\n",
    "    r ** 2 * math.pi\n",
    "    return round(r, 1) # round(): 반올림할 소수점 자릿수를 지정 가능\n",
    "\n",
    "\n",
    "def cir_cirm(r):\n",
    "    2 * r * math.pi\n",
    "    return round(r, 1)\n",
    "\n",
    "r = 3.5\n",
    "    \n",
    "area = cir_area(r)\n",
    "\n",
    "print(area)\n",
    "\n"
   ]
  }
 ],
 "metadata": {
  "kernelspec": {
   "display_name": ".venv",
   "language": "python",
   "name": "python3"
  },
  "language_info": {
   "codemirror_mode": {
    "name": "ipython",
    "version": 3
   },
   "file_extension": ".py",
   "mimetype": "text/x-python",
   "name": "python",
   "nbconvert_exporter": "python",
   "pygments_lexer": "ipython3",
   "version": "3.11.9"
  }
 },
 "nbformat": 4,
 "nbformat_minor": 5
}
