{
 "cells": [
  {
   "cell_type": "markdown",
   "id": "feda6ef1",
   "metadata": {},
   "source": [
    "# 문자열\n",
    "문자나 단어 등으로 구성된 문자의 집합을 표현하는 자료구조"
   ]
  },
  {
   "cell_type": "markdown",
   "id": "0ae1d1e2",
   "metadata": {},
   "source": [
    "'' (\"\") 부터 ''(\"\") 까지 문자"
   ]
  },
  {
   "cell_type": "code",
   "execution_count": 6,
   "id": "bcf5b6e9",
   "metadata": {},
   "outputs": [
    {
     "data": {
      "text/plain": [
       "'\\nHello \\nWorld\\n'"
      ]
     },
     "execution_count": 6,
     "metadata": {},
     "output_type": "execute_result"
    }
   ],
   "source": [
    "\"\"\"\n",
    "Hello \n",
    "World\n",
    "\"\"\""
   ]
  },
  {
   "cell_type": "markdown",
   "id": "44ebaf62",
   "metadata": {},
   "source": [
    "#### - 문자의 개별적 사용"
   ]
  },
  {
   "cell_type": "code",
   "execution_count": 8,
   "id": "d1c12ec6",
   "metadata": {},
   "outputs": [
    {
     "data": {
      "text/plain": [
       "'P'"
      ]
     },
     "execution_count": 8,
     "metadata": {},
     "output_type": "execute_result"
    }
   ],
   "source": [
    "word = 'Python'\n",
    "word[0]\n"
   ]
  },
  {
   "cell_type": "code",
   "execution_count": 9,
   "id": "b6aec311",
   "metadata": {},
   "outputs": [
    {
     "data": {
      "text/plain": [
       "'P'"
      ]
     },
     "execution_count": 9,
     "metadata": {},
     "output_type": "execute_result"
    }
   ],
   "source": [
    "word[-6]"
   ]
  },
  {
   "cell_type": "markdown",
   "id": "8e512536",
   "metadata": {},
   "source": [
    "#### - 문자열 잘라내기"
   ]
  },
  {
   "cell_type": "code",
   "execution_count": 10,
   "id": "7711565f",
   "metadata": {},
   "outputs": [
    {
     "name": "stdout",
     "output_type": "stream",
     "text": [
      "Py\n",
      "tho\n",
      "Py\n"
     ]
    }
   ],
   "source": [
    "word = 'Python'\n",
    "print(word[0:2]) # 첨자0부터1(=2-1)까지\n",
    "\n",
    "print(word[2:5]) # 첨자2부터4(=5-1)까지\n",
    "\n",
    "print(word[:2]) # 첨자0부터1까지의문자"
   ]
  },
  {
   "cell_type": "markdown",
   "id": "f073bea2",
   "metadata": {},
   "source": [
    "#### - 문자열 인덱싱과 슬라이싱 오류"
   ]
  },
  {
   "cell_type": "code",
   "execution_count": 11,
   "id": "acae57d2",
   "metadata": {},
   "outputs": [
    {
     "ename": "IndexError",
     "evalue": "string index out of range",
     "output_type": "error",
     "traceback": [
      "\u001b[1;31m---------------------------------------------------------------------------\u001b[0m",
      "\u001b[1;31mIndexError\u001b[0m                                Traceback (most recent call last)",
      "Cell \u001b[1;32mIn[11], line 1\u001b[0m\n\u001b[1;32m----> 1\u001b[0m \u001b[43mword\u001b[49m\u001b[43m[\u001b[49m\u001b[38;5;241;43m42\u001b[39;49m\u001b[43m]\u001b[49m\n",
      "\u001b[1;31mIndexError\u001b[0m: string index out of range"
     ]
    }
   ],
   "source": [
    "word[42]"
   ]
  },
  {
   "cell_type": "markdown",
   "id": "de73735e",
   "metadata": {},
   "source": [
    "슬라이싱 에서는 범위를 벗어나도 OK"
   ]
  },
  {
   "cell_type": "code",
   "execution_count": 12,
   "id": "843f8263",
   "metadata": {},
   "outputs": [
    {
     "data": {
      "text/plain": [
       "'on'"
      ]
     },
     "execution_count": 12,
     "metadata": {},
     "output_type": "execute_result"
    }
   ],
   "source": [
    "word[4:42]"
   ]
  },
  {
   "cell_type": "markdown",
   "id": "7113220c",
   "metadata": {},
   "source": [
    "문자열은수정불가-immutable"
   ]
  },
  {
   "cell_type": "code",
   "execution_count": 13,
   "id": "89dc952b",
   "metadata": {},
   "outputs": [
    {
     "ename": "TypeError",
     "evalue": "'str' object does not support item assignment",
     "output_type": "error",
     "traceback": [
      "\u001b[1;31m---------------------------------------------------------------------------\u001b[0m",
      "\u001b[1;31mTypeError\u001b[0m                                 Traceback (most recent call last)",
      "Cell \u001b[1;32mIn[13], line 1\u001b[0m\n\u001b[1;32m----> 1\u001b[0m \u001b[43mword\u001b[49m\u001b[43m[\u001b[49m\u001b[38;5;241;43m0\u001b[39;49m\u001b[43m]\u001b[49m \u001b[38;5;241m=\u001b[39m \u001b[38;5;124m'\u001b[39m\u001b[38;5;124mJ\u001b[39m\u001b[38;5;124m'\u001b[39m\n",
      "\u001b[1;31mTypeError\u001b[0m: 'str' object does not support item assignment"
     ]
    }
   ],
   "source": [
    "word[0] = 'J'"
   ]
  },
  {
   "cell_type": "markdown",
   "id": "c493ba80",
   "metadata": {},
   "source": [
    "슬라이싱을 이용하여 새로운 문자열 만들기"
   ]
  },
  {
   "cell_type": "code",
   "execution_count": 15,
   "id": "0da7a455",
   "metadata": {},
   "outputs": [
    {
     "data": {
      "text/plain": [
       "'Jython'"
      ]
     },
     "execution_count": 15,
     "metadata": {},
     "output_type": "execute_result"
    }
   ],
   "source": [
    "word = 'Python'\n",
    "word2 = 'J' + word[1:] # +를 이용한문자열합치기\n",
    "word2"
   ]
  },
  {
   "cell_type": "markdown",
   "id": "c5fcddf8",
   "metadata": {},
   "source": [
    "#### - 문자열 길이 확인"
   ]
  },
  {
   "cell_type": "code",
   "execution_count": 14,
   "id": "f52909d7",
   "metadata": {},
   "outputs": [
    {
     "data": {
      "text/plain": [
       "6"
      ]
     },
     "execution_count": 14,
     "metadata": {},
     "output_type": "execute_result"
    }
   ],
   "source": [
    "s = 'smiles'\n",
    "len(s)"
   ]
  },
  {
   "cell_type": "markdown",
   "id": "42174722",
   "metadata": {},
   "source": [
    "#### - index를 이용하여 문자열의 문자를 역순으로 만들기"
   ]
  },
  {
   "cell_type": "code",
   "execution_count": 17,
   "id": "06a85446",
   "metadata": {},
   "outputs": [
    {
     "name": "stdout",
     "output_type": "stream",
     "text": [
      "Reversed string : olleH\n"
     ]
    }
   ],
   "source": [
    "## 변수초기화부분 ##\n",
    "outStr = \"\" #출력문자열(빈문자열)\n",
    "count, i = 0, 0\n",
    " \n",
    " ## 메인코드부분 ##\n",
    "inStr = input(\"Type string : \")\n",
    "count = len(inStr) #문자열 길이\n",
    "for i in range(0, count) :\n",
    "    outStr += inStr[count - (i + 1)] #마지막 문자부터 추출하여 합치기\n",
    "print(\"Reversed string : %s\" % outStr)"
   ]
  },
  {
   "cell_type": "markdown",
   "id": "bb7d7ac1",
   "metadata": {},
   "source": [
    "#### - 문자열의 문자 조사"
   ]
  },
  {
   "cell_type": "code",
   "execution_count": 19,
   "id": "d7b7caf9",
   "metadata": {},
   "outputs": [
    {
     "data": {
      "text/plain": [
       "True"
      ]
     },
     "execution_count": 19,
     "metadata": {},
     "output_type": "execute_result"
    }
   ],
   "source": [
    "'a' in 'cat'\n"
   ]
  },
  {
   "cell_type": "code",
   "execution_count": 20,
   "id": "e9c16de4",
   "metadata": {},
   "outputs": [
    {
     "data": {
      "text/plain": [
       "False"
      ]
     },
     "execution_count": 20,
     "metadata": {},
     "output_type": "execute_result"
    }
   ],
   "source": [
    "'a' not in 'can'"
   ]
  },
  {
   "cell_type": "markdown",
   "id": "d207c3b8",
   "metadata": {},
   "source": [
    "객체: 변수와 함수를 묶은 것  \n",
    "메소드: 객체와 관련된 함수\n",
    "호출: 객체.함수() "
   ]
  },
  {
   "cell_type": "code",
   "execution_count": 21,
   "id": "0944b496",
   "metadata": {},
   "outputs": [
    {
     "data": {
      "text/plain": [
       "True"
      ]
     },
     "execution_count": 21,
     "metadata": {},
     "output_type": "execute_result"
    }
   ],
   "source": [
    "'123'.isdigit()"
   ]
  },
  {
   "cell_type": "markdown",
   "id": "e46d986a",
   "metadata": {},
   "source": [
    "isalpha() 문자열이 문자인가?  \n",
    "isalnum() 문자열이 문자+숫자혼합인가?  \n",
    "isupper() 문자열이 대문자인가?   \n",
    "islower() 문자열이 소문자인가?    \n",
    "isspace() 문자열이 공백인가?    \n",
    "   \n",
    "upper()  대문자로 변환  \n",
    "str.lower() 소문자로 변환  \n",
    "str.swapcase() 대소문자 바꾸기  \n",
    "str.title() 첫글자만 대문자로 변환  "
   ]
  },
  {
   "cell_type": "markdown",
   "id": "8f5a8b9a",
   "metadata": {},
   "source": [
    "#### - 문자열 찾기"
   ]
  },
  {
   "cell_type": "code",
   "execution_count": 22,
   "id": "e7ccc09d",
   "metadata": {},
   "outputs": [
    {
     "name": "stdout",
     "output_type": "stream",
     "text": [
      "2\n",
      "4\n",
      "9\n",
      "4\n"
     ]
    }
   ],
   "source": [
    "str = 'Python programming is easy!'\n",
    "print(str.count('i')) # 문자열에서 문자'i'의 개수\n",
    "print(str.find('o'))  # 문자열에서'o'의처음위치. 없으면 -1 반환\n",
    "print(str.rfind('o')) # 문자열에서'o'가나오는가장나중위치\n",
    "print(str.index('on'))# 문자열에서'on'의처음위치. 없으면 ValueError"
   ]
  },
  {
   "cell_type": "markdown",
   "id": "ff3d1ea9",
   "metadata": {},
   "source": [
    "#### - 문자열 분리하기"
   ]
  },
  {
   "cell_type": "code",
   "execution_count": 23,
   "id": "9a234b54",
   "metadata": {},
   "outputs": [
    {
     "data": {
      "text/plain": [
       "['a ', 'c']"
      ]
     },
     "execution_count": 23,
     "metadata": {},
     "output_type": "execute_result"
    }
   ],
   "source": [
    "x = 'a bc' # a와b 사이에공백이있다\n",
    "x.split() # 공백을기준으로분리\n",
    "['a', 'bc']\n",
    "x.split('b') # 문자열을( )속의문자로분리한다\n",
    "['a ', 'c'] # 분리문자'b'는제외됨"
   ]
  },
  {
   "cell_type": "markdown",
   "id": "79c63cfc",
   "metadata": {},
   "source": [
    "#### - 문자열에서 공백 제거하기"
   ]
  },
  {
   "cell_type": "code",
   "execution_count": 24,
   "id": "ad947b94",
   "metadata": {},
   "outputs": [
    {
     "name": "stdout",
     "output_type": "stream",
     "text": [
      "hello\n",
      " hello \n",
      " hello\n",
      "hello \n"
     ]
    }
   ],
   "source": [
    "str = ' hello '\n",
    "print(str.strip()) # 양쪽에서 공백제거\n",
    "print(str) #원래 문자열은 변하지 않는다\n",
    "print(str.rstrip()) #오른쪽 공백제거\n",
    "print(str.lstrip()) #왼쪽 공백제거"
   ]
  },
  {
   "cell_type": "markdown",
   "id": "74b0aeb2",
   "metadata": {},
   "source": [
    "#### - 문자열 결합"
   ]
  },
  {
   "cell_type": "code",
   "execution_count": 25,
   "id": "152a40a2",
   "metadata": {},
   "outputs": [
    {
     "data": {
      "text/plain": [
       "'h*e*l*l*o'"
      ]
     },
     "execution_count": 25,
     "metadata": {},
     "output_type": "execute_result"
    }
   ],
   "source": [
    "'*'.join('hello') # * 와 문자열의 각 문자를 하나씩 결합한 문자열 생성"
   ]
  },
  {
   "cell_type": "markdown",
   "id": "ab6ffa7a",
   "metadata": {},
   "source": [
    "#### - 문자열 정렬"
   ]
  },
  {
   "cell_type": "code",
   "execution_count": 26,
   "id": "a2faaaae",
   "metadata": {},
   "outputs": [
    {
     "name": "stdout",
     "output_type": "stream",
     "text": [
      "   he\n",
      "he   \n"
     ]
    }
   ],
   "source": [
    "print('he'.rjust(5)) # 5자리를 오른쪽으로 정렬\n",
    "\n",
    "print('he'.ljust(5)) # 5자리를 왼쪽으로 정렬"
   ]
  },
  {
   "cell_type": "markdown",
   "id": "002be905",
   "metadata": {},
   "source": [
    "# 리스트 (list)\n",
    "\n",
    "여러가지 자료를 하나로 모아서 표현"
   ]
  },
  {
   "cell_type": "code",
   "execution_count": 29,
   "id": "10592d63",
   "metadata": {},
   "outputs": [
    {
     "data": {
      "text/plain": [
       "[1, 4, 9, 16, 25]"
      ]
     },
     "execution_count": 29,
     "metadata": {},
     "output_type": "execute_result"
    }
   ],
   "source": [
    "squares = [1, 4, 9, 16, 25]\n",
    "squares"
   ]
  },
  {
   "cell_type": "code",
   "execution_count": 28,
   "id": "a4e2556a",
   "metadata": {},
   "outputs": [
    {
     "data": {
      "text/plain": [
       "[]"
      ]
     },
     "execution_count": 28,
     "metadata": {},
     "output_type": "execute_result"
    }
   ],
   "source": [
    "empty = []\n",
    "empty"
   ]
  },
  {
   "cell_type": "markdown",
   "id": "da0bb97c",
   "metadata": {},
   "source": [
    "#### - 리스트의 인덱싱, 슬라이싱"
   ]
  },
  {
   "cell_type": "code",
   "execution_count": 31,
   "id": "8abd77c0",
   "metadata": {},
   "outputs": [
    {
     "data": {
      "text/plain": [
       "1"
      ]
     },
     "execution_count": 31,
     "metadata": {},
     "output_type": "execute_result"
    }
   ],
   "source": [
    "squares = [1, 4, 9, 16, 25]\n",
    "squares[0]"
   ]
  },
  {
   "cell_type": "code",
   "execution_count": 30,
   "id": "e6194f1c",
   "metadata": {},
   "outputs": [
    {
     "data": {
      "text/plain": [
       "[1, 4, 9]"
      ]
     },
     "execution_count": 30,
     "metadata": {},
     "output_type": "execute_result"
    }
   ],
   "source": [
    "squares[0:3]\n",
    "[1, 4, 9]"
   ]
  },
  {
   "cell_type": "markdown",
   "id": "0fbc4c94",
   "metadata": {},
   "source": [
    "리스트 합치기"
   ]
  },
  {
   "cell_type": "code",
   "execution_count": 32,
   "id": "aff7c9c2",
   "metadata": {},
   "outputs": [
    {
     "data": {
      "text/plain": [
       "[1, 4, 9, 16, 25, 36, 49, 64, 81, 100]"
      ]
     },
     "execution_count": 32,
     "metadata": {},
     "output_type": "execute_result"
    }
   ],
   "source": [
    "squares + [36, 49, 64, 81, 100] "
   ]
  },
  {
   "cell_type": "markdown",
   "id": "9e1568f0",
   "metadata": {},
   "source": [
    "#### 리스트의 요소 수정, 추가"
   ]
  },
  {
   "cell_type": "code",
   "execution_count": 33,
   "id": "8df06b92",
   "metadata": {},
   "outputs": [
    {
     "data": {
      "text/plain": [
       "[1, 8, 27, 64, 125]"
      ]
     },
     "execution_count": 33,
     "metadata": {},
     "output_type": "execute_result"
    }
   ],
   "source": [
    "cubes = [1, 8, 27, 65, 125] # 세제곱수\n",
    "cubes[3] = 64 # 리스트 요소 수 정하기\n",
    "cubes"
   ]
  },
  {
   "cell_type": "code",
   "execution_count": 34,
   "id": "338617a2",
   "metadata": {},
   "outputs": [
    {
     "data": {
      "text/plain": [
       "[1, 8, 27, 64, 125, 216, 343]"
      ]
     },
     "execution_count": 34,
     "metadata": {},
     "output_type": "execute_result"
    }
   ],
   "source": [
    "cubes.append(216)\n",
    "cubes.append(7 ** 3)\n",
    "cubes"
   ]
  },
  {
   "cell_type": "markdown",
   "id": "ceb9c2da",
   "metadata": {},
   "source": [
    "#### - 중첩리스트"
   ]
  },
  {
   "cell_type": "code",
   "execution_count": 35,
   "id": "a203aa8c",
   "metadata": {},
   "outputs": [
    {
     "data": {
      "text/plain": [
       "[['a', 'b', 'c'], [1, 2, 3]]"
      ]
     },
     "execution_count": 35,
     "metadata": {},
     "output_type": "execute_result"
    }
   ],
   "source": [
    "a = ['a', 'b', 'c']\n",
    "n = [1, 2, 3]\n",
    "x = [a, n]\n",
    "x"
   ]
  },
  {
   "cell_type": "markdown",
   "id": "4eb30b08",
   "metadata": {},
   "source": [
    "#### - 2차원 리스트"
   ]
  },
  {
   "cell_type": "code",
   "execution_count": 36,
   "id": "929a201e",
   "metadata": {},
   "outputs": [
    {
     "data": {
      "text/plain": [
       "1"
      ]
     },
     "execution_count": 36,
     "metadata": {},
     "output_type": "execute_result"
    }
   ],
   "source": [
    "list2d = [[1,2,3],\n",
    "[4,5,6],\n",
    "[7,8,9]]\n",
    "\n",
    "list2d[0][0]"
   ]
  },
  {
   "cell_type": "markdown",
   "id": "f635d98d",
   "metadata": {},
   "source": [
    "#### - 내장 함수를 이용한 리스트 다루기"
   ]
  },
  {
   "cell_type": "markdown",
   "id": "5fbc6380",
   "metadata": {},
   "source": [
    "리스트 길이"
   ]
  },
  {
   "cell_type": "code",
   "execution_count": null,
   "id": "0f383a07",
   "metadata": {},
   "outputs": [],
   "source": [
    "letters = ['a', 'b', 'c', 'd']\n",
    "len(letters)"
   ]
  },
  {
   "cell_type": "markdown",
   "id": "02775531",
   "metadata": {},
   "source": [
    "리스트 요소의 합, 최솟값, 최댓값"
   ]
  },
  {
   "cell_type": "code",
   "execution_count": 38,
   "id": "d3aef6be",
   "metadata": {},
   "outputs": [
    {
     "name": "stdout",
     "output_type": "stream",
     "text": [
      "15\n",
      "1\n"
     ]
    },
    {
     "data": {
      "text/plain": [
       "5"
      ]
     },
     "execution_count": 38,
     "metadata": {},
     "output_type": "execute_result"
    }
   ],
   "source": [
    "num = [1, 2, 3, 4, 5]\n",
    "print(sum(num))\n",
    "print(min(num))\n",
    "max(num)"
   ]
  },
  {
   "cell_type": "markdown",
   "id": "73c4af9d",
   "metadata": {},
   "source": [
    "#### - 리스트의 메소드\n",
    "\n",
    "List.Method()   \n",
    "사용법 >> help()"
   ]
  },
  {
   "cell_type": "markdown",
   "id": "799cd95e",
   "metadata": {},
   "source": [
    "#### - 리스트 요소 순서 나열"
   ]
  },
  {
   "cell_type": "code",
   "execution_count": 39,
   "id": "2f002e3e",
   "metadata": {},
   "outputs": [
    {
     "name": "stdout",
     "output_type": "stream",
     "text": [
      "['bus', 'sedan', 'taxi', 'truck']\n"
     ]
    }
   ],
   "source": [
    "cars = ['taxi', 'sedan', 'bus', 'truck']\n",
    "cars.sort() \n",
    "print(cars)"
   ]
  },
  {
   "cell_type": "code",
   "execution_count": 40,
   "id": "191639d8",
   "metadata": {},
   "outputs": [
    {
     "name": "stdout",
     "output_type": "stream",
     "text": [
      "['truck', 'taxi', 'sedan', 'bus']\n"
     ]
    }
   ],
   "source": [
    "cars.sort(reverse=True) #역순배열\n",
    "print(cars)"
   ]
  },
  {
   "cell_type": "markdown",
   "id": "43745d8c",
   "metadata": {},
   "source": [
    "관련 에러"
   ]
  },
  {
   "cell_type": "code",
   "execution_count": 43,
   "id": "269e6e95",
   "metadata": {},
   "outputs": [
    {
     "ename": "IndexError",
     "evalue": "list index out of range",
     "output_type": "error",
     "traceback": [
      "\u001b[1;31m---------------------------------------------------------------------------\u001b[0m",
      "\u001b[1;31mIndexError\u001b[0m                                Traceback (most recent call last)",
      "Cell \u001b[1;32mIn[43], line 2\u001b[0m\n\u001b[0;32m      1\u001b[0m motorcycles \u001b[38;5;241m=\u001b[39m [\u001b[38;5;124m'\u001b[39m\u001b[38;5;124mhonda\u001b[39m\u001b[38;5;124m'\u001b[39m, \u001b[38;5;124m'\u001b[39m\u001b[38;5;124myamaha\u001b[39m\u001b[38;5;124m'\u001b[39m, \u001b[38;5;124m'\u001b[39m\u001b[38;5;124msuzuki\u001b[39m\u001b[38;5;124m'\u001b[39m]\n\u001b[1;32m----> 2\u001b[0m \u001b[38;5;28mprint\u001b[39m(\u001b[43mmotorcycles\u001b[49m\u001b[43m[\u001b[49m\u001b[38;5;241;43m3\u001b[39;49m\u001b[43m]\u001b[49m)\n",
      "\u001b[1;31mIndexError\u001b[0m: list index out of range"
     ]
    }
   ],
   "source": [
    "motorcycles = ['honda', 'yamaha', 'suzuki']\n",
    "print(motorcycles[3])"
   ]
  },
  {
   "cell_type": "markdown",
   "id": "f568f1b7",
   "metadata": {},
   "source": [
    "#### - 리스트 내포\n",
    "리스트 안에 for 문을 퐇ㅁ하여 한 줄로 리스트 만드는 방법\n",
    "[표현식 for 항목 in 반복객체]\n",
    "[표현식 for 항목 in 반복객체 if 조건문]\n",
    "[표현식 if 조건문 else 문장 for 항목 in 반복객체]"
   ]
  },
  {
   "cell_type": "code",
   "execution_count": 45,
   "id": "5cbbbb1d",
   "metadata": {},
   "outputs": [
    {
     "data": {
      "text/plain": [
       "[3, 6, 9, 12]"
      ]
     },
     "execution_count": 45,
     "metadata": {},
     "output_type": "execute_result"
    }
   ],
   "source": [
    "a = [1, 2, 3, 4]\n",
    "result = [num*3 for num in a]\n",
    "result"
   ]
  },
  {
   "cell_type": "markdown",
   "id": "4c044143",
   "metadata": {},
   "source": [
    "# 튜플 (tuple)\n",
    "리스트와 같으나 요소를 수정, 삭제 할 수 없다"
   ]
  },
  {
   "cell_type": "code",
   "execution_count": 1,
   "id": "5d99c9e1",
   "metadata": {},
   "outputs": [
    {
     "data": {
      "text/plain": [
       "(1, 2, 3)"
      ]
     },
     "execution_count": 1,
     "metadata": {},
     "output_type": "execute_result"
    }
   ],
   "source": [
    "t1 = (1,2,3)\n",
    "t1"
   ]
  },
  {
   "cell_type": "code",
   "execution_count": 2,
   "id": "2f4c752f",
   "metadata": {},
   "outputs": [
    {
     "data": {
      "text/plain": [
       "(1,)"
      ]
     },
     "execution_count": 2,
     "metadata": {},
     "output_type": "execute_result"
    }
   ],
   "source": [
    "t3 = 1, \n",
    "t3"
   ]
  },
  {
   "cell_type": "markdown",
   "id": "bf4d6913",
   "metadata": {},
   "source": [
    "#### - 튜플 요소 접근"
   ]
  },
  {
   "cell_type": "code",
   "execution_count": 3,
   "id": "685c5910",
   "metadata": {},
   "outputs": [
    {
     "name": "stdout",
     "output_type": "stream",
     "text": [
      "2\n",
      "(2, 3)\n"
     ]
    }
   ],
   "source": [
    "t1 = (1,2,3)\n",
    "print(t1[1])\n",
    "print(t1[1:3])"
   ]
  },
  {
   "cell_type": "markdown",
   "id": "d053ee5e",
   "metadata": {},
   "source": [
    "#### - 튜플 연산"
   ]
  },
  {
   "cell_type": "code",
   "execution_count": 4,
   "id": "1f0091c9",
   "metadata": {},
   "outputs": [
    {
     "name": "stdout",
     "output_type": "stream",
     "text": [
      "(1, 2, 3, 'a', 'b')\n",
      "(1, 2, 3, 1, 2, 3)\n"
     ]
    }
   ],
   "source": [
    "t1 = (1,2,3)\n",
    "t2 = ('a','b')\n",
    "\n",
    "print(t1 + t2 )\n",
    "print(t1 * 2)"
   ]
  },
  {
   "cell_type": "markdown",
   "id": "a7c09fba",
   "metadata": {},
   "source": [
    "#### - 튜플과 리스트 상호 변환"
   ]
  },
  {
   "cell_type": "code",
   "execution_count": null,
   "id": "efd74707",
   "metadata": {},
   "outputs": [
    {
     "data": {
      "text/plain": [
       "(1, 2, 3, 4)"
      ]
     },
     "execution_count": 5,
     "metadata": {},
     "output_type": "execute_result"
    }
   ],
   "source": [
    "T1=(1,2,3)\n",
    "L1=list(T1) # 튜플을 리스트로\n",
    "L1.append(4) # 추가\n",
    "T1=tuple(L1) # 리스트를 튜플로\n",
    "T1"
   ]
  },
  {
   "cell_type": "markdown",
   "id": "d59cbd77",
   "metadata": {},
   "source": [
    "#### - 튜플 언패킹"
   ]
  },
  {
   "cell_type": "code",
   "execution_count": 7,
   "id": "8d3b25cd",
   "metadata": {},
   "outputs": [
    {
     "data": {
      "text/plain": [
       "1"
      ]
     },
     "execution_count": 7,
     "metadata": {},
     "output_type": "execute_result"
    }
   ],
   "source": [
    "a, b, c = (1, 2, 3)\n",
    "a"
   ]
  },
  {
   "cell_type": "markdown",
   "id": "7e417918",
   "metadata": {},
   "source": [
    "# 딕셔너리 (dictionary)\n",
    "사전과 같이 대응 관계를 나타내는 자료구조"
   ]
  },
  {
   "cell_type": "markdown",
   "id": "6a19f495",
   "metadata": {},
   "source": [
    "키(key) : 값(value)로 구성  \n",
    "{key1: value1, key2: value2}  \n",
    "\n",
    "키: 정수, 실수, 문자열, 튜플  \n",
    "값: 임의의 데이터형"
   ]
  },
  {
   "cell_type": "code",
   "execution_count": 8,
   "id": "c8d9a8cd",
   "metadata": {},
   "outputs": [
    {
     "data": {
      "text/plain": [
       "{'Jun': 174, 'Kim': 170, 'Lee': 165}"
      ]
     },
     "execution_count": 8,
     "metadata": {},
     "output_type": "execute_result"
    }
   ],
   "source": [
    "height = {'Jun':174, 'Kim':170, 'Lee':165} \n",
    "height"
   ]
  },
  {
   "cell_type": "code",
   "execution_count": null,
   "id": "de6e009e",
   "metadata": {},
   "outputs": [
    {
     "data": {
      "text/plain": [
       "170"
      ]
     },
     "metadata": {},
     "output_type": "display_data"
    }
   ],
   "source": [
    "height['Kim']"
   ]
  },
  {
   "cell_type": "code",
   "execution_count": 9,
   "id": "ce5b34b7",
   "metadata": {},
   "outputs": [
    {
     "data": {
      "text/plain": [
       "{}"
      ]
     },
     "execution_count": 9,
     "metadata": {},
     "output_type": "execute_result"
    }
   ],
   "source": [
    "test = dict() # 빈 딕셔너리\n",
    "test"
   ]
  },
  {
   "cell_type": "code",
   "execution_count": 11,
   "id": "204d548a",
   "metadata": {},
   "outputs": [
    {
     "data": {
      "text/plain": [
       "True"
      ]
     },
     "execution_count": 11,
     "metadata": {},
     "output_type": "execute_result"
    }
   ],
   "source": [
    "'Kim' in height"
   ]
  },
  {
   "cell_type": "markdown",
   "id": "0e506006",
   "metadata": {},
   "source": [
    "#### -딕셔너리 요소 수정, 추가"
   ]
  },
  {
   "cell_type": "code",
   "execution_count": 12,
   "id": "f755ca93",
   "metadata": {},
   "outputs": [
    {
     "data": {
      "text/plain": [
       "{'Jun': 174, 'Kim': 170, 'Lee': 180}"
      ]
     },
     "execution_count": 12,
     "metadata": {},
     "output_type": "execute_result"
    }
   ],
   "source": [
    "height['Lee'] = 180 \n",
    "height"
   ]
  },
  {
   "cell_type": "code",
   "execution_count": 13,
   "id": "cbbd5abd",
   "metadata": {},
   "outputs": [
    {
     "data": {
      "text/plain": [
       "{'Jun': 174, 'Kim': 170, 'Lee': 180, 'Ihm': 168}"
      ]
     },
     "execution_count": 13,
     "metadata": {},
     "output_type": "execute_result"
    }
   ],
   "source": [
    "height['Ihm']=168\n",
    "height"
   ]
  },
  {
   "cell_type": "markdown",
   "id": "c513fcb2",
   "metadata": {},
   "source": [
    "#### - 딕셔너리 키, 값, 요소 뽑아내기"
   ]
  },
  {
   "cell_type": "code",
   "execution_count": 14,
   "id": "86d1219a",
   "metadata": {},
   "outputs": [
    {
     "data": {
      "text/plain": [
       "dict_keys(['Jun', 'Kim', 'Lee', 'Ihm'])"
      ]
     },
     "execution_count": 14,
     "metadata": {},
     "output_type": "execute_result"
    }
   ],
   "source": [
    "height.keys()"
   ]
  },
  {
   "cell_type": "code",
   "execution_count": 15,
   "id": "07d78936",
   "metadata": {},
   "outputs": [
    {
     "data": {
      "text/plain": [
       "dict_values([174, 170, 180, 168])"
      ]
     },
     "execution_count": 15,
     "metadata": {},
     "output_type": "execute_result"
    }
   ],
   "source": [
    "height.values() "
   ]
  },
  {
   "cell_type": "code",
   "execution_count": 16,
   "id": "053e5cc2",
   "metadata": {},
   "outputs": [
    {
     "data": {
      "text/plain": [
       "dict_items([('Jun', 174), ('Kim', 170), ('Lee', 180), ('Ihm', 168)])"
      ]
     },
     "execution_count": 16,
     "metadata": {},
     "output_type": "execute_result"
    }
   ],
   "source": [
    "height.items()"
   ]
  },
  {
   "cell_type": "code",
   "execution_count": 17,
   "id": "c1f1c83b",
   "metadata": {},
   "outputs": [
    {
     "data": {
      "text/plain": [
       "['Jun', 'Kim', 'Lee', 'Ihm']"
      ]
     },
     "execution_count": 17,
     "metadata": {},
     "output_type": "execute_result"
    }
   ],
   "source": [
    "dict_keys = height.keys()\n",
    "keys_list = list(dict_keys) # 리스트로 변환\n",
    "keys_list"
   ]
  },
  {
   "cell_type": "markdown",
   "id": "2aa13d75",
   "metadata": {},
   "source": [
    "#### 요소 제거"
   ]
  },
  {
   "cell_type": "code",
   "execution_count": 18,
   "id": "077130df",
   "metadata": {},
   "outputs": [
    {
     "data": {
      "text/plain": [
       "{'Jun': 174, 'Kim': 170, 'Lee': 180}"
      ]
     },
     "execution_count": 18,
     "metadata": {},
     "output_type": "execute_result"
    }
   ],
   "source": [
    "height.pop('Ihm') \n",
    "height"
   ]
  },
  {
   "cell_type": "markdown",
   "id": "b9a46390",
   "metadata": {},
   "source": [
    "#### - 딕셔너리 지우기"
   ]
  },
  {
   "cell_type": "code",
   "execution_count": 19,
   "id": "8d4a8b61",
   "metadata": {},
   "outputs": [
    {
     "data": {
      "text/plain": [
       "{}"
      ]
     },
     "execution_count": 19,
     "metadata": {},
     "output_type": "execute_result"
    }
   ],
   "source": [
    "height.clear() \n",
    "height"
   ]
  },
  {
   "cell_type": "markdown",
   "id": "3a604e38",
   "metadata": {},
   "source": [
    "# 집합\n",
    "요소들을 중복되지 않고 순서없이 모아놓은 자료구조"
   ]
  },
  {
   "cell_type": "code",
   "execution_count": 20,
   "id": "dc4911db",
   "metadata": {},
   "outputs": [
    {
     "data": {
      "text/plain": [
       "{'Kim', 'Lee', 'Park'}"
      ]
     },
     "execution_count": 20,
     "metadata": {},
     "output_type": "execute_result"
    }
   ],
   "source": [
    "name = set(['Kim', 'Lee', 'Park'])\n",
    "name"
   ]
  },
  {
   "cell_type": "markdown",
   "id": "a8926c2f",
   "metadata": {},
   "source": [
    "#### - 개수 확인, 수정"
   ]
  },
  {
   "cell_type": "code",
   "execution_count": 21,
   "id": "7e64ea75",
   "metadata": {},
   "outputs": [
    {
     "data": {
      "text/plain": [
       "3"
      ]
     },
     "execution_count": 21,
     "metadata": {},
     "output_type": "execute_result"
    }
   ],
   "source": [
    "len(name)"
   ]
  },
  {
   "cell_type": "code",
   "execution_count": 22,
   "id": "c88011ea",
   "metadata": {},
   "outputs": [
    {
     "data": {
      "text/plain": [
       "{'Gyu', 'Kim', 'Lee', 'Park'}"
      ]
     },
     "execution_count": 22,
     "metadata": {},
     "output_type": "execute_result"
    }
   ],
   "source": [
    "name.add('Gyu')\n",
    "name "
   ]
  },
  {
   "cell_type": "code",
   "execution_count": 23,
   "id": "a685b3ce",
   "metadata": {},
   "outputs": [
    {
     "data": {
      "text/plain": [
       "{'Kim', 'Lee', 'Park'}"
      ]
     },
     "execution_count": 23,
     "metadata": {},
     "output_type": "execute_result"
    }
   ],
   "source": [
    "name.remove('Gyu')\n",
    "name"
   ]
  },
  {
   "cell_type": "markdown",
   "id": "6d24cb65",
   "metadata": {},
   "source": [
    "#### - 집합의 연산"
   ]
  },
  {
   "cell_type": "code",
   "execution_count": null,
   "id": "d967df79",
   "metadata": {},
   "outputs": [
    {
     "data": {
      "text/plain": [
       "{1}"
      ]
     },
     "execution_count": 25,
     "metadata": {},
     "output_type": "execute_result"
    }
   ],
   "source": [
    "setA={1,2,3}\n",
    "setB={2,3,4}\n",
    "\n",
    "setA - setB"
   ]
  },
  {
   "cell_type": "code",
   "execution_count": 26,
   "id": "62e4201a",
   "metadata": {},
   "outputs": [
    {
     "data": {
      "text/plain": [
       "{2, 3}"
      ]
     },
     "execution_count": 26,
     "metadata": {},
     "output_type": "execute_result"
    }
   ],
   "source": [
    "setA & setB "
   ]
  },
  {
   "cell_type": "code",
   "execution_count": 27,
   "id": "e0df6d81",
   "metadata": {},
   "outputs": [
    {
     "data": {
      "text/plain": [
       "{1, 2, 3, 4}"
      ]
     },
     "execution_count": 27,
     "metadata": {},
     "output_type": "execute_result"
    }
   ],
   "source": [
    "setA | setB "
   ]
  },
  {
   "cell_type": "markdown",
   "id": "9c91fb2e",
   "metadata": {},
   "source": [
    "#### - 부분집합 연산"
   ]
  },
  {
   "cell_type": "code",
   "execution_count": 28,
   "id": "5dce09ff",
   "metadata": {},
   "outputs": [
    {
     "data": {
      "text/plain": [
       "True"
      ]
     },
     "execution_count": 28,
     "metadata": {},
     "output_type": "execute_result"
    }
   ],
   "source": [
    "setA = {1, 2, 3}\n",
    "setB = {1, 2, 3}\n",
    "setA == setB"
   ]
  },
  {
   "cell_type": "code",
   "execution_count": 29,
   "id": "40103046",
   "metadata": {},
   "outputs": [
    {
     "data": {
      "text/plain": [
       "True"
      ]
     },
     "execution_count": 29,
     "metadata": {},
     "output_type": "execute_result"
    }
   ],
   "source": [
    "setA = {1, 2, 3, 4, 5, 6}\n",
    "setB = {1, 2, 3}\n",
    "setB < setA"
   ]
  },
  {
   "cell_type": "code",
   "execution_count": 30,
   "id": "e907095b",
   "metadata": {},
   "outputs": [
    {
     "data": {
      "text/plain": [
       "True"
      ]
     },
     "execution_count": 30,
     "metadata": {},
     "output_type": "execute_result"
    }
   ],
   "source": [
    "setB.issubset(setA) # 집합B가 집합A의 부분집합인가?"
   ]
  },
  {
   "cell_type": "markdown",
   "id": "4a77ba9b",
   "metadata": {},
   "source": [
    "#### - 집합 예제\n",
    "\n",
    "1부터 45까지의 수 중에서 6개를 선택하여 로또 번호 만드는 프로그램"
   ]
  },
  {
   "cell_type": "code",
   "execution_count": 32,
   "id": "ffbc7004",
   "metadata": {},
   "outputs": [
    {
     "name": "stdout",
     "output_type": "stream",
     "text": [
      "{43, 13, 45, 20, 27, 29}\n",
      "[13, 20, 27, 29, 43, 45]\n"
     ]
    }
   ],
   "source": [
    "import random\n",
    "pick = set()\n",
    "while len(pick) < 6:\n",
    " n = random.randint(1,45) \n",
    " if n not in pick:\n",
    "  pick.add(n) \n",
    "print(pick)\n",
    "print(sorted(pick)) "
   ]
  }
 ],
 "metadata": {
  "kernelspec": {
   "display_name": "Python 3",
   "language": "python",
   "name": "python3"
  },
  "language_info": {
   "codemirror_mode": {
    "name": "ipython",
    "version": 3
   },
   "file_extension": ".py",
   "mimetype": "text/x-python",
   "name": "python",
   "nbconvert_exporter": "python",
   "pygments_lexer": "ipython3",
   "version": "3.11.9"
  }
 },
 "nbformat": 4,
 "nbformat_minor": 5
}
