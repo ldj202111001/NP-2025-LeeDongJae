{
 "cells": [
  {
   "cell_type": "markdown",
   "id": "04dcfb42",
   "metadata": {},
   "source": [
    "다음 딕셔너리에 대해 물음에 답하라."
   ]
  },
  {
   "cell_type": "code",
   "execution_count": 2,
   "id": "a8fa262d",
   "metadata": {},
   "outputs": [],
   "source": [
    "days = {\n",
    "    'January': 31,   'February': 28,  'March':     31,  'April':    30,\n",
    "    'May':     31,   'June':     30,  'July':      31,  'August':   31,\n",
    "    'September': 30, 'October':  31,  'November':  30,  'December': 31\n",
    "}"
   ]
  },
  {
   "cell_type": "markdown",
   "id": "36f653c3",
   "metadata": {},
   "source": [
    "사용자가 월을 입력하면 해당 월의 일수를 출력하라."
   ]
  },
  {
   "cell_type": "code",
   "execution_count": 3,
   "id": "53e393d1",
   "metadata": {},
   "outputs": [
    {
     "name": "stdout",
     "output_type": "stream",
     "text": [
      "March has 31 days.\n"
     ]
    }
   ],
   "source": [
    "month = input(\"월 이름을 입력하세요 (예: March): \").title()\n",
    "if month in days: \n",
    "    print(f\"{month} has {days[month]} days.\")\n",
    "else:\n",
    "    print(\"올바른 월 이름이 아닙니다.\")"
   ]
  },
  {
   "cell_type": "markdown",
   "id": "2a2bc62b",
   "metadata": {},
   "source": [
    "알파벳 순서로 모든 월을 출력하라."
   ]
  },
  {
   "cell_type": "code",
   "execution_count": 4,
   "id": "631568ae",
   "metadata": {},
   "outputs": [
    {
     "name": "stdout",
     "output_type": "stream",
     "text": [
      "알파벳순 월 리스트:\n",
      "April\n",
      "August\n",
      "December\n",
      "February\n",
      "January\n",
      "July\n",
      "June\n",
      "March\n",
      "May\n",
      "November\n",
      "October\n",
      "September\n"
     ]
    }
   ],
   "source": [
    "months_alpha = sorted(days.keys())\n",
    "print(\"알파벳순 월 리스트:\")\n",
    "for m in months_alpha:\n",
    "    print(m)"
   ]
  },
  {
   "cell_type": "markdown",
   "id": "edabef33",
   "metadata": {},
   "source": [
    "일수가 31인 월을 모두 출력하라."
   ]
  },
  {
   "cell_type": "code",
   "execution_count": 5,
   "id": "2289b394",
   "metadata": {},
   "outputs": [
    {
     "name": "stdout",
     "output_type": "stream",
     "text": [
      "31일인 월: ['January', 'March', 'May', 'July', 'August', 'October', 'December']\n"
     ]
    }
   ],
   "source": [
    "months_31 = [m for m, d in days.items() if d == 31]\n",
    "print(\"31일인 월:\", months_31)"
   ]
  },
  {
   "cell_type": "markdown",
   "id": "3cc94ff2",
   "metadata": {},
   "source": [
    "월의 일수를 기준으로 오름차순으로 (key-value) 쌍을 출력하라."
   ]
  },
  {
   "cell_type": "code",
   "execution_count": 6,
   "id": "6e8c2310",
   "metadata": {},
   "outputs": [
    {
     "name": "stdout",
     "output_type": "stream",
     "text": [
      "일수 오름차순 (월:일수):\n",
      "February: 28\n",
      "April: 30\n",
      "June: 30\n",
      "September: 30\n",
      "November: 30\n",
      "January: 31\n",
      "March: 31\n",
      "May: 31\n",
      "July: 31\n",
      "August: 31\n",
      "October: 31\n",
      "December: 31\n"
     ]
    }
   ],
   "source": [
    "sorted_by_days = sorted(days.items(), key=lambda kv: kv[1])\n",
    "print(\"일수 오름차순 (월:일수):\")\n",
    "for m, d in sorted_by_days:\n",
    "    print(f\"{m}: {d}\")"
   ]
  },
  {
   "cell_type": "markdown",
   "id": "a253027c",
   "metadata": {},
   "source": [
    "사용자가 월을 세 글자만 입력하면(예: Jan, Feb) 해당 월의 일수를 출력하라."
   ]
  },
  {
   "cell_type": "code",
   "execution_count": null,
   "id": "5d6638e6",
   "metadata": {},
   "outputs": [],
   "source": [
    "abbr = input(\"월 약어 3자리 입력 (예: Jan, Feb): \").capitalize()\n",
    "\n",
    "# 전체 월 이름에서 3글자 약어가 일치하는 키 찾기\n",
    "match = next((m for m in days if m[:3] == abbr), None)\n",
    "if match:\n",
    "    print(f\"{match} has {days[match]} days.\")\n",
    "else:\n",
    "    print(\"올바른 3자리 약어가 아닙니다.\")"
   ]
  }
 ],
 "metadata": {
  "kernelspec": {
   "display_name": "Python 3",
   "language": "python",
   "name": "python3"
  },
  "language_info": {
   "codemirror_mode": {
    "name": "ipython",
    "version": 3
   },
   "file_extension": ".py",
   "mimetype": "text/x-python",
   "name": "python",
   "nbconvert_exporter": "python",
   "pygments_lexer": "ipython3",
   "version": "3.11.9"
  }
 },
 "nbformat": 4,
 "nbformat_minor": 5
}
