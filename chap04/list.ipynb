{
 "cells": [
  {
   "cell_type": "markdown",
   "id": "4d4a5aa7",
   "metadata": {},
   "source": [
    "# 연습문제 1"
   ]
  },
  {
   "cell_type": "markdown",
   "id": "f6de01f0",
   "metadata": {},
   "source": [
    "3명 이상 친구 이름 리스트를 작성하고 다음 내용을 프로그램하시오.\n",
    "\n",
    "insert()로 맨 앞에 새로운 친구 추가  \n",
    "\n",
    "insert()로 세 번째 위치에 새로운 친구 추가  \n",
    "\n",
    "append()로 마지막에 친구 추가  "
   ]
  },
  {
   "cell_type": "code",
   "execution_count": 3,
   "id": "6e470cd5",
   "metadata": {},
   "outputs": [
    {
     "name": "stdout",
     "output_type": "stream",
     "text": [
      "최종 친구 리스트: ['유관순', '홍길동', '안중근', '이순신', '강감찬', '김유신']\n"
     ]
    }
   ],
   "source": [
    "friends = [\"홍길동\", \"이순신\", \"강감찬\"]  \n",
    "\n",
    "# 1. 맨 앞에 새로운 친구 추가\n",
    "friends.insert(0, \"유관순\")\n",
    "\n",
    "# 2. 세 번째 위치에 새로운 친구 추가\n",
    "friends.insert(2, \"안중근\")\n",
    "\n",
    "# 3. 마지막에 친구 추가\n",
    "friends.append(\"김유신\")\n",
    "\n",
    "print(\"최종 친구 리스트:\", friends)\n"
   ]
  },
  {
   "cell_type": "markdown",
   "id": "9f114a3c",
   "metadata": {},
   "source": [
    "리스트 [1, 2, 3]에 대해 다음과 같은 처리를 하라.\n",
    "\n",
    "- 두 번째 요소를 17로 수정\n",
    "- 리스트에 4, 5, 6을 추가\n",
    "- 첫 번째 요소 제거\n",
    "- 리스트를 요소 순서대로 정렬\n",
    "- 인덱스 3에 25 넣기"
   ]
  },
  {
   "cell_type": "code",
   "execution_count": 4,
   "id": "b14e935e",
   "metadata": {},
   "outputs": [
    {
     "name": "stdout",
     "output_type": "stream",
     "text": [
      "처리된 숫자 리스트: [3, 4, 5, 25, 6, 17]\n"
     ]
    }
   ],
   "source": [
    "# — 숫자 리스트 처리 예제 —\n",
    "numbers = [1, 2, 3]\n",
    "\n",
    "# 1. 두 번째 요소를 17로 수정\n",
    "numbers[1] = 17\n",
    "\n",
    "# 2. 리스트에 4, 5, 6을 추가\n",
    "numbers.extend([4, 5, 6])\n",
    "\n",
    "# 3. 첫 번째 요소 제거\n",
    "numbers.pop(0)\n",
    "\n",
    "# 4. 리스트를 요소 순서대로 정렬\n",
    "numbers.sort()\n",
    "\n",
    "# 5. 인덱스 3에 25 넣기\n",
    "numbers.insert(3, 25)\n",
    "\n",
    "print(\"처리된 숫자 리스트:\", numbers)"
   ]
  },
  {
   "cell_type": "markdown",
   "id": "5ff77525",
   "metadata": {},
   "source": [
    "# 연습문제 2\n",
    "다음을 for 루프를 이용하여 프로그램하시오."
   ]
  },
  {
   "cell_type": "markdown",
   "id": "41afb66b",
   "metadata": {},
   "source": [
    "- 리스트 생성\n",
    "\n",
    "0부터 49까지의 수로 구성되는 리스트\n",
    "1부터 50까지 수의 제곱으로 구성되는 리스트"
   ]
  },
  {
   "cell_type": "code",
   "execution_count": 5,
   "id": "b8c6e125",
   "metadata": {},
   "outputs": [
    {
     "name": "stdout",
     "output_type": "stream",
     "text": [
      "0~49 리스트: [0, 1, 2, 3, 4, 5, 6, 7, 8, 9, 10, 11, 12, 13, 14, 15, 16, 17, 18, 19, 20, 21, 22, 23, 24, 25, 26, 27, 28, 29, 30, 31, 32, 33, 34, 35, 36, 37, 38, 39, 40, 41, 42, 43, 44, 45, 46, 47, 48, 49]\n"
     ]
    }
   ],
   "source": [
    "numbers = []\n",
    "for i in range(50):\n",
    "    numbers.append(i)\n",
    "print(\"0~49 리스트:\", numbers)"
   ]
  },
  {
   "cell_type": "code",
   "execution_count": 6,
   "id": "a6e0d67c",
   "metadata": {},
   "outputs": [
    {
     "name": "stdout",
     "output_type": "stream",
     "text": [
      "1~50 제곱 리스트: [1, 4, 9, 16, 25, 36, 49, 64, 81, 100, 121, 144, 169, 196, 225, 256, 289, 324, 361, 400, 441, 484, 529, 576, 625, 676, 729, 784, 841, 900, 961, 1024, 1089, 1156, 1225, 1296, 1369, 1444, 1521, 1600, 1681, 1764, 1849, 1936, 2025, 2116, 2209, 2304, 2401, 2500]\n"
     ]
    }
   ],
   "source": [
    "squares = []\n",
    "for i in range(1, 51):\n",
    "    squares.append(i * i)\n",
    "print(\"1~50 제곱 리스트:\", squares)"
   ]
  },
  {
   "cell_type": "markdown",
   "id": "f3580fb6",
   "metadata": {},
   "source": [
    "크기가 같은 두 리스트 L, M을 생성하고, 두 리스트의 같은 인덱스 요소끼리 합으로 구성되는 새로운 리스트를 생성하라. 예) L = [1, 2, 3], M = [4, 5, 6] → [5, 7, 9]"
   ]
  },
  {
   "cell_type": "code",
   "execution_count": 7,
   "id": "78573d15",
   "metadata": {},
   "outputs": [
    {
     "name": "stdout",
     "output_type": "stream",
     "text": [
      "L+M 요소 합 리스트: [5, 7, 9]\n"
     ]
    }
   ],
   "source": [
    "L = [1, 2, 3]\n",
    "M = [4, 5, 6]\n",
    "sum_list = []\n",
    "for x, y in zip(L, M):\n",
    "    sum_list.append(x + y)\n",
    "print(\"L+M 요소 합 리스트:\", sum_list)"
   ]
  },
  {
   "cell_type": "markdown",
   "id": "ea643d66",
   "metadata": {},
   "source": [
    "사용자로부터 5개의 숫자를 쉼표로 구분된 문자열로 입력받아, 각 숫자를 +로 연결한 새로운 문자열을 생성하라. 예) 입력 2,5,11,33,55 → 출력 '2+5+11+33+55'"
   ]
  },
  {
   "cell_type": "code",
   "execution_count": 8,
   "id": "32f13b13",
   "metadata": {},
   "outputs": [
    {
     "name": "stdout",
     "output_type": "stream",
     "text": [
      "결과 문자열: 2+ 5+ 11+ 33+ 55\n"
     ]
    }
   ],
   "source": [
    "input_str = input(\"숫자 5개를 쉼표로 구분하여 입력하세요: \")\n",
    "parts = input_str.split(\",\")               # [\"2\", \"5\", \"11\", \"33\", \"55\"]\n",
    "result = \"+\".join(parts)\n",
    "print(\"결과 문자열:\", result)"
   ]
  }
 ],
 "metadata": {
  "kernelspec": {
   "display_name": "Python 3",
   "language": "python",
   "name": "python3"
  },
  "language_info": {
   "codemirror_mode": {
    "name": "ipython",
    "version": 3
   },
   "file_extension": ".py",
   "mimetype": "text/x-python",
   "name": "python",
   "nbconvert_exporter": "python",
   "pygments_lexer": "ipython3",
   "version": "3.11.9"
  }
 },
 "nbformat": 4,
 "nbformat_minor": 5
}
