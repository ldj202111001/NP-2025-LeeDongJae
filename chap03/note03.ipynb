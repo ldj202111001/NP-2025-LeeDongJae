{
 "cells": [
  {
   "cell_type": "markdown",
   "id": "d23fd55c",
   "metadata": {},
   "source": [
    "# -if 제어문"
   ]
  },
  {
   "cell_type": "markdown",
   "id": "17a6a2ca",
   "metadata": {},
   "source": [
    "조건을 만족할 때 문장을 실행 아니면 건너뜀\n",
    "\n",
    "\n",
    ">if Condition:  \n",
    ">>Block\n"
   ]
  },
  {
   "cell_type": "code",
   "execution_count": 1,
   "id": "8626c6a5",
   "metadata": {},
   "outputs": [
    {
     "name": "stdout",
     "output_type": "stream",
     "text": [
      "성적: A\n",
      "장학금 수여\n"
     ]
    }
   ],
   "source": [
    "# 점수가 90점 이상이면 장학금 수여\n",
    "\n",
    "score = int(input(\"정수 입력: \"))\n",
    "if score >= 90:\n",
    "    print(\"성적: A\")\n",
    "    print(\"장학금 수여\")                        "
   ]
  },
  {
   "cell_type": "markdown",
   "id": "34bc8ae7",
   "metadata": {},
   "source": [
    "#### - if else문 \n",
    "조건이 참이면 block1 실행 else는 무시\n",
    "참이 아니라면 else문(block2) 실행\n",
    "\n",
    "if condition:  \n",
    "    block1  \n",
    "else:  \n",
    "    block2  "
   ]
  },
  {
   "cell_type": "code",
   "execution_count": null,
   "id": "49e18b62",
   "metadata": {},
   "outputs": [
    {
     "name": "stdout",
     "output_type": "stream",
     "text": [
      "2005 is not a leap year\n"
     ]
    }
   ],
   "source": [
    "# 윤년 검사\n",
    "year = int(input(\"Type a year :\"))\n",
    "if (year%4 == 0 and year%100 != 0) or (year%400) == 0 :\n",
    "    print(year, \"is a leap year\")\n",
    "else :\n",
    "    print(year, \"is not a leap year\")"
   ]
  },
  {
   "cell_type": "markdown",
   "id": "bd185b4f",
   "metadata": {},
   "source": [
    "#### - 중첩 if문  \n",
    "if문 속 또다른 if문"
   ]
  },
  {
   "cell_type": "code",
   "execution_count": 4,
   "id": "a35bf7ac",
   "metadata": {},
   "outputs": [
    {
     "name": "stdout",
     "output_type": "stream",
     "text": [
      "negative\n"
     ]
    }
   ],
   "source": [
    "# 양수, 음수 ,0 판별\n",
    "n = int(input(\"type int number: \"))\n",
    "if n > 0:\n",
    "    print(\"positive\")\n",
    "else:\n",
    "    if n < 0 :\n",
    "        print(\"negative\")\n",
    "    else:\n",
    "        print(\"0\")\n"
   ]
  },
  {
   "cell_type": "markdown",
   "id": "51e714a9",
   "metadata": {},
   "source": [
    "#### - if - elif - else 문\n",
    "조건의 참, 거짓을 순서대로 판별하여 블록실행"
   ]
  },
  {
   "cell_type": "code",
   "execution_count": 3,
   "id": "2bba998a",
   "metadata": {},
   "outputs": [
    {
     "name": "stdout",
     "output_type": "stream",
     "text": [
      "0\n"
     ]
    }
   ],
   "source": [
    "n = int(input(\"type int number : \"))\n",
    "if n > 0 :\n",
    "    print(\"positive\")\n",
    "elif n < 0 :\n",
    "    print(\"negative\")\n",
    "else :\n",
    "    print(\"0\") "
   ]
  },
  {
   "cell_type": "markdown",
   "id": "4767d0e5",
   "metadata": {},
   "source": [
    "#### - 다중 elif 문\n",
    "여러개의 조건 중 하나만 만족하면 나머지 무시"
   ]
  },
  {
   "cell_type": "code",
   "execution_count": 6,
   "id": "7c3465df",
   "metadata": {},
   "outputs": [
    {
     "name": "stdout",
     "output_type": "stream",
     "text": [
      "Your admission cost is $5.\n"
     ]
    }
   ],
   "source": [
    "age = 12\n",
    "if age < 4:\n",
    "    price = 0\n",
    "elif age < 18:\n",
    "    price = 5\n",
    "elif age < 65:\n",
    "    price = 10\n",
    "else:\n",
    "    price = 5\n",
    "\n",
    "print(\"Your admission cost is $\" + str(price) + \".\")\n",
    "\n"
   ]
  },
  {
   "cell_type": "markdown",
   "id": "ef2813d9",
   "metadata": {},
   "source": [
    "# while 반복문\n",
    "조건이 참인동안 블록을 실행한다  \n",
    "$ while\\ 조건: $  \n",
    "$\\qquad블록$"
   ]
  },
  {
   "cell_type": "code",
   "execution_count": 8,
   "id": "eea1988c",
   "metadata": {},
   "outputs": [
    {
     "name": "stdout",
     "output_type": "stream",
     "text": [
      "sum= 5050\n"
     ]
    }
   ],
   "source": [
    "i = 1 #초기화\n",
    "sum = 0\n",
    "while i <= 100 : #조건 판단. 끝에 :를 붙인다\n",
    "    sum = sum + i #블록\n",
    "    i = i + 1 #조건 변경\n",
    "\n",
    "\n",
    "print(\"sum=\", sum) #블록이 끝나면 다시 들여쓰기를 원래 위치로"
   ]
  },
  {
   "cell_type": "markdown",
   "id": "89d71824",
   "metadata": {},
   "source": [
    "# - for 제어문\n",
    "$ for\\ 변수\\ in\\ [반복객체(리스트, 튜플, 문자열 등)]:  $  \n",
    "$\\qquad[블록]$"
   ]
  },
  {
   "cell_type": "markdown",
   "id": "0c5f4d42",
   "metadata": {},
   "source": [
    "반복객체의 각 값을 하나씩 변수에 저장하여 블록 실행  \n",
    "반복객체에 요소가 없을때까지 실행"
   ]
  },
  {
   "cell_type": "code",
   "execution_count": 9,
   "id": "2f61cb60",
   "metadata": {},
   "outputs": [
    {
     "name": "stdout",
     "output_type": "stream",
     "text": [
      "숫자 1\n",
      "숫자 2\n",
      "숫자 3\n"
     ]
    }
   ],
   "source": [
    "for i in [1, 2, 3] :\n",
    "    print(\"숫자\", i)"
   ]
  },
  {
   "cell_type": "code",
   "execution_count": 12,
   "id": "627c16b8",
   "metadata": {},
   "outputs": [
    {
     "name": "stdout",
     "output_type": "stream",
     "text": [
      "h\n",
      "e\n",
      "l\n",
      "l\n",
      "o\n"
     ]
    }
   ],
   "source": [
    "for i in 'hello':\n",
    "    print(i)"
   ]
  },
  {
   "cell_type": "code",
   "execution_count": 11,
   "id": "404aae21",
   "metadata": {},
   "outputs": [
    {
     "name": "stdout",
     "output_type": "stream",
     "text": [
      "hello"
     ]
    }
   ],
   "source": [
    "for i in 'hello':\n",
    "    print(i, end ='')"
   ]
  },
  {
   "cell_type": "markdown",
   "id": "f33e7d02",
   "metadata": {},
   "source": [
    "#### - for range 문\n",
    "$for\\ [변수]\\ in\\ range(start, stop, step):  $  \n",
    "$\\qquad[블록]$  "
   ]
  },
  {
   "cell_type": "markdown",
   "id": "fd26f51f",
   "metadata": {},
   "source": [
    " 변수 값을 start부터 시작하여 step 만큼 증가시키며 stop될 때까지 실행"
   ]
  },
  {
   "cell_type": "code",
   "execution_count": 13,
   "id": "086fa4bc",
   "metadata": {},
   "outputs": [
    {
     "name": "stdout",
     "output_type": "stream",
     "text": [
      "Number 1\n",
      "Number 2\n",
      "Number 3\n"
     ]
    }
   ],
   "source": [
    "for i in range(1, 4, 1) : #1부터 시작하여 1씩 증가하여 4가 되면 종료\n",
    "    print(\"Number\", i)\n"
   ]
  },
  {
   "cell_type": "code",
   "execution_count": 16,
   "id": "bbcb2108",
   "metadata": {},
   "outputs": [
    {
     "name": "stdout",
     "output_type": "stream",
     "text": [
      "sum =  5050\n"
     ]
    }
   ],
   "source": [
    "#  for 문을 이용한1부터 100까지의 합 구하기\n",
    "\n",
    "sum = 0\n",
    "for i in range(1, 101, 1) :\n",
    "    sum = sum + i\n",
    "\n",
    "print(\"sum = \", sum)"
   ]
  },
  {
   "cell_type": "code",
   "execution_count": 15,
   "id": "b4bdae35",
   "metadata": {},
   "outputs": [
    {
     "name": "stdout",
     "output_type": "stream",
     "text": [
      "2.0 ^ 3 is 8.0\n"
     ]
    }
   ],
   "source": [
    "# x^n 을 구하는 프로그램\n",
    "x = float(input('Type x : '))\n",
    "n = int(input('Type n : '))\n",
    "prod = 1\n",
    "for i in range(1, n+1):\n",
    "    prod = prod * x\n",
    "\n",
    "print(x,'^', n, 'is',prod)"
   ]
  },
  {
   "cell_type": "markdown",
   "id": "b49a3777",
   "metadata": {},
   "source": [
    "#### - 중첩 반복문\n",
    "내부 for문과 외부 for문"
   ]
  },
  {
   "cell_type": "code",
   "execution_count": null,
   "id": "9e24bb74",
   "metadata": {},
   "outputs": [
    {
     "name": "stdout",
     "output_type": "stream",
     "text": [
      "2 x 1 = 2\n",
      "2 x 2 = 4\n",
      "2 x 3 = 6\n",
      "2 x 4 = 8\n",
      "2 x 5 = 10\n",
      "2 x 6 = 12\n",
      "2 x 7 = 14\n",
      "2 x 8 = 16\n",
      "2 x 9 = 18\n",
      "3 x 1 = 3\n",
      "3 x 2 = 6\n",
      "3 x 3 = 9\n",
      "3 x 4 = 12\n",
      "3 x 5 = 15\n",
      "3 x 6 = 18\n",
      "3 x 7 = 21\n",
      "3 x 8 = 24\n",
      "3 x 9 = 27\n",
      "4 x 1 = 4\n",
      "4 x 2 = 8\n",
      "4 x 3 = 12\n",
      "4 x 4 = 16\n",
      "4 x 5 = 20\n",
      "4 x 6 = 24\n",
      "4 x 7 = 28\n",
      "4 x 8 = 32\n",
      "4 x 9 = 36\n",
      "5 x 1 = 5\n",
      "5 x 2 = 10\n",
      "5 x 3 = 15\n",
      "5 x 4 = 20\n",
      "5 x 5 = 25\n",
      "5 x 6 = 30\n",
      "5 x 7 = 35\n",
      "5 x 8 = 40\n",
      "5 x 9 = 45\n",
      "6 x 1 = 6\n",
      "6 x 2 = 12\n",
      "6 x 3 = 18\n",
      "6 x 4 = 24\n",
      "6 x 5 = 30\n",
      "6 x 6 = 36\n",
      "6 x 7 = 42\n",
      "6 x 8 = 48\n",
      "6 x 9 = 54\n",
      "7 x 1 = 7\n",
      "7 x 2 = 14\n",
      "7 x 3 = 21\n",
      "7 x 4 = 28\n",
      "7 x 5 = 35\n",
      "7 x 6 = 42\n",
      "7 x 7 = 49\n",
      "7 x 8 = 56\n",
      "7 x 9 = 63\n",
      "8 x 1 = 8\n",
      "8 x 2 = 16\n",
      "8 x 3 = 24\n",
      "8 x 4 = 32\n",
      "8 x 5 = 40\n",
      "8 x 6 = 48\n",
      "8 x 7 = 56\n",
      "8 x 8 = 64\n",
      "8 x 9 = 72\n",
      "9 x 1 = 9\n",
      "9 x 2 = 18\n",
      "9 x 3 = 27\n",
      "9 x 4 = 36\n",
      "9 x 5 = 45\n",
      "9 x 6 = 54\n",
      "9 x 7 = 63\n",
      "9 x 8 = 72\n",
      "9 x 9 = 81\n"
     ]
    }
   ],
   "source": [
    "\n",
    "for i in range(2, 10, 1) :\n",
    "    for j in range(1, 10, 1):\n",
    "        print(\"%d x %d = %d\" %(i, j, i*j))"
   ]
  },
  {
   "cell_type": "markdown",
   "id": "ce91c4f8",
   "metadata": {},
   "source": [
    "#### - 무한 반복문"
   ]
  },
  {
   "cell_type": "code",
   "execution_count": null,
   "id": "ea0ef3c9",
   "metadata": {},
   "outputs": [],
   "source": [
    "while True : #조건이 항상 참이다\n",
    "    print(\"last forever\")\n",
    "\n",
    "# 중지법: ctrl + C\n"
   ]
  },
  {
   "cell_type": "code",
   "execution_count": null,
   "id": "7afe7d27",
   "metadata": {},
   "outputs": [
    {
     "name": "stdout",
     "output_type": "stream",
     "text": [
      "더 작습니다. 0 회 남았습니다.\n",
      "\n",
      "당신이 졌습니다. 정답은  12 입니다\n"
     ]
    }
   ],
   "source": [
    "# 숫자 맞히기 게임\n",
    "from random import randint\n",
    "secret_num = randint(1,100)\n",
    "num_guesses = 0 #시도 회수\n",
    "guess = 0 #예상 숫자\n",
    "while guess != secret_num and num_guesses <= 4:\n",
    "    guess = eval(input('Enter your guess (1-100): ')) #수 입력\n",
    "    num_guesses = num_guesses + 1 #시도 횟수 증가\n",
    "if guess < secret_num: #정답이 클 때\n",
    "    print('더 큽니다.', 5-num_guesses, '회 남았습니다.\\n')\n",
    "elif guess > secret_num: #정답이 작을 때\n",
    "    print('더 작습니다.', 5-num_guesses, '회 남았습니다.\\n')\n",
    "else: #정답\n",
    "    print('맞았습니다!')\n",
    "if num_guesses==5 and guess != secret_num: #맞추지 못한 경우\n",
    "    print('당신이 졌습니다. 정답은 ', secret_num, '입니다')\n"
   ]
  },
  {
   "cell_type": "markdown",
   "id": "f40750b8",
   "metadata": {},
   "source": [
    "# 기타 제어문"
   ]
  },
  {
   "cell_type": "markdown",
   "id": "17dc0d0a",
   "metadata": {},
   "source": [
    "#### -break 문\n",
    "반복문 빠져나올때"
   ]
  },
  {
   "cell_type": "code",
   "execution_count": 22,
   "id": "7330f26a",
   "metadata": {},
   "outputs": [
    {
     "name": "stdout",
     "output_type": "stream",
     "text": [
      "0.1\n",
      "0.1111111111111111\n",
      "0.125\n",
      "0.14285714285714285\n",
      "0.16666666666666666\n",
      "0.2\n",
      "0.25\n",
      "0.3333333333333333\n",
      "0.5\n",
      "1.0\n"
     ]
    }
   ],
   "source": [
    "n = 10\n",
    "while n >= -10 :\n",
    "    if n == 0 :\n",
    "        break #n=0이면 while 블록을 빠져나온다\n",
    "    inv = 1.0 / n\n",
    "    print(inv)\n",
    "    n = n - 1"
   ]
  },
  {
   "cell_type": "markdown",
   "id": "deffd436",
   "metadata": {},
   "source": [
    "#### -continue 문\n",
    "블록의 나머지 부분은 생략하고 다시 while 조건 조사"
   ]
  },
  {
   "cell_type": "code",
   "execution_count": 23,
   "id": "018f7023",
   "metadata": {},
   "outputs": [
    {
     "name": "stdout",
     "output_type": "stream",
     "text": [
      "n = 10, inv(n) = 0.10\n",
      "n = 9, inv(n) = 0.11\n",
      "n = 8, inv(n) = 0.12\n",
      "n = 7, inv(n) = 0.14\n",
      "n = 6, inv(n) = 0.17\n",
      "n = 5, inv(n) = 0.20\n",
      "n = 4, inv(n) = 0.25\n",
      "n = 3, inv(n) = 0.33\n",
      "n = 2, inv(n) = 0.50\n",
      "n = 1, inv(n) = 1.00\n",
      "n = -1, inv(n) = -1.00\n",
      "n = -2, inv(n) = -0.50\n",
      "n = -3, inv(n) = -0.33\n",
      "n = -4, inv(n) = -0.25\n",
      "n = -5, inv(n) = -0.20\n",
      "n = -6, inv(n) = -0.17\n",
      "n = -7, inv(n) = -0.14\n",
      "n = -8, inv(n) = -0.12\n",
      "n = -9, inv(n) = -0.11\n",
      "n = -10, inv(n) = -0.10\n"
     ]
    }
   ],
   "source": [
    "n = 10\n",
    "while n >= -10 :\n",
    "    if n == 0 :\n",
    "        n = n - 1\n",
    "        continue #n=0이면 while 블록의 나머지 부분을 건너 뛴다\n",
    "    inv = 1.0 / n\n",
    "    print(\"n = %d, inv(n) = %0.2f\"%(n, inv))\n",
    "    n = n-1\n"
   ]
  },
  {
   "cell_type": "markdown",
   "id": "2097805b",
   "metadata": {},
   "source": [
    "#### - match문\n",
    "C에서의 switch문"
   ]
  },
  {
   "cell_type": "markdown",
   "id": "6976fe99",
   "metadata": {},
   "source": [
    "$match\\ value:$  \n",
    "$case\\ pattern1:$  \n",
    "$\\qquad\\ 실행할\\ 코드$  \n",
    "$case\\ pattern2:$  \n",
    "$\\qquad\\ 실행할\\ 코드$  \n",
    "$case\\ _:$  \n",
    "$\\qquad\\ 기본\\ 실행할\\ 코드$  \n"
   ]
  },
  {
   "cell_type": "code",
   "execution_count": 24,
   "id": "7dfaf1f7",
   "metadata": {},
   "outputs": [
    {
     "name": "stdout",
     "output_type": "stream",
     "text": [
      "성공\n",
      "알 수 없는 상태\n"
     ]
    }
   ],
   "source": [
    "def handle_status(status):\n",
    "    match status:\n",
    "        case 200:\n",
    "            return \"성공\"\n",
    "        case 404:\n",
    "            return \"페이지를 찾을 수 없음\"\n",
    "        case 500:\n",
    "            return \"서버 오류\"\n",
    "        case _:\n",
    "            return \"알 수 없는 상태\"\n",
    "\n",
    "print(handle_status(200)) # \"성공\"\n",
    "print(handle_status(999)) # \"알 수 없는 상태\""
   ]
  }
 ],
 "metadata": {
  "kernelspec": {
   "display_name": "base",
   "language": "python",
   "name": "python3"
  },
  "language_info": {
   "codemirror_mode": {
    "name": "ipython",
    "version": 3
   },
   "file_extension": ".py",
   "mimetype": "text/x-python",
   "name": "python",
   "nbconvert_exporter": "python",
   "pygments_lexer": "ipython3",
   "version": "3.11.7"
  }
 },
 "nbformat": 4,
 "nbformat_minor": 5
}
