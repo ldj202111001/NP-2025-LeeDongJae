{
 "cells": [
  {
   "cell_type": "markdown",
   "id": "49a2cdd8",
   "metadata": {},
   "source": [
    "1. 1 mile은 1.6km이다. 10mile부터 200mile까지 10mile 간격으로 해당하는 mile이 몇 km인지 출력하는 프로그램"
   ]
  },
  {
   "cell_type": "code",
   "execution_count": 1,
   "id": "d2e261fa",
   "metadata": {},
   "outputs": [
    {
     "name": "stdout",
     "output_type": "stream",
     "text": [
      "10 mile is 16.0  km\n",
      "20 mile is 32.0  km\n",
      "30 mile is 48.0  km\n",
      "40 mile is 64.0  km\n",
      "50 mile is 80.0  km\n",
      "60 mile is 96.0  km\n",
      "70 mile is 112.0  km\n",
      "80 mile is 128.0  km\n",
      "90 mile is 144.0  km\n",
      "100 mile is 160.0  km\n",
      "110 mile is 176.0  km\n",
      "120 mile is 192.0  km\n",
      "130 mile is 208.0  km\n",
      "140 mile is 224.0  km\n",
      "150 mile is 240.0  km\n",
      "160 mile is 256.0  km\n",
      "170 mile is 272.0  km\n",
      "180 mile is 288.0  km\n",
      "190 mile is 304.0  km\n",
      "200 mile is 320.0  km\n"
     ]
    }
   ],
   "source": [
    "for i in range(10, 201, 10):\n",
    "    km = i * 1.6\n",
    "    print(i,'mile is',km, ' km')"
   ]
  },
  {
   "cell_type": "markdown",
   "id": "23cfd08c",
   "metadata": {},
   "source": [
    "2. 임의의 크지 않은 자연수 n을 입력받아 n! 을 계산해 출력해주는 프로그램"
   ]
  },
  {
   "cell_type": "code",
   "execution_count": 3,
   "id": "224b0b27",
   "metadata": {},
   "outputs": [
    {
     "name": "stdout",
     "output_type": "stream",
     "text": [
      "5\n"
     ]
    }
   ],
   "source": [
    "n = int(input(\"input natural numer: \"))\n",
    "\n",
    "for i in range(n,1,n-1):\n",
    "    n *= i\n",
    "print(n)\n"
   ]
  },
  {
   "cell_type": "markdown",
   "id": "221ce64b",
   "metadata": {},
   "source": [
    "3. 임의의 자연수 n이 입력되면 2부터 n까지의 모든 소수를 출력하는 프로그램"
   ]
  },
  {
   "cell_type": "code",
   "execution_count": null,
   "id": "82ea53fe",
   "metadata": {},
   "outputs": [
    {
     "name": "stdout",
     "output_type": "stream",
     "text": [
      "2 is prime number\n",
      "3 is prime number\n",
      "5 is prime number\n",
      "7 is prime number\n",
      "11 is prime number\n",
      "13 is prime number\n",
      "17 is prime number\n",
      "19 is prime number\n",
      "23 is prime number\n",
      "29 is prime number\n",
      "31 is prime number\n",
      "37 is prime number\n",
      "41 is prime number\n",
      "43 is prime number\n",
      "47 is prime number\n",
      "53 is prime number\n",
      "59 is prime number\n",
      "61 is prime number\n",
      "67 is prime number\n",
      "71 is prime number\n",
      "73 is prime number\n",
      "79 is prime number\n",
      "83 is prime number\n",
      "89 is prime number\n",
      "97 is prime number\n"
     ]
    }
   ],
   "source": [
    "# 에라토스테네스의 체 (특정범위의 수들의 소수 판별)\n",
    "import math \n",
    "\n",
    "n = int(input(\"input natural number: \"))\n",
    "\n",
    "max = int(math.sqrt(n))\n",
    "\n",
    "n_list = [True] * (n+1) # true: 소수\n",
    "\n",
    "for i in range(2, max+1, 1):\n",
    "    if n_list[i] == True:\n",
    "        for j in range(i * 2, n + 1, i):\n",
    "            n_list[j] = False\n",
    "        \n",
    "\n",
    "for i in range(2, n, 1):\n",
    "    if n_list[i] == True:\n",
    "        print(i, 'is prime number')\n"
   ]
  },
  {
   "cell_type": "markdown",
   "id": "99c70906",
   "metadata": {},
   "source": [
    "4. 임의의 금액 n이 입력되면 (n의 최소단위는 1000원) 그 금액을 만족하는 모든 경우를 출력하는 프로그램 (중첩 반복문) (지폐는 50000, 10000, 5000, 1000원)"
   ]
  },
  {
   "cell_type": "code",
   "execution_count": 12,
   "id": "44e663cc",
   "metadata": {},
   "outputs": [
    {
     "name": "stdout",
     "output_type": "stream",
     "text": [
      "50000원:0장, 10000원:0장, 5000원:0장, 1000원:25장\n",
      "50000원:0장, 10000원:0장, 5000원:1장, 1000원:20장\n",
      "50000원:0장, 10000원:0장, 5000원:2장, 1000원:15장\n",
      "50000원:0장, 10000원:0장, 5000원:3장, 1000원:10장\n",
      "50000원:0장, 10000원:0장, 5000원:4장, 1000원:5장\n",
      "50000원:0장, 10000원:0장, 5000원:5장, 1000원:0장\n",
      "50000원:0장, 10000원:1장, 5000원:0장, 1000원:15장\n",
      "50000원:0장, 10000원:1장, 5000원:1장, 1000원:10장\n",
      "50000원:0장, 10000원:1장, 5000원:2장, 1000원:5장\n",
      "50000원:0장, 10000원:1장, 5000원:3장, 1000원:0장\n",
      "50000원:0장, 10000원:2장, 5000원:0장, 1000원:5장\n",
      "50000원:0장, 10000원:2장, 5000원:1장, 1000원:0장\n",
      "총 경우의 수: 12가지\n"
     ]
    }
   ],
   "source": [
    "n = int(input(\"금액을 입력하세요(최소 단위: 1000원): \"))\n",
    "\n",
    "# 지폐 단위\n",
    "bills = [50000, 10000, 5000, 1000]\n",
    "\n",
    "count = 0  # 경우의 수 카운트\n",
    "\n",
    "for a in range(n // 50000 + 1):  # 5만원권 개수\n",
    "    for b in range(n // 10000 + 1):  # 1만원권 개수\n",
    "        for c in range(n // 5000 + 1):  # 5천원권 개수\n",
    "            for d in range(n // 1000 + 1):  # 1천원권 개수\n",
    "                if a*50000 + b*10000 + c*5000 + d*1000 == n:\n",
    "                    count += 1\n",
    "                    print(f\"50000원:{a}장, 10000원:{b}장, 5000원:{c}장, 1000원:{d}장\")\n",
    "\n",
    "print(f\"총 경우의 수: {count}가지\")"
   ]
  },
  {
   "cell_type": "markdown",
   "id": "b4f9c1a6",
   "metadata": {},
   "source": [
    "5. 아스키 코드표를 출력하는 프로그램 (아스키 값 32-126까지)"
   ]
  },
  {
   "cell_type": "code",
   "execution_count": 11,
   "id": "1279447a",
   "metadata": {},
   "outputs": [
    {
     "name": "stdout",
     "output_type": "stream",
     "text": [
      "32:  \n",
      "33: !\n",
      "34: \"\n",
      "35: #\n",
      "36: $\n",
      "37: %\n",
      "38: &\n",
      "39: '\n",
      "40: (\n",
      "41: )\n",
      "42: *\n",
      "43: +\n",
      "44: ,\n",
      "45: -\n",
      "46: .\n",
      "47: /\n",
      "48: 0\n",
      "49: 1\n",
      "50: 2\n",
      "51: 3\n",
      "52: 4\n",
      "53: 5\n",
      "54: 6\n",
      "55: 7\n",
      "56: 8\n",
      "57: 9\n",
      "58: :\n",
      "59: ;\n",
      "60: <\n",
      "61: =\n",
      "62: >\n",
      "63: ?\n",
      "64: @\n",
      "65: A\n",
      "66: B\n",
      "67: C\n",
      "68: D\n",
      "69: E\n",
      "70: F\n",
      "71: G\n",
      "72: H\n",
      "73: I\n",
      "74: J\n",
      "75: K\n",
      "76: L\n",
      "77: M\n",
      "78: N\n",
      "79: O\n",
      "80: P\n",
      "81: Q\n",
      "82: R\n",
      "83: S\n",
      "84: T\n",
      "85: U\n",
      "86: V\n",
      "87: W\n",
      "88: X\n",
      "89: Y\n",
      "90: Z\n",
      "91: [\n",
      "92: \\\n",
      "93: ]\n",
      "94: ^\n",
      "95: _\n",
      "96: `\n",
      "97: a\n",
      "98: b\n",
      "99: c\n",
      "100: d\n",
      "101: e\n",
      "102: f\n",
      "103: g\n",
      "104: h\n",
      "105: i\n",
      "106: j\n",
      "107: k\n",
      "108: l\n",
      "109: m\n",
      "110: n\n",
      "111: o\n",
      "112: p\n",
      "113: q\n",
      "114: r\n",
      "115: s\n",
      "116: t\n",
      "117: u\n",
      "118: v\n",
      "119: w\n",
      "120: x\n",
      "121: y\n",
      "122: z\n",
      "123: {\n",
      "124: |\n",
      "125: }\n",
      "126: ~\n"
     ]
    }
   ],
   "source": [
    "for code in range(32, 127):\n",
    "    print(f\"{code}: {chr(code)}\")"
   ]
  },
  {
   "cell_type": "markdown",
   "id": "c012c0b5",
   "metadata": {},
   "source": [
    "6. 산술연산자를 사용해 임의의 소문자는 대문자, 대문자는 소문자로 변환해 출력하는 프로그램"
   ]
  },
  {
   "cell_type": "code",
   "execution_count": null,
   "id": "6a44e81a",
   "metadata": {},
   "outputs": [
    {
     "name": "stdout",
     "output_type": "stream",
     "text": [
      "변환 결과: R\n"
     ]
    }
   ],
   "source": [
    "ch = input(\"문자 1개 입력: \")\n",
    "\n",
    "# 'A' ~ 'Z' → 65 ~ 90\n",
    "# 'a' ~ 'z' → 97 ~ 122\n",
    "\n",
    "if 'a' <= ch <= 'z':  # 소문자일 때\n",
    "    print(\"변환 결과:\", chr(ord(ch) - 32))\n",
    "elif 'A' <= ch <= 'Z':  # 대문자일 때\n",
    "    print(\"변환 결과:\", chr(ord(ch) + 32))\n",
    "else:\n",
    "    print(\"영문자가 아닙니다.\")"
   ]
  },
  {
   "cell_type": "markdown",
   "id": "b24c7db4",
   "metadata": {},
   "source": [
    "7. 비트연산자를 사용해 임의의 소문자는 대문자, 대문자는 소문자로 변환해 출력하는 프로그램"
   ]
  },
  {
   "cell_type": "code",
   "execution_count": 14,
   "id": "f8da8416",
   "metadata": {},
   "outputs": [
    {
     "name": "stdout",
     "output_type": "stream",
     "text": [
      "변환 결과: E\n"
     ]
    }
   ],
   "source": [
    "ch = input(\"문자 1개 입력: \")\n",
    "\n",
    "if 'A' <= ch <= 'Z' or 'a' <= ch <= 'z':\n",
    "    # 32(0b100000)와 XOR → 대문자는 소문자로, 소문자는 대문자로\n",
    "    toggled = chr(ord(ch) ^ 32)\n",
    "    print(\"변환 결과:\", toggled)\n",
    "else:\n",
    "    print(\"영문자가 아닙니다.\")"
   ]
  },
  {
   "cell_type": "markdown",
   "id": "8e08124b",
   "metadata": {},
   "source": [
    "8. 임의의 자연수 k를 각각 왼쪽과 오른쪽으로 n번 시프트 하는 프로그램 (n: 크지 않은 자연수)"
   ]
  },
  {
   "cell_type": "code",
   "execution_count": 16,
   "id": "925b6005",
   "metadata": {},
   "outputs": [
    {
     "name": "stdout",
     "output_type": "stream",
     "text": [
      "\n",
      "원래 값: 3 (이진수: 0b11)\n",
      "7번 왼쪽 시프트: 384 (이진수: 0b110000000)\n",
      "7번 오른쪽 시프트: 0 (이진수: 0b0)\n"
     ]
    }
   ],
   "source": [
    "k = int(input(\"자연수 k 입력: \"))\n",
    "n = int(input(\"시프트 횟수 n 입력: \"))\n",
    "\n",
    "print(f\"\\n원래 값: {k} (이진수: {bin(k)})\")\n",
    "\n",
    "# 왼쪽 시프트\n",
    "left = k << n\n",
    "print(f\"{n}번 왼쪽 시프트: {left} (이진수: {bin(left)})\")\n",
    "\n",
    "# 오른쪽 시프트\n",
    "right = k >> n\n",
    "print(f\"{n}번 오른쪽 시프트: {right} (이진수: {bin(right)})\")"
   ]
  },
  {
   "cell_type": "markdown",
   "id": "74b58db9",
   "metadata": {},
   "source": [
    "9. 윤년계산 방법을 이용해 2000년부터 2500년까지 윤년인 해를 출력하는 프로그램"
   ]
  },
  {
   "cell_type": "code",
   "execution_count": null,
   "id": "7d118f28",
   "metadata": {},
   "outputs": [],
   "source": [
    "\"\"\"\n",
    "윤년의 조건\n",
    "4로 나누어떨어지는 해\n",
    "400으로 나누어떨어지는 해\n",
    "100으로 나누어떨어지지 않는 해\n",
    "\"\"\"\n",
    "\n",
    "year = int(input(\"연도 입력 (2000 ~ 2500): \"))\n",
    "\n",
    "if (year % 4 == 0 and year % 100 != 0) or (year % 400 == 0):\n",
    "        print(year, end=\" \")\n"
   ]
  },
  {
   "cell_type": "markdown",
   "id": "0c3e79a6",
   "metadata": {},
   "source": [
    "10. 두 수의 최대공약수는 두 수를 나누어떨어지는 가장 큰 수이다.  \n",
    "두 수를 입력받아 다음 알고리즘에 의해 최대공약수를 구하는 프로그램 작성  \n",
    "- 큰 수를 작은수로 나눈 나머지를 구하라.\n",
    "- 큰 수를 작은수로 대체하고 작은 수는 나머지로 대체하라.\n",
    "- 작은 수가 0이 될때까지 이 과정을 반고하라. 마지막 큰 수가 최대공약수다."
   ]
  }
 ],
 "metadata": {
  "kernelspec": {
   "display_name": "base",
   "language": "python",
   "name": "python3"
  },
  "language_info": {
   "codemirror_mode": {
    "name": "ipython",
    "version": 3
   },
   "file_extension": ".py",
   "mimetype": "text/x-python",
   "name": "python",
   "nbconvert_exporter": "python",
   "pygments_lexer": "ipython3",
   "version": "3.11.7"
  }
 },
 "nbformat": 4,
 "nbformat_minor": 5
}
