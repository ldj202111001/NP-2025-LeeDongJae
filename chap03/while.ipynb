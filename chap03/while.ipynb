{
 "cells": [
  {
   "cell_type": "markdown",
   "id": "c2d368c8",
   "metadata": {},
   "source": [
    "# While 연습문제"
   ]
  },
  {
   "cell_type": "markdown",
   "id": "f720eaf8",
   "metadata": {},
   "source": [
    "10진수를 입력 받아 2진수로 변환하여 출력하는 프로그램"
   ]
  },
  {
   "cell_type": "code",
   "execution_count": 3,
   "id": "e4626ae9",
   "metadata": {},
   "outputs": [
    {
     "name": "stdout",
     "output_type": "stream",
     "text": [
      "15 의  2진수 = 1111\n"
     ]
    }
   ],
   "source": [
    "n = int(input('Number: '))\n",
    "result = '' #변환 결과 저장\n",
    "org = n\n",
    "\n",
    "#10진수를 2로 나누어 몫이 0이 될 때까지 반복해서 나머지를 구한다\n",
    "while n != 0:\n",
    "    m = n % 2 #나머지\n",
    "    result = str(m) + result #숫자를 문자열로 변환\n",
    "    n = n // 2 #몫\n",
    "\n",
    "print(org,\"의 \" ,\"2진수 =\", result)"
   ]
  }
 ],
 "metadata": {
  "kernelspec": {
   "display_name": "base",
   "language": "python",
   "name": "python3"
  },
  "language_info": {
   "codemirror_mode": {
    "name": "ipython",
    "version": 3
   },
   "file_extension": ".py",
   "mimetype": "text/x-python",
   "name": "python",
   "nbconvert_exporter": "python",
   "pygments_lexer": "ipython3",
   "version": "3.11.7"
  }
 },
 "nbformat": 4,
 "nbformat_minor": 5
}
